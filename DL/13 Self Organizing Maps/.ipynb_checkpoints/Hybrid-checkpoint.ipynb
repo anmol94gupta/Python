{
 "cells": [
  {
   "cell_type": "markdown",
   "id": "generic-florida",
   "metadata": {},
   "source": [
    "## SOM"
   ]
  },
  {
   "cell_type": "code",
   "execution_count": 30,
   "id": "considered-spice",
   "metadata": {},
   "outputs": [
    {
     "data": {
      "image/png": "[encoded data removed]",
      "text/plain": [
       "<Figure size 432x288 with 2 Axes>"
      ]
     },
     "metadata": {
      "needs_background": "light"
     },
     "output_type": "display_data"
    }
   ],
   "source": [
    "import numpy as np\n",
    "import pandas as pd\n",
    "import matplotlib.pyplot as plt\n",
    "\n",
    "dataset = pd.read_csv('Credit_Card_Data.csv')\n",
    "X = dataset.iloc[:, :-1].values \n",
    "y = dataset.iloc[:, -1].values\n",
    "\n",
    "# Feature Scaling\n",
    "from sklearn.preprocessing import MinMaxScaler\n",
    "sc = MinMaxScaler(feature_range = (0,1))\n",
    "X = sc.fit_transform(X)\n",
    "\n",
    "# SOM\n",
    "from minisom import MiniSom\n",
    "som = MiniSom(x=10, y=10, input_len= 15, sigma= 1.0, learning_rate = 0.5)\n",
    "som.random_weights_init(X)\n",
    "som.train_random(data = X, num_iteration = 100)\n",
    "\n",
    "# SOM diagram\n",
    "from pylab import bone, pcolor, colorbar, plot, show\n",
    "bone()\n",
    "pcolor(som.distance_map().T)\n",
    "colorbar()\n",
    "markers = ['o', 's']\n",
    "colors = ['r', 'g']\n",
    "for i, x in enumerate(X):\n",
    "    w = som.winner(x)\n",
    "    plot(w[0] + 0.5,\n",
    "         w[1] + 0.5,\n",
    "         markers[y[i]],\n",
    "         markeredgecolor = colors[y[i]],\n",
    "         markerfacecolor = 'None',\n",
    "         markersize = 10,\n",
    "         markeredgewidth = 2)\n",
    "show()"
   ]
  },
  {
   "cell_type": "code",
   "execution_count": 31,
   "id": "pretty-polymer",
   "metadata": {},
   "outputs": [
    {
     "name": "stdout",
     "output_type": "stream",
     "text": [
      "Fraud Customer's\n",
      "15767264\n",
      "15704581\n",
      "15761854\n",
      "15725776\n",
      "15815040\n",
      "15697460\n",
      "15788442\n",
      "15737998\n",
      "15718921\n",
      "15633944\n",
      "15607988\n",
      "15801072\n",
      "15683993\n",
      "15797767\n",
      "15744044\n",
      "15632010\n",
      "15804235\n",
      "15627365\n",
      "15573798\n",
      "15700300\n",
      "15647295\n",
      "15791944\n",
      "15576680\n",
      "15620570\n",
      "15592412\n",
      "15662854\n",
      "15610042\n",
      "15568162\n",
      "15638983\n",
      "15662152\n",
      "15623210\n",
      "15734578\n",
      "15570508\n",
      "15641733\n",
      "15660144\n",
      "15603565\n",
      "15664720\n",
      "15627328\n",
      "15645820\n",
      "15617991\n",
      "15696120\n",
      "15567919\n",
      "15687634\n",
      "15638751\n",
      "15641007\n",
      "15665014\n",
      "15606554\n"
     ]
    }
   ],
   "source": [
    "# Finding and Printing frauds\n",
    "mappings = som.win_map(X)\n",
    "frauds = np.concatenate((mappings[(6,5)], mappings[(1,6)]), axis = 0)\n",
    "#frauds = mappings[(2,5)]\n",
    "frauds = sc.inverse_transform(frauds)\n",
    "\n",
    "print(\"Fraud Customer's\")\n",
    "for i in frauds[:, 0]:\n",
    "  print(int(i))"
   ]
  },
  {
   "cell_type": "markdown",
   "id": "comfortable-manchester",
   "metadata": {},
   "source": [
    "## Going to supervised"
   ]
  },
  {
   "cell_type": "code",
   "execution_count": 35,
   "id": "respective-albert",
   "metadata": {},
   "outputs": [
    {
     "name": "stdout",
     "output_type": "stream",
     "text": [
      "[[1.000e+00 2.208e+01 1.146e+01 ... 1.000e+02 1.213e+03 0.000e+00]\n",
      " [0.000e+00 2.267e+01 7.000e+00 ... 1.600e+02 1.000e+00 0.000e+00]\n",
      " [0.000e+00 2.958e+01 1.750e+00 ... 2.800e+02 1.000e+00 0.000e+00]\n",
      " ...\n",
      " [0.000e+00 1.883e+01 9.540e+00 ... 1.000e+02 1.000e+00 1.000e+00]\n",
      " [0.000e+00 2.742e+01 1.450e+01 ... 1.200e+02 1.200e+01 1.000e+00]\n",
      " [1.000e+00 4.100e+01 4.000e-02 ... 5.600e+02 1.000e+00 1.000e+00]]\n"
     ]
    }
   ],
   "source": [
    "customers = dataset.iloc[:, 1:].values\n",
    "# all columns index 1 and forward\n",
    "print (customers)\n",
    "is_fraud = np.zeros(len(dataset))\n",
    "for i in range(len(dataset)):\n",
    "  if dataset.iloc[i,0] in frauds:\n",
    "    is_fraud[i] = 1\n",
    "    \n",
    "# print(is_fraud)\n",
    "\n",
    "# Feature scaling\n",
    "from sklearn.preprocessing import StandardScaler\n",
    "sc = StandardScaler()\n",
    "customers = sc.fit_transform(customers)\n",
    "#print (customers)"
   ]
  },
  {
   "cell_type": "code",
   "execution_count": 32,
   "id": "unlike-enzyme",
   "metadata": {},
   "outputs": [
    {
     "name": "stdout",
     "output_type": "stream",
     "text": [
      "Train on 690 samples\n",
      "Epoch 1/5\n",
      "690/690 [==============================] - 1s 1ms/sample - loss: 0.6247 - accuracy: 0.8130\n",
      "Epoch 2/5\n",
      "690/690 [==============================] - 0s 709us/sample - loss: 0.4335 - accuracy: 0.9232\n",
      "Epoch 3/5\n",
      "690/690 [==============================] - 0s 712us/sample - loss: 0.3630 - accuracy: 0.9246 - loss: 0.3854 - accura\n",
      "Epoch 4/5\n",
      "690/690 [==============================] - 0s 706us/sample - loss: 0.3193 - accuracy: 0.9290\n",
      "Epoch 5/5\n",
      "690/690 [==============================] - 0s 711us/sample - loss: 0.2875 - accuracy: 0.9290\n",
      "[[1.56769090e+07 1.14464760e-02]\n",
      " [1.55913600e+07 1.96202397e-02]\n",
      " [1.57016870e+07 1.99984908e-02]\n",
      " ...\n",
      " [1.55988020e+07 3.75048399e-01]\n",
      " [1.56647930e+07 3.75732392e-01]\n",
      " [1.57901130e+07 9.64797854e-01]]\n"
     ]
    }
   ],
   "source": [
    "# ANN\n",
    "\n",
    "import tensorflow as tf\n",
    "tf.__version__\n",
    "\n",
    "ann = tf.keras.models.Sequential()\n",
    "\n",
    "#Input layer\n",
    "ann.add(tf.keras.layers.Dense(units=2, activation='relu')) #as dataset is very simple\n",
    "\n",
    "#Output layer\n",
    "ann.add(tf.keras.layers.Dense(units=1, activation='sigmoid'))\n",
    "\n",
    "#Training \n",
    "ann.compile(optimizer = 'adam', loss = 'binary_crossentropy', metrics = ['accuracy'])\n",
    "\n",
    "#To training set\n",
    "ann.fit(customers, is_fraud, batch_size = 1, epochs = 5)\n",
    "\n",
    "#Predicting\n",
    "y_pred = ann.predict(customers)\n",
    "y_pred = np.concatenate((dataset.iloc[:, 0:1].values, y_pred), axis = 1)\n",
    "y_pred = y_pred[y_pred[:, 1].argsort()]  # Sorting by column 1 like spreadsheets\n",
    "\n",
    "print(y_pred)"
   ]
  },
  {
   "cell_type": "code",
   "execution_count": null,
   "id": "inclusive-enzyme",
   "metadata": {},
   "outputs": [],
   "source": []
  }
 ],
 "metadata": {
  "kernelspec": {
   "display_name": "Python 3",
   "language": "python",
   "name": "python3"
  },
  "language_info": {
   "codemirror_mode": {
    "name": "ipython",
    "version": 3
   },
   "file_extension": ".py",
   "mimetype": "text/x-python",
   "name": "python",
   "nbconvert_exporter": "python",
   "pygments_lexer": "ipython3",
   "version": "3.7.9"
  }
 },
 "nbformat": 4,
 "nbformat_minor": 5
}
