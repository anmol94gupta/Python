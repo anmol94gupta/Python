{
 "cells": [
  {
   "cell_type": "markdown",
   "id": "extensive-instruction",
   "metadata": {},
   "source": [
    "## SOM"
   ]
  },
  {
   "cell_type": "code",
   "execution_count": 29,
   "id": "coupled-cornell",
   "metadata": {},
   "outputs": [],
   "source": [
    "import numpy as np\n",
    "import pandas as pd\n",
    "import matplotlib.pyplot as plt"
   ]
  },
  {
   "cell_type": "code",
   "execution_count": 30,
   "id": "experienced-effectiveness",
   "metadata": {},
   "outputs": [],
   "source": [
    "dataset = pd.read_csv('Credit_Card_Data.csv')\n",
    "X = dataset.iloc[:, :-1].values \n",
    "y = dataset.iloc[:, -1].values"
   ]
  },
  {
   "cell_type": "code",
   "execution_count": 31,
   "id": "falling-recruitment",
   "metadata": {},
   "outputs": [],
   "source": [
    "# Feature Scaling\n",
    "from sklearn.preprocessing import MinMaxScaler\n",
    "sc = MinMaxScaler(feature_range = (0,1))\n",
    "X = sc.fit_transform(X)"
   ]
  },
  {
   "cell_type": "code",
   "execution_count": 32,
   "id": "competent-kinase",
   "metadata": {},
   "outputs": [],
   "source": [
    "# SOM\n",
    "from minisom import MiniSom\n",
    "som = MiniSom(x=10, y=10, input_len= 15, sigma= 1.0, learning_rate = 0.5)\n",
    "som.random_weights_init(X)\n",
    "som.train_random(data = X, num_iteration = 100)"
   ]
  },
  {
   "cell_type": "code",
   "execution_count": 33,
   "id": "threatened-brisbane",
   "metadata": {},
   "outputs": [
    {
     "data": {
      "image/png": "[encoded data removed]",
      "text/plain": [
       "<Figure size 432x288 with 2 Axes>"
      ]
     },
     "metadata": {
      "needs_background": "light"
     },
     "output_type": "display_data"
    }
   ],
   "source": [
    "# SOM diagram\n",
    "from pylab import bone, pcolor, colorbar, plot, show\n",
    "bone()\n",
    "pcolor(som.distance_map().T)\n",
    "colorbar()\n",
    "markers = ['o', 's']\n",
    "colors = ['r', 'g']\n",
    "for i, x in enumerate(X):\n",
    "    w = som.winner(x)\n",
    "    plot(w[0] + 0.5,\n",
    "         w[1] + 0.5,\n",
    "         markers[y[i]],\n",
    "         markeredgecolor = colors[y[i]],\n",
    "         markerfacecolor = 'None',\n",
    "         markersize = 10,\n",
    "         markeredgewidth = 2)\n",
    "show()"
   ]
  },
  {
   "cell_type": "code",
   "execution_count": 34,
   "id": "cutting-linux",
   "metadata": {},
   "outputs": [],
   "source": [
    "# Finding and Printing frauds\n",
    "mappings = som.win_map(X)\n",
    "#frauds = np.concatenate((mappings[(6,2)], mappings[(5,5)]), axis = 0)\n",
    "frauds = mappings[(3,2)]\n",
    "frauds = sc.inverse_transform(frauds)"
   ]
  },
  {
   "cell_type": "code",
   "execution_count": 35,
   "id": "inappropriate-responsibility",
   "metadata": {},
   "outputs": [
    {
     "name": "stdout",
     "output_type": "stream",
     "text": [
      "Fraud Customer's\n",
      "15662854\n",
      "15610042\n",
      "15568162\n",
      "15590434\n",
      "15745375\n",
      "15638983\n",
      "15654625\n",
      "15662152\n",
      "15623210\n",
      "15734578\n",
      "15570508\n",
      "15795527\n",
      "15641733\n",
      "15660144\n",
      "15603565\n",
      "15802869\n",
      "15664720\n",
      "15627328\n",
      "15645820\n",
      "15800554\n",
      "15617991\n",
      "15696120\n",
      "15750545\n",
      "15567919\n",
      "15687634\n",
      "15638751\n",
      "15641007\n",
      "15665014\n",
      "15606554\n"
     ]
    }
   ],
   "source": [
    "print(\"Fraud Customer's\")\n",
    "for i in frauds[:, 0]:\n",
    "  print(int(i))"
   ]
  },
  {
   "cell_type": "markdown",
   "id": "close-leeds",
   "metadata": {},
   "source": [
    "## Going to supervised"
   ]
  },
  {
   "cell_type": "code",
   "execution_count": 36,
   "id": "thirty-review",
   "metadata": {},
   "outputs": [],
   "source": [
    "customers = dataset.iloc[:, 1:].values"
   ]
  },
  {
   "cell_type": "code",
   "execution_count": 37,
   "id": "greatest-priority",
   "metadata": {},
   "outputs": [],
   "source": [
    "is_fraud = np.zeros(len(dataset))\n",
    "for i in range(len(dataset)):\n",
    "  if dataset.iloc[i,0] in frauds:\n",
    "    is_fraud[i] = 1"
   ]
  },
  {
   "cell_type": "code",
   "execution_count": 39,
   "id": "married-topic",
   "metadata": {},
   "outputs": [],
   "source": [
    "# print(is_fraud)"
   ]
  },
  {
   "cell_type": "code",
   "execution_count": 40,
   "id": "early-sense",
   "metadata": {},
   "outputs": [],
   "source": [
    "# Feature scaling\n",
    "from sklearn.preprocessing import StandardScaler\n",
    "sc = StandardScaler()\n",
    "customers = sc.fit_transform(customers)"
   ]
  },
  {
   "cell_type": "code",
   "execution_count": 41,
   "id": "christian-harris",
   "metadata": {},
   "outputs": [
    {
     "data": {
      "text/plain": [
       "'2.0.0'"
      ]
     },
     "execution_count": 41,
     "metadata": {},
     "output_type": "execute_result"
    }
   ],
   "source": [
    "# ANN\n",
    "import tensorflow as tf\n",
    "tf.__version__"
   ]
  },
  {
   "cell_type": "code",
   "execution_count": 42,
   "id": "based-anchor",
   "metadata": {},
   "outputs": [],
   "source": [
    "ann = tf.keras.models.Sequential()"
   ]
  },
  {
   "cell_type": "code",
   "execution_count": 43,
   "id": "internal-senator",
   "metadata": {},
   "outputs": [],
   "source": [
    "#Input layer\n",
    "ann.add(tf.keras.layers.Dense(units=2, activation='relu'))"
   ]
  },
  {
   "cell_type": "code",
   "execution_count": 44,
   "id": "maritime-mexico",
   "metadata": {},
   "outputs": [],
   "source": [
    "#Output layer\n",
    "ann.add(tf.keras.layers.Dense(units=1, activation='sigmoid'))"
   ]
  },
  {
   "cell_type": "code",
   "execution_count": 45,
   "id": "complete-tumor",
   "metadata": {},
   "outputs": [],
   "source": [
    "#Training \n",
    "ann.compile(optimizer = 'adam', loss = 'binary_crossentropy', metrics = ['accuracy'])"
   ]
  },
  {
   "cell_type": "code",
   "execution_count": 46,
   "id": "indonesian-trailer",
   "metadata": {},
   "outputs": [
    {
     "name": "stdout",
     "output_type": "stream",
     "text": [
      "Train on 690 samples\n",
      "Epoch 1/10\n",
      "690/690 [==============================] - 1s 1ms/sample - loss: 0.3088 - accuracy: 0.9580\n",
      "Epoch 2/10\n",
      "690/690 [==============================] - 0s 715us/sample - loss: 0.1770 - accuracy: 0.9580\n",
      "Epoch 3/10\n",
      "690/690 [==============================] - 1s 726us/sample - loss: 0.1403 - accuracy: 0.9580\n",
      "Epoch 4/10\n",
      "690/690 [==============================] - 0s 720us/sample - loss: 0.1220 - accuracy: 0.9580\n",
      "Epoch 5/10\n",
      "690/690 [==============================] - 1s 731us/sample - loss: 0.1100 - accuracy: 0.9580\n",
      "Epoch 6/10\n",
      "690/690 [==============================] - 1s 737us/sample - loss: 0.0983 - accuracy: 0.9580\n",
      "Epoch 7/10\n",
      "690/690 [==============================] - 1s 811us/sample - loss: 0.0875 - accuracy: 0.9580\n",
      "Epoch 8/10\n",
      "690/690 [==============================] - 1s 837us/sample - loss: 0.0772 - accuracy: 0.9580\n",
      "Epoch 9/10\n",
      "690/690 [==============================] - 1s 774us/sample - loss: 0.0680 - accuracy: 0.9580\n",
      "Epoch 10/10\n",
      "690/690 [==============================] - 0s 717us/sample - loss: 0.0612 - accuracy: 0.9580\n"
     ]
    },
    {
     "data": {
      "text/plain": [
       "<tensorflow.python.keras.callbacks.History at 0x7fd40e3d4350>"
      ]
     },
     "execution_count": 46,
     "metadata": {},
     "output_type": "execute_result"
    }
   ],
   "source": [
    "#To training set\n",
    "ann.fit(customers, is_fraud, batch_size = 1, epochs = 10)"
   ]
  },
  {
   "cell_type": "code",
   "execution_count": 47,
   "id": "controlled-membership",
   "metadata": {},
   "outputs": [],
   "source": [
    "#Predicting\n",
    "y_pred = ann.predict(customers)\n",
    "y_pred = np.concatenate((dataset.iloc[:, 0:1].values, y_pred), axis = 1)\n",
    "y_pred = y_pred[y_pred[:, 1].argsort()]"
   ]
  },
  {
   "cell_type": "code",
   "execution_count": 48,
   "id": "transsexual-teens",
   "metadata": {},
   "outputs": [
    {
     "name": "stdout",
     "output_type": "stream",
     "text": [
      "[[1.57901130e+07 0.00000000e+00]\n",
      " [1.57997850e+07 4.76837158e-07]\n",
      " [1.57063940e+07 9.53674316e-07]\n",
      " ...\n",
      " [1.56961200e+07 3.60737413e-01]\n",
      " [1.57345780e+07 3.60737413e-01]\n",
      " [1.56232100e+07 3.60737413e-01]]\n"
     ]
    }
   ],
   "source": [
    "print(y_pred)"
   ]
  },
  {
   "cell_type": "code",
   "execution_count": null,
   "id": "indie-fruit",
   "metadata": {},
   "outputs": [],
   "source": []
  }
 ],
 "metadata": {
  "kernelspec": {
   "display_name": "Python 3",
   "language": "python",
   "name": "python3"
  },
  "language_info": {
   "codemirror_mode": {
    "name": "ipython",
    "version": 3
   },
   "file_extension": ".py",
   "mimetype": "text/x-python",
   "name": "python",
   "nbconvert_exporter": "python",
   "pygments_lexer": "ipython3",
   "version": "3.7.9"
  }
 },
 "nbformat": 4,
 "nbformat_minor": 5
}
