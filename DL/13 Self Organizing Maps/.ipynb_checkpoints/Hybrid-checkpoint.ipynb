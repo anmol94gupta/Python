{
 "cells": [
  {
   "cell_type": "markdown",
   "id": "certain-default",
   "metadata": {},
   "source": [
    "## SOM"
   ]
  },
  {
   "cell_type": "code",
   "execution_count": 1,
   "id": "stretch-dispute",
   "metadata": {},
   "outputs": [],
   "source": [
    "import numpy as np\n",
    "import pandas as pd\n",
    "import matplotlib.pyplot as plt"
   ]
  },
  {
   "cell_type": "code",
   "execution_count": 2,
   "id": "supposed-acoustic",
   "metadata": {},
   "outputs": [],
   "source": [
    "dataset = pd.read_csv('Credit_Card_Data.csv')\n",
    "X = dataset.iloc[:, :-1].values \n",
    "y = dataset.iloc[:, -1].values"
   ]
  },
  {
   "cell_type": "code",
   "execution_count": 3,
   "id": "tender-interface",
   "metadata": {},
   "outputs": [],
   "source": [
    "# Feature Scaling\n",
    "from sklearn.preprocessing import MinMaxScaler\n",
    "sc = MinMaxScaler(feature_range = (0,1))\n",
    "X = sc.fit_transform(X)"
   ]
  },
  {
   "cell_type": "code",
   "execution_count": 4,
   "id": "resistant-reaction",
   "metadata": {},
   "outputs": [],
   "source": [
    "# SOM\n",
    "from minisom import MiniSom\n",
    "som = MiniSom(x=10, y=10, input_len= 15, sigma= 1.0, learning_rate = 0.5)\n",
    "som.random_weights_init(X)\n",
    "som.train_random(data = X, num_iteration = 100)"
   ]
  },
  {
   "cell_type": "code",
   "execution_count": 5,
   "id": "secondary-screening",
   "metadata": {},
   "outputs": [
    {
     "data": {
      "image/png": "[encoded data removed]",
      "text/plain": [
       "<Figure size 432x288 with 2 Axes>"
      ]
     },
     "metadata": {
      "needs_background": "light"
     },
     "output_type": "display_data"
    }
   ],
   "source": [
    "# SOM diagram\n",
    "from pylab import bone, pcolor, colorbar, plot, show\n",
    "bone()\n",
    "pcolor(som.distance_map().T)\n",
    "colorbar()\n",
    "markers = ['o', 's']\n",
    "colors = ['r', 'g']\n",
    "for i, x in enumerate(X):\n",
    "    w = som.winner(x)\n",
    "    plot(w[0] + 0.5,\n",
    "         w[1] + 0.5,\n",
    "         markers[y[i]],\n",
    "         markeredgecolor = colors[y[i]],\n",
    "         markerfacecolor = 'None',\n",
    "         markersize = 10,\n",
    "         markeredgewidth = 2)\n",
    "show()"
   ]
  },
  {
   "cell_type": "code",
   "execution_count": 7,
   "id": "running-organizer",
   "metadata": {},
   "outputs": [],
   "source": [
    "# Finding and Printing frauds\n",
    "mappings = som.win_map(X)\n",
    "#frauds = np.concatenate((mappings[(6,2)], mappings[(5,5)]), axis = 0)\n",
    "frauds = mappings[(2,5)]\n",
    "frauds = sc.inverse_transform(frauds)"
   ]
  },
  {
   "cell_type": "code",
   "execution_count": 8,
   "id": "unnecessary-playing",
   "metadata": {},
   "outputs": [
    {
     "name": "stdout",
     "output_type": "stream",
     "text": [
      "Fraud Customer's\n",
      "15687688\n",
      "15638610\n",
      "15789611\n",
      "15668679\n",
      "15738487\n",
      "15649160\n",
      "15773421\n",
      "15682686\n",
      "15781875\n",
      "15809837\n",
      "15621244\n",
      "15636521\n",
      "15632789\n",
      "15761554\n",
      "15707602\n",
      "15811690\n",
      "15815095\n",
      "15720725\n",
      "15567834\n",
      "15591035\n",
      "15672912\n",
      "15694677\n",
      "15598614\n",
      "15772941\n",
      "15608804\n",
      "15631267\n",
      "15611189\n",
      "15759387\n",
      "15712483\n",
      "15572361\n",
      "15698522\n"
     ]
    }
   ],
   "source": [
    "print(\"Fraud Customer's\")\n",
    "for i in frauds[:, 0]:\n",
    "  print(int(i))"
   ]
  },
  {
   "cell_type": "markdown",
   "id": "adequate-chuck",
   "metadata": {},
   "source": [
    "## Going to supervised"
   ]
  },
  {
   "cell_type": "code",
   "execution_count": 9,
   "id": "choice-turtle",
   "metadata": {},
   "outputs": [],
   "source": [
    "customers = dataset.iloc[:, 1:].values"
   ]
  },
  {
   "cell_type": "code",
   "execution_count": 10,
   "id": "ideal-investment",
   "metadata": {},
   "outputs": [],
   "source": [
    "is_fraud = np.zeros(len(dataset))\n",
    "for i in range(len(dataset)):\n",
    "  if dataset.iloc[i,0] in frauds:\n",
    "    is_fraud[i] = 1"
   ]
  },
  {
   "cell_type": "code",
   "execution_count": 11,
   "id": "floppy-provincial",
   "metadata": {},
   "outputs": [],
   "source": [
    "# print(is_fraud)"
   ]
  },
  {
   "cell_type": "code",
   "execution_count": 12,
   "id": "headed-challenge",
   "metadata": {},
   "outputs": [],
   "source": [
    "# Feature scaling\n",
    "from sklearn.preprocessing import StandardScaler\n",
    "sc = StandardScaler()\n",
    "customers = sc.fit_transform(customers)"
   ]
  },
  {
   "cell_type": "code",
   "execution_count": 13,
   "id": "hungarian-participation",
   "metadata": {},
   "outputs": [
    {
     "data": {
      "text/plain": [
       "'2.0.0'"
      ]
     },
     "execution_count": 13,
     "metadata": {},
     "output_type": "execute_result"
    }
   ],
   "source": [
    "# ANN\n",
    "import tensorflow as tf\n",
    "tf.__version__"
   ]
  },
  {
   "cell_type": "code",
   "execution_count": 14,
   "id": "sealed-housing",
   "metadata": {},
   "outputs": [],
   "source": [
    "ann = tf.keras.models.Sequential()"
   ]
  },
  {
   "cell_type": "code",
   "execution_count": 15,
   "id": "geographic-knight",
   "metadata": {},
   "outputs": [],
   "source": [
    "#Input layer\n",
    "ann.add(tf.keras.layers.Dense(units=2, activation='relu'))"
   ]
  },
  {
   "cell_type": "code",
   "execution_count": 16,
   "id": "absolute-redhead",
   "metadata": {},
   "outputs": [],
   "source": [
    "#Output layer\n",
    "ann.add(tf.keras.layers.Dense(units=1, activation='sigmoid'))"
   ]
  },
  {
   "cell_type": "code",
   "execution_count": 17,
   "id": "mechanical-recipient",
   "metadata": {},
   "outputs": [],
   "source": [
    "#Training \n",
    "ann.compile(optimizer = 'adam', loss = 'binary_crossentropy', metrics = ['accuracy'])"
   ]
  },
  {
   "cell_type": "code",
   "execution_count": 18,
   "id": "sexual-macro",
   "metadata": {},
   "outputs": [
    {
     "name": "stdout",
     "output_type": "stream",
     "text": [
      "Train on 690 samples\n",
      "Epoch 1/10\n",
      "690/690 [==============================] - 1s 1ms/sample - loss: 0.4094 - accuracy: 0.9203\n",
      "Epoch 2/10\n",
      "690/690 [==============================] - 1s 770us/sample - loss: 0.2549 - accuracy: 0.9551\n",
      "Epoch 3/10\n",
      "690/690 [==============================] - 1s 760us/sample - loss: 0.1868 - accuracy: 0.9551\n",
      "Epoch 4/10\n",
      "690/690 [==============================] - 1s 745us/sample - loss: 0.1517 - accuracy: 0.9551\n",
      "Epoch 5/10\n",
      "690/690 [==============================] - 1s 737us/sample - loss: 0.1338 - accuracy: 0.9551\n",
      "Epoch 6/10\n",
      "690/690 [==============================] - 1s 739us/sample - loss: 0.1221 - accuracy: 0.9551\n",
      "Epoch 7/10\n",
      "690/690 [==============================] - 1s 752us/sample - loss: 0.1150 - accuracy: 0.9551\n",
      "Epoch 8/10\n",
      "690/690 [==============================] - 1s 754us/sample - loss: 0.1043 - accuracy: 0.9551\n",
      "Epoch 9/10\n",
      "690/690 [==============================] - 1s 751us/sample - loss: 0.0874 - accuracy: 0.9594\n",
      "Epoch 10/10\n",
      "690/690 [==============================] - 1s 750us/sample - loss: 0.0718 - accuracy: 0.9783\n"
     ]
    },
    {
     "data": {
      "text/plain": [
       "<tensorflow.python.keras.callbacks.History at 0x7ff04d189950>"
      ]
     },
     "execution_count": 18,
     "metadata": {},
     "output_type": "execute_result"
    }
   ],
   "source": [
    "#To training set\n",
    "ann.fit(customers, is_fraud, batch_size = 1, epochs = 10)"
   ]
  },
  {
   "cell_type": "code",
   "execution_count": 19,
   "id": "adaptive-terror",
   "metadata": {},
   "outputs": [],
   "source": [
    "#Predicting\n",
    "y_pred = ann.predict(customers)\n",
    "y_pred = np.concatenate((dataset.iloc[:, 0:1].values, y_pred), axis = 1)\n",
    "y_pred = y_pred[y_pred[:, 1].argsort()]"
   ]
  },
  {
   "cell_type": "code",
   "execution_count": 20,
   "id": "sound-prague",
   "metadata": {},
   "outputs": [
    {
     "name": "stdout",
     "output_type": "stream",
     "text": [
      "[[1.56844400e+07 0.00000000e+00]\n",
      " [1.56739070e+07 0.00000000e+00]\n",
      " [1.56993400e+07 0.00000000e+00]\n",
      " ...\n",
      " [1.57734210e+07 7.15645790e-01]\n",
      " [1.55986140e+07 7.19032347e-01]\n",
      " [1.56826860e+07 7.21427619e-01]]\n"
     ]
    }
   ],
   "source": [
    "print(y_pred)"
   ]
  },
  {
   "cell_type": "code",
   "execution_count": null,
   "id": "shared-photograph",
   "metadata": {},
   "outputs": [],
   "source": []
  }
 ],
 "metadata": {
  "kernelspec": {
   "display_name": "Python 3",
   "language": "python",
   "name": "python3"
  },
  "language_info": {
   "codemirror_mode": {
    "name": "ipython",
    "version": 3
   },
   "file_extension": ".py",
   "mimetype": "text/x-python",
   "name": "python",
   "nbconvert_exporter": "python",
   "pygments_lexer": "ipython3",
   "version": "3.7.9"
  }
 },
 "nbformat": 4,
 "nbformat_minor": 5
}
