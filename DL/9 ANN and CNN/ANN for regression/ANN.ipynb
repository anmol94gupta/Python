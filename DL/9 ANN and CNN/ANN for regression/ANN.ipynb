{
 "cells": [
  {
   "cell_type": "code",
   "execution_count": 1,
   "id": "parental-relations",
   "metadata": {},
   "outputs": [],
   "source": [
    "import numpy as np\n",
    "import pandas as pd\n",
    "import tensorflow as tf"
   ]
  },
  {
   "cell_type": "code",
   "execution_count": 2,
   "id": "annual-struggle",
   "metadata": {},
   "outputs": [
    {
     "data": {
      "text/plain": [
       "'2.0.0'"
      ]
     },
     "execution_count": 2,
     "metadata": {},
     "output_type": "execute_result"
    }
   ],
   "source": [
    "tf.__version__"
   ]
  },
  {
   "cell_type": "code",
   "execution_count": 3,
   "id": "specific-field",
   "metadata": {},
   "outputs": [],
   "source": [
    "dataset = pd.read_excel('Folds.xlsx')\n",
    "X = dataset.iloc[:, :-1].values\n",
    "y = dataset.iloc[:, -1].values"
   ]
  },
  {
   "cell_type": "code",
   "execution_count": 4,
   "id": "fourth-amateur",
   "metadata": {},
   "outputs": [],
   "source": [
    "from sklearn.model_selection import train_test_split\n",
    "X_train, X_test, y_train, y_test = train_test_split(X, y, test_size = 0.2, random_state = 0)"
   ]
  },
  {
   "cell_type": "code",
   "execution_count": 5,
   "id": "practical-ivory",
   "metadata": {},
   "outputs": [],
   "source": [
    "#Building ANN"
   ]
  },
  {
   "cell_type": "code",
   "execution_count": 6,
   "id": "ignored-romantic",
   "metadata": {},
   "outputs": [],
   "source": [
    "ann = tf.keras.models.Sequential()"
   ]
  },
  {
   "cell_type": "code",
   "execution_count": 7,
   "id": "rural-david",
   "metadata": {},
   "outputs": [],
   "source": [
    "ann.add(tf.keras.layers.Dense(units=6, activation='relu'))"
   ]
  },
  {
   "cell_type": "code",
   "execution_count": 8,
   "id": "checked-cable",
   "metadata": {},
   "outputs": [],
   "source": [
    "ann.add(tf.keras.layers.Dense(units=6, activation='relu'))"
   ]
  },
  {
   "cell_type": "code",
   "execution_count": 9,
   "id": "limited-feeling",
   "metadata": {},
   "outputs": [],
   "source": [
    "ann.add(tf.keras.layers.Dense(units=1))"
   ]
  },
  {
   "cell_type": "code",
   "execution_count": 10,
   "id": "cosmetic-share",
   "metadata": {},
   "outputs": [],
   "source": [
    "#Training ANN"
   ]
  },
  {
   "cell_type": "code",
   "execution_count": 11,
   "id": "spanish-dollar",
   "metadata": {},
   "outputs": [],
   "source": [
    "ann.compile(optimizer = 'adam', loss = 'mean_squared_error')"
   ]
  },
  {
   "cell_type": "code",
   "execution_count": 12,
   "id": "frank-restriction",
   "metadata": {},
   "outputs": [
    {
     "name": "stdout",
     "output_type": "stream",
     "text": [
      "Train on 7654 samples\n",
      "Epoch 1/100\n",
      "7654/7654 [==============================] - 1s 92us/sample - loss: 20689.1293\n",
      "Epoch 2/100\n",
      "7654/7654 [==============================] - 0s 29us/sample - loss: 132.3034\n",
      "Epoch 3/100\n",
      "7654/7654 [==============================] - 0s 25us/sample - loss: 128.4874\n",
      "Epoch 4/100\n",
      "7654/7654 [==============================] - 0s 25us/sample - loss: 123.8657\n",
      "Epoch 5/100\n",
      "7654/7654 [==============================] - 0s 26us/sample - loss: 118.4157\n",
      "Epoch 6/100\n",
      "7654/7654 [==============================] - 0s 25us/sample - loss: 112.3263\n",
      "Epoch 7/100\n",
      "7654/7654 [==============================] - 0s 25us/sample - loss: 106.4806\n",
      "Epoch 8/100\n",
      "7654/7654 [==============================] - 0s 27us/sample - loss: 99.9713\n",
      "Epoch 9/100\n",
      "7654/7654 [==============================] - 0s 26us/sample - loss: 93.7176\n",
      "Epoch 10/100\n",
      "7654/7654 [==============================] - 0s 25us/sample - loss: 87.5397\n",
      "Epoch 11/100\n",
      "7654/7654 [==============================] - 0s 25us/sample - loss: 81.3154\n",
      "Epoch 12/100\n",
      "7654/7654 [==============================] - 0s 25us/sample - loss: 75.8944\n",
      "Epoch 13/100\n",
      "7654/7654 [==============================] - 0s 25us/sample - loss: 70.6185\n",
      "Epoch 14/100\n",
      "7654/7654 [==============================] - 0s 25us/sample - loss: 65.8218\n",
      "Epoch 15/100\n",
      "7654/7654 [==============================] - 0s 25us/sample - loss: 61.2976\n",
      "Epoch 16/100\n",
      "7654/7654 [==============================] - 0s 25us/sample - loss: 57.5771\n",
      "Epoch 17/100\n",
      "7654/7654 [==============================] - 0s 25us/sample - loss: 54.0467\n",
      "Epoch 18/100\n",
      "7654/7654 [==============================] - 0s 25us/sample - loss: 50.8320\n",
      "Epoch 19/100\n",
      "7654/7654 [==============================] - 0s 25us/sample - loss: 48.1842\n",
      "Epoch 20/100\n",
      "7654/7654 [==============================] - 0s 25us/sample - loss: 45.2662\n",
      "Epoch 21/100\n",
      "7654/7654 [==============================] - 0s 25us/sample - loss: 43.0791\n",
      "Epoch 22/100\n",
      "7654/7654 [==============================] - 0s 25us/sample - loss: 40.9168\n",
      "Epoch 23/100\n",
      "7654/7654 [==============================] - 0s 24us/sample - loss: 39.2385\n",
      "Epoch 24/100\n",
      "7654/7654 [==============================] - 0s 25us/sample - loss: 37.2701\n",
      "Epoch 25/100\n",
      "7654/7654 [==============================] - 0s 25us/sample - loss: 35.7176\n",
      "Epoch 26/100\n",
      "7654/7654 [==============================] - 0s 25us/sample - loss: 34.7325\n",
      "Epoch 27/100\n",
      "7654/7654 [==============================] - 0s 24us/sample - loss: 32.9184\n",
      "Epoch 28/100\n",
      "7654/7654 [==============================] - 0s 25us/sample - loss: 32.5628\n",
      "Epoch 29/100\n",
      "7654/7654 [==============================] - 0s 25us/sample - loss: 31.1714\n",
      "Epoch 30/100\n",
      "7654/7654 [==============================] - 0s 25us/sample - loss: 30.3816\n",
      "Epoch 31/100\n",
      "7654/7654 [==============================] - 0s 24us/sample - loss: 30.0453\n",
      "Epoch 32/100\n",
      "7654/7654 [==============================] - 0s 25us/sample - loss: 29.0830\n",
      "Epoch 33/100\n",
      "7654/7654 [==============================] - 0s 25us/sample - loss: 29.1247\n",
      "Epoch 34/100\n",
      "7654/7654 [==============================] - 0s 25us/sample - loss: 28.0843\n",
      "Epoch 35/100\n",
      "7654/7654 [==============================] - 0s 25us/sample - loss: 28.6799\n",
      "Epoch 36/100\n",
      "7654/7654 [==============================] - 0s 24us/sample - loss: 27.4296\n",
      "Epoch 37/100\n",
      "7654/7654 [==============================] - 0s 25us/sample - loss: 27.4068\n",
      "Epoch 38/100\n",
      "7654/7654 [==============================] - 0s 25us/sample - loss: 27.8050\n",
      "Epoch 39/100\n",
      "7654/7654 [==============================] - 0s 25us/sample - loss: 27.3205\n",
      "Epoch 40/100\n",
      "7654/7654 [==============================] - 0s 25us/sample - loss: 27.9841\n",
      "Epoch 41/100\n",
      "7654/7654 [==============================] - 0s 24us/sample - loss: 27.1929\n",
      "Epoch 42/100\n",
      "7654/7654 [==============================] - 0s 25us/sample - loss: 27.0113\n",
      "Epoch 43/100\n",
      "7654/7654 [==============================] - 0s 25us/sample - loss: 27.7186\n",
      "Epoch 44/100\n",
      "7654/7654 [==============================] - 0s 24us/sample - loss: 27.1911\n",
      "Epoch 45/100\n",
      "7654/7654 [==============================] - 0s 25us/sample - loss: 27.1912\n",
      "Epoch 46/100\n",
      "7654/7654 [==============================] - 0s 25us/sample - loss: 27.4808\n",
      "Epoch 47/100\n",
      "7654/7654 [==============================] - 0s 25us/sample - loss: 28.4064\n",
      "Epoch 48/100\n",
      "7654/7654 [==============================] - 0s 24us/sample - loss: 27.3260\n",
      "Epoch 49/100\n",
      "7654/7654 [==============================] - 0s 24us/sample - loss: 26.9491\n",
      "Epoch 50/100\n",
      "7654/7654 [==============================] - 0s 25us/sample - loss: 27.5356\n",
      "Epoch 51/100\n",
      "7654/7654 [==============================] - 0s 25us/sample - loss: 27.1108\n",
      "Epoch 52/100\n",
      "7654/7654 [==============================] - 0s 24us/sample - loss: 26.7596\n",
      "Epoch 53/100\n",
      "7654/7654 [==============================] - 0s 25us/sample - loss: 27.2196\n",
      "Epoch 54/100\n",
      "7654/7654 [==============================] - 0s 25us/sample - loss: 26.9759\n",
      "Epoch 55/100\n",
      "7654/7654 [==============================] - 0s 25us/sample - loss: 27.3263\n",
      "Epoch 56/100\n",
      "7654/7654 [==============================] - 0s 25us/sample - loss: 27.3783\n",
      "Epoch 57/100\n",
      "7654/7654 [==============================] - 0s 25us/sample - loss: 26.8392\n",
      "Epoch 58/100\n",
      "7654/7654 [==============================] - 0s 25us/sample - loss: 27.4398\n",
      "Epoch 59/100\n",
      "7654/7654 [==============================] - 0s 26us/sample - loss: 27.0547\n",
      "Epoch 60/100\n",
      "7654/7654 [==============================] - 0s 25us/sample - loss: 27.1804\n",
      "Epoch 61/100\n",
      "7654/7654 [==============================] - 0s 25us/sample - loss: 26.9063\n",
      "Epoch 62/100\n",
      "7654/7654 [==============================] - 0s 24us/sample - loss: 27.1108\n",
      "Epoch 63/100\n",
      "7654/7654 [==============================] - 0s 25us/sample - loss: 27.0118\n",
      "Epoch 64/100\n",
      "7654/7654 [==============================] - 0s 27us/sample - loss: 26.6697\n",
      "Epoch 65/100\n",
      "7654/7654 [==============================] - 0s 26us/sample - loss: 27.2230\n",
      "Epoch 66/100\n",
      "7654/7654 [==============================] - 0s 25us/sample - loss: 26.7990\n",
      "Epoch 67/100\n",
      "7654/7654 [==============================] - 0s 25us/sample - loss: 26.5294\n",
      "Epoch 68/100\n",
      "7654/7654 [==============================] - 0s 26us/sample - loss: 27.1667\n",
      "Epoch 69/100\n",
      "7654/7654 [==============================] - 0s 26us/sample - loss: 27.4673\n",
      "Epoch 70/100\n",
      "7654/7654 [==============================] - 0s 26us/sample - loss: 27.1489\n",
      "Epoch 71/100\n",
      "7654/7654 [==============================] - 0s 26us/sample - loss: 26.6596\n",
      "Epoch 72/100\n",
      "7654/7654 [==============================] - 0s 25us/sample - loss: 26.7706\n",
      "Epoch 73/100\n",
      "7654/7654 [==============================] - 0s 25us/sample - loss: 26.8914\n",
      "Epoch 74/100\n",
      "7654/7654 [==============================] - 0s 26us/sample - loss: 26.6069\n",
      "Epoch 75/100\n",
      "7654/7654 [==============================] - 0s 25us/sample - loss: 26.8727\n",
      "Epoch 76/100\n",
      "7654/7654 [==============================] - 0s 26us/sample - loss: 27.1421\n",
      "Epoch 77/100\n",
      "7654/7654 [==============================] - 0s 25us/sample - loss: 26.4968\n",
      "Epoch 78/100\n",
      "7654/7654 [==============================] - 0s 25us/sample - loss: 26.4673\n",
      "Epoch 79/100\n",
      "7654/7654 [==============================] - 0s 26us/sample - loss: 27.9221\n",
      "Epoch 80/100\n",
      "7654/7654 [==============================] - 0s 28us/sample - loss: 26.4612\n",
      "Epoch 81/100\n",
      "7654/7654 [==============================] - 0s 26us/sample - loss: 27.2120\n",
      "Epoch 82/100\n",
      "7654/7654 [==============================] - 0s 25us/sample - loss: 26.8224\n",
      "Epoch 83/100\n",
      "7654/7654 [==============================] - 0s 25us/sample - loss: 26.5154\n",
      "Epoch 84/100\n",
      "7654/7654 [==============================] - 0s 29us/sample - loss: 27.0902\n",
      "Epoch 85/100\n",
      "7654/7654 [==============================] - 0s 29us/sample - loss: 26.8750\n",
      "Epoch 86/100\n",
      "7654/7654 [==============================] - 0s 26us/sample - loss: 26.6907\n",
      "Epoch 87/100\n",
      "7654/7654 [==============================] - 0s 25us/sample - loss: 26.6666\n",
      "Epoch 88/100\n",
      "7654/7654 [==============================] - 0s 25us/sample - loss: 26.1434\n",
      "Epoch 89/100\n",
      "7654/7654 [==============================] - 0s 26us/sample - loss: 25.8378\n",
      "Epoch 90/100\n",
      "7654/7654 [==============================] - 0s 25us/sample - loss: 25.9004\n",
      "Epoch 91/100\n",
      "7654/7654 [==============================] - 0s 25us/sample - loss: 25.8023\n",
      "Epoch 92/100\n",
      "7654/7654 [==============================] - 0s 25us/sample - loss: 24.8782\n",
      "Epoch 93/100\n",
      "7654/7654 [==============================] - 0s 25us/sample - loss: 24.6630\n",
      "Epoch 94/100\n",
      "7654/7654 [==============================] - 0s 26us/sample - loss: 25.0291\n",
      "Epoch 95/100\n",
      "7654/7654 [==============================] - 0s 26us/sample - loss: 24.4619\n",
      "Epoch 96/100\n",
      "7654/7654 [==============================] - 0s 25us/sample - loss: 24.4949\n",
      "Epoch 97/100\n",
      "7654/7654 [==============================] - 0s 25us/sample - loss: 24.2986\n",
      "Epoch 98/100\n",
      "7654/7654 [==============================] - 0s 25us/sample - loss: 24.4624\n",
      "Epoch 99/100\n",
      "7654/7654 [==============================] - 0s 25us/sample - loss: 25.0942\n",
      "Epoch 100/100\n",
      "7654/7654 [==============================] - 0s 25us/sample - loss: 24.4014\n"
     ]
    },
    {
     "data": {
      "text/plain": [
       "<tensorflow.python.keras.callbacks.History at 0x7faea85e2e90>"
      ]
     },
     "execution_count": 12,
     "metadata": {},
     "output_type": "execute_result"
    }
   ],
   "source": [
    "ann.fit(X_train, y_train, batch_size = 32, epochs = 100)"
   ]
  },
  {
   "cell_type": "code",
   "execution_count": 13,
   "id": "determined-vancouver",
   "metadata": {},
   "outputs": [
    {
     "name": "stdout",
     "output_type": "stream",
     "text": [
      "[[432.65 431.23]\n",
      " [461.65 460.01]\n",
      " [468.01 461.14]\n",
      " ...\n",
      " [474.14 473.26]\n",
      " [439.58 438.  ]\n",
      " [459.57 463.28]]\n"
     ]
    }
   ],
   "source": [
    "y_pred = ann.predict(X_test)\n",
    "np.set_printoptions(precision=2)\n",
    "print(np.concatenate((y_pred.reshape(len(y_pred),1), y_test.reshape(len(y_test),1)),1))"
   ]
  },
  {
   "cell_type": "code",
   "execution_count": 49,
   "id": "steady-citizen",
   "metadata": {},
   "outputs": [],
   "source": [
    "P=y_pred.reshape(len(y_pred),1)\n",
    "Q=y_test.reshape(len(y_test),1)"
   ]
  },
  {
   "cell_type": "code",
   "execution_count": 50,
   "id": "appropriate-montreal",
   "metadata": {},
   "outputs": [
    {
     "data": {
      "image/png": "[encoded data removed]",
      "text/plain": [
       "<Figure size 432x288 with 1 Axes>"
      ]
     },
     "metadata": {
      "needs_background": "light"
     },
     "output_type": "display_data"
    }
   ],
   "source": [
    "import matplotlib.pyplot as plt\n",
    "plt.scatter(P,Q, color = 'green')\n",
    "plt.title('Truth or Bluff (SVR)')\n",
    "plt.xlabel('Position level')\n",
    "plt.ylabel('Salary')\n",
    "plt.show()"
   ]
  },
  {
   "cell_type": "code",
   "execution_count": 69,
   "id": "handled-provincial",
   "metadata": {},
   "outputs": [
    {
     "name": "stdout",
     "output_type": "stream",
     "text": [
      "MAX =  33.33407104492187\n",
      "MIN =  -13.71651367187502\n",
      "Average =  0.3686009032948012\n"
     ]
    }
   ],
   "source": [
    "a=[]\n",
    "for i in range (len(P)):\n",
    "    #print(P[i]-Q[i])\n",
    "    a.append(float(P[i]-Q[i]))\n",
    "print(\"MAX = \",max(a))\n",
    "print(\"MIN = \",min(a))\n",
    "print(\"Average = \",sum(a)/len(a))"
   ]
  }
 ],
 "metadata": {
  "kernelspec": {
   "display_name": "Python 3",
   "language": "python",
   "name": "python3"
  },
  "language_info": {
   "codemirror_mode": {
    "name": "ipython",
    "version": 3
   },
   "file_extension": ".py",
   "mimetype": "text/x-python",
   "name": "python",
   "nbconvert_exporter": "python",
   "pygments_lexer": "ipython3",
   "version": "3.7.9"
  }
 },
 "nbformat": 4,
 "nbformat_minor": 5
}
