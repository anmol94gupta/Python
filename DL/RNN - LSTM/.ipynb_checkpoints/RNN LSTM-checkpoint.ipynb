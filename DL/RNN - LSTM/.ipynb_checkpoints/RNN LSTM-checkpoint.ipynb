{
 "cells": [
  {
   "cell_type": "code",
   "execution_count": 1,
   "id": "micro-niagara",
   "metadata": {},
   "outputs": [],
   "source": [
    "import numpy as np\n",
    "import matplotlib.pyplot as plt\n",
    "import pandas as pd"
   ]
  },
  {
   "cell_type": "code",
   "execution_count": 2,
   "id": "standard-finish",
   "metadata": {},
   "outputs": [],
   "source": [
    "dataset_train = pd.read_csv('Google_Stock_Price_Train.csv')\n",
    "training_set = dataset_train.iloc[:, 1:2].values\n",
    "#We did not just put 1, As we want a numpy array and not a simple vector"
   ]
  },
  {
   "cell_type": "code",
   "execution_count": 3,
   "id": "saved-single",
   "metadata": {},
   "outputs": [],
   "source": [
    "from sklearn.preprocessing import MinMaxScaler\n",
    "sc = MinMaxScaler(feature_range = (0, 1))\n",
    "training_set_scaled = sc.fit_transform(training_set)"
   ]
  },
  {
   "cell_type": "markdown",
   "id": "other-debate",
   "metadata": {},
   "source": [
    "<img src=\"SDvsNM.png\" width = 500px>"
   ]
  },
  {
   "cell_type": "code",
   "execution_count": 4,
   "id": "actual-orange",
   "metadata": {},
   "outputs": [],
   "source": [
    "X_train = []\n",
    "y_train = []\n",
    "# The range starting from 60 was selected based on multiple trials\n",
    "for i in range(60, 1258):\n",
    "    X_train.append(training_set_scaled[i-60:i, 0])\n",
    "    # We are using the last 60 samples to predict for the future.\n",
    "    y_train.append(training_set_scaled[i, 0])\n",
    "X_train, y_train = np.array(X_train), np.array(y_train)\n",
    "# Xtrain is the array for training constituting value of last 60 days, kind of a sliding window.\n",
    "# Starting at t = 60\n",
    "# Wereas y_train is the output corresponding to the 60 values of respective rows in X_train"
   ]
  },
  {
   "cell_type": "code",
   "execution_count": 5,
   "id": "usual-buddy",
   "metadata": {},
   "outputs": [],
   "source": [
    "# Currently we are using only 'Open price' for pridiction. The following step helps us add any furhter indicators if needed.\n",
    "# .shape is used so that it runs on any data\n",
    "X_train = np.reshape(X_train, (X_train.shape[0], X_train.shape[1], 1))"
   ]
  },
  {
   "cell_type": "code",
   "execution_count": 6,
   "id": "adverse-hundred",
   "metadata": {},
   "outputs": [],
   "source": [
    "#Building and Training RNN"
   ]
  },
  {
   "cell_type": "code",
   "execution_count": 7,
   "id": "homeless-integration",
   "metadata": {},
   "outputs": [
    {
     "name": "stderr",
     "output_type": "stream",
     "text": [
      "Using TensorFlow backend.\n"
     ]
    }
   ],
   "source": [
    "from keras.models import Sequential\n",
    "from keras.layers import Dense\n",
    "from keras.layers import LSTM\n",
    "from keras.layers import Dropout"
   ]
  },
  {
   "cell_type": "code",
   "execution_count": 8,
   "id": "metropolitan-junior",
   "metadata": {},
   "outputs": [],
   "source": [
    "# Initializing\n",
    "regressor = Sequential()\n",
    "# Adding the first LSTM layer and some Dropout regularisation\n",
    "# return requence = trues as it is stacked LSTM. As we are giving return in these layers, but not in the last one.\n",
    "regressor.add(LSTM(units = 50, return_sequences = True, input_shape = (X_train.shape[1], 1)))\n",
    "regressor.add(Dropout(0.2)) # Dropping 20% of neurons \n",
    "# Adding the second LSTM layer \n",
    "regressor.add(LSTM(units = 50, return_sequences = True))\n",
    "regressor.add(Dropout(0.2))\n",
    "# Adding the third LSTM layer \n",
    "regressor.add(LSTM(units = 50, return_sequences = True))\n",
    "regressor.add(Dropout(0.2))\n",
    "# Adding the fourth LSTM layer \n",
    "regressor.add(LSTM(units = 50))\n",
    "regressor.add(Dropout(0.2))\n",
    "# Adding the output layer\n",
    "regressor.add(Dense(units = 1)) \n",
    "# Units = Dimension of the output, 1 in this case as out output will be the stock price.\n",
    "# Compiling the RNN\n",
    "regressor.compile(optimizer = 'adam', loss = 'mean_squared_error')"
   ]
  },
  {
   "cell_type": "code",
   "execution_count": 9,
   "id": "charitable-worship",
   "metadata": {},
   "outputs": [
    {
     "name": "stdout",
     "output_type": "stream",
     "text": [
      "Epoch 1/10\n",
      "1198/1198 [==============================] - 22s 18ms/step - loss: 0.0422\n",
      "Epoch 2/10\n",
      "1198/1198 [==============================] - 18s 15ms/step - loss: 0.0079\n",
      "Epoch 3/10\n",
      "1198/1198 [==============================] - 18s 15ms/step - loss: 0.0065\n",
      "Epoch 4/10\n",
      "1198/1198 [==============================] - 18s 15ms/step - loss: 0.0061\n",
      "Epoch 5/10\n",
      "1198/1198 [==============================] - 18s 15ms/step - loss: 0.0053\n",
      "Epoch 6/10\n",
      "1198/1198 [==============================] - 18s 15ms/step - loss: 0.0049\n",
      "Epoch 7/10\n",
      "1198/1198 [==============================] - 18s 15ms/step - loss: 0.0047\n",
      "Epoch 8/10\n",
      "1198/1198 [==============================] - 18s 15ms/step - loss: 0.0047\n",
      "Epoch 9/10\n",
      "1198/1198 [==============================] - 19s 16ms/step - loss: 0.0052\n",
      "Epoch 10/10\n",
      "1198/1198 [==============================] - 19s 16ms/step - loss: 0.0044\n"
     ]
    },
    {
     "data": {
      "text/plain": [
       "<keras.callbacks.callbacks.History at 0x7fa7d4065450>"
      ]
     },
     "execution_count": 9,
     "metadata": {},
     "output_type": "execute_result"
    }
   ],
   "source": [
    "#Fitting RNN\n",
    "regressor.fit(X_train, y_train, epochs = 10, batch_size = 32)"
   ]
  },
  {
   "cell_type": "code",
   "execution_count": 10,
   "id": "cooperative-transportation",
   "metadata": {},
   "outputs": [],
   "source": [
    "# Getting real stock price\n",
    "dataset_test = pd.read_csv('Google_Stock_Price_Test.csv')\n",
    "real_stock_price = dataset_test.iloc[:, 1:2].values\n",
    "\n",
    "# Getting predicted stock price\n",
    "dataset_total = pd.concat((dataset_train['Open'], dataset_test['Open']), axis = 0)\n",
    "inputs = dataset_total[len(dataset_total) - len(dataset_test) - 60:].values\n",
    "inputs = inputs.reshape(-1,1)\n",
    "inputs = sc.transform(inputs)\n",
    "X_test = []\n",
    "for i in range(60, 80):\n",
    "    X_test.append(inputs[i-60:i, 0])\n",
    "X_test = np.array(X_test)\n",
    "X_test = np.reshape(X_test, (X_test.shape[0], X_test.shape[1], 1))\n",
    "predicted_stock_price = regressor.predict(X_test)\n",
    "predicted_stock_price = sc.inverse_transform(predicted_stock_price)"
   ]
  },
  {
   "cell_type": "code",
   "execution_count": 11,
   "id": "czech-sewing",
   "metadata": {},
   "outputs": [
    {
     "data": {
      "image/png": "[encoded data removed]",
      "text/plain": [
       "<Figure size 432x288 with 1 Axes>"
      ]
     },
     "metadata": {
      "needs_background": "light"
     },
     "output_type": "display_data"
    }
   ],
   "source": [
    "# Plotting\n",
    "plt.plot(real_stock_price, color = 'red', label = 'Real Google Stock Price')\n",
    "plt.plot(predicted_stock_price, color = 'blue', label = 'Predicted Google Stock Price')\n",
    "plt.title('Google Stock Price Prediction')\n",
    "plt.xlabel('Time')\n",
    "plt.ylabel('Google Stock Price')\n",
    "plt.legend()\n",
    "plt.show()"
   ]
  },
  {
   "cell_type": "code",
   "execution_count": 15,
   "id": "brutal-cambodia",
   "metadata": {},
   "outputs": [],
   "source": [
    "# Above: output with 100 epochs"
   ]
  },
  {
   "cell_type": "code",
   "execution_count": 12,
   "id": "nonprofit-colon",
   "metadata": {},
   "outputs": [],
   "source": [
    "dataset_test = pd.read_csv('Google_Stock_Price_Test.csv')\n",
    "real_stock_price = dataset_test.iloc[:, 1:2].values"
   ]
  },
  {
   "cell_type": "code",
   "execution_count": 13,
   "id": "confused-tribune",
   "metadata": {},
   "outputs": [
    {
     "name": "stdout",
     "output_type": "stream",
     "text": [
      "[[778.81]\n",
      " [788.36]\n",
      " [786.08]\n",
      " [795.26]\n",
      " [806.4 ]\n",
      " [807.86]\n",
      " [805.  ]\n",
      " [807.14]\n",
      " [807.48]\n",
      " [807.08]\n",
      " [805.81]\n",
      " [805.12]\n",
      " [806.91]\n",
      " [807.25]\n",
      " [822.3 ]\n",
      " [829.62]\n",
      " [837.81]\n",
      " [834.71]\n",
      " [814.66]\n",
      " [796.86]]\n"
     ]
    }
   ],
   "source": [
    "print(real_stock_price)"
   ]
  },
  {
   "cell_type": "code",
   "execution_count": null,
   "id": "muslim-killing",
   "metadata": {},
   "outputs": [],
   "source": [
    "# Below: Results With 200 epochs"
   ]
  },
  {
   "cell_type": "markdown",
   "id": "amateur-nature",
   "metadata": {},
   "source": [
    "<img src=\"Improvements.png\" >"
   ]
  },
  {
   "cell_type": "code",
   "execution_count": null,
   "id": "pending-particular",
   "metadata": {},
   "outputs": [],
   "source": []
  }
 ],
 "metadata": {
  "kernelspec": {
   "display_name": "Python 3",
   "language": "python",
   "name": "python3"
  },
  "language_info": {
   "codemirror_mode": {
    "name": "ipython",
    "version": 3
   },
   "file_extension": ".py",
   "mimetype": "text/x-python",
   "name": "python",
   "nbconvert_exporter": "python",
   "pygments_lexer": "ipython3",
   "version": "3.7.9"
  }
 },
 "nbformat": 4,
 "nbformat_minor": 5
}
