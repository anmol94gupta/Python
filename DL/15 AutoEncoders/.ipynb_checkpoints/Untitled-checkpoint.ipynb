{
 "cells": [
  {
   "cell_type": "code",
   "execution_count": 1,
   "id": "inside-letter",
   "metadata": {},
   "outputs": [],
   "source": [
    "import numpy.random as rand\n",
    "import pandas as pd"
   ]
  },
  {
   "cell_type": "code",
   "execution_count": 2,
   "id": "recovered-schema",
   "metadata": {},
   "outputs": [],
   "source": [
    "\n",
    "def AskUser_for_keyLength():\n",
    "    userInput_isnt_Valid = True \n",
    "    while userInput_isnt_Valid:\n",
    "        try:\n",
    "            userInput = int(input(\"Please enter the number of qubits to use: \"))\n",
    "        except ValueError: \n",
    "            print(\"Error: Not an integer number.\")\n",
    "            continue\n",
    "        userInput_isnt_Valid = False\n",
    "    return userInput"
   ]
  },
  {
   "cell_type": "code",
   "execution_count": 3,
   "id": "martial-concentrate",
   "metadata": {},
   "outputs": [],
   "source": [
    "def generateMessage(userInput):\n",
    "    return rand.randint(2,size=userInput)\n",
    "\n",
    "def chooseBasis(messageLength):\n",
    "    \"\"\"\n",
    "    0 represents {0,1} 'rectilinear' basis\n",
    "    1 represents {+,-} 'diagonal' basis\n",
    "    \"\"\"\n",
    "    return rand.randint(2,size=messageLength)"
   ]
  },
  {
   "cell_type": "code",
   "execution_count": 4,
   "id": "dramatic-situation",
   "metadata": {},
   "outputs": [],
   "source": [
    "def encodeBit(basis, bit):\n",
    "    if basis == 0: # {0,1} basis\n",
    "        if bit == 0:\n",
    "            return '0'\n",
    "        elif bit == 1:\n",
    "            return '1'\n",
    "\n",
    "    elif basis == 1: # {+,-} basis\n",
    "        if bit == 0:\n",
    "            return '+'\n",
    "        elif bit == 1:\n",
    "            return '-'\n"
   ]
  },
  {
   "cell_type": "code",
   "execution_count": 5,
   "id": "permanent-cardiff",
   "metadata": {},
   "outputs": [],
   "source": [
    "def makeMeasurement(basis,state):\n",
    "    if basis == 0: # {0,1} basis\n",
    "        if state == '0' or state =='1':\n",
    "            return state\n",
    "        \n",
    "        elif state == '+' or state =='-':\n",
    "            return str(rand.randint(2))\n",
    "            \n",
    "    elif basis == 1: # {+,-} basis\n",
    "        if state == '+' or state =='-':\n",
    "            return state\n",
    "        \n",
    "        elif state == '0' or state =='1':\n",
    "            return str(rand.randint(2))"
   ]
  },
  {
   "cell_type": "code",
   "execution_count": 6,
   "id": "fresh-panic",
   "metadata": {},
   "outputs": [],
   "source": [
    "            \n",
    "def publicDiscussion(Alice_Basis,Bob_Basis):\n",
    "    if Alice_Basis == Bob_Basis:\n",
    "        return 1\n",
    "    else:\n",
    "        return 0"
   ]
  },
  {
   "cell_type": "code",
   "execution_count": 7,
   "id": "wound-instruction",
   "metadata": {},
   "outputs": [],
   "source": [
    "columnNames = [\"Message\",\"Alice's Basis\",\"Alice's Polarisation\",\n",
    "               \"Bob's Basis\",\"Bob's Measurement\",\"Do they agree?\"]\n",
    "table = pd.DataFrame(columns = columnNames)"
   ]
  },
  {
   "cell_type": "code",
   "execution_count": 8,
   "id": "based-playback",
   "metadata": {},
   "outputs": [
    {
     "name": "stdin",
     "output_type": "stream",
     "text": [
      "Please enter the number of qubits to use:  10\n"
     ]
    }
   ],
   "source": [
    "msgLength = AskUser_for_keyLength()   "
   ]
  },
  {
   "cell_type": "code",
   "execution_count": 9,
   "id": "manual-meditation",
   "metadata": {},
   "outputs": [],
   "source": [
    "message = generateMessage(msgLength)\n"
   ]
  },
  {
   "cell_type": "code",
   "execution_count": 10,
   "id": "established-isaac",
   "metadata": {},
   "outputs": [],
   "source": [
    "table[columnNames[0]] = message"
   ]
  },
  {
   "cell_type": "code",
   "execution_count": 11,
   "id": "considered-nicholas",
   "metadata": {},
   "outputs": [],
   "source": [
    "Alice_Basis = chooseBasis(msgLength)\n",
    "table[columnNames[1]] = Alice_Basis"
   ]
  },
  {
   "cell_type": "code",
   "execution_count": 12,
   "id": "catholic-bouquet",
   "metadata": {},
   "outputs": [],
   "source": [
    "encodedMessage = []\n",
    "for i in range(msgLength):\n",
    "    \n",
    "    classical_Bit = message[i]\n",
    "    Alice_chosenBasis = Alice_Basis[i]\n",
    "    \n",
    "    state = encodeBit(Alice_chosenBasis, classical_Bit)\n",
    "    \n",
    "    encodedMessage.append(state)\n",
    "\n",
    "table[columnNames[2]] = encodedMessage"
   ]
  },
  {
   "cell_type": "code",
   "execution_count": 13,
   "id": "novel-violence",
   "metadata": {},
   "outputs": [],
   "source": [
    "\n",
    "Bob_Basis = chooseBasis(msgLength)\n",
    "table[columnNames[3]] = Bob_Basis "
   ]
  },
  {
   "cell_type": "code",
   "execution_count": 14,
   "id": "premium-wedding",
   "metadata": {},
   "outputs": [],
   "source": [
    "measuredMessage = []\n",
    "for i in range(msgLength):\n",
    "    \n",
    "    state_to_Measure = encodedMessage[i]\n",
    "    Bob_chosenBasis = Bob_Basis[i]\n",
    "    measuredState = makeMeasurement(Bob_chosenBasis, state_to_Measure)\n",
    "    measuredMessage.append(measuredState)\n",
    "    \n",
    "table[columnNames[4]] = measuredMessage "
   ]
  },
  {
   "cell_type": "code",
   "execution_count": 15,
   "id": "joint-atlanta",
   "metadata": {},
   "outputs": [],
   "source": [
    "bitsAgreed = []\n",
    "for i in range(msgLength):\n",
    "    \n",
    "    Alice_chosenBasis = Alice_Basis[i]\n",
    "    Bob_chosenBasis = Bob_Basis[i]\n",
    "    \n",
    "    consensus = publicDiscussion(Alice_chosenBasis,Bob_chosenBasis)\n",
    "    \n",
    "    bitsAgreed.append(consensus)\n",
    "    \n",
    "table[columnNames[5]] = bitsAgreed"
   ]
  },
  {
   "cell_type": "code",
   "execution_count": 16,
   "id": "light-swiss",
   "metadata": {},
   "outputs": [
    {
     "name": "stdout",
     "output_type": "stream",
     "text": [
      "Your key is:  0010100\n"
     ]
    }
   ],
   "source": [
    "key=''\n",
    "for i in range(msgLength):\n",
    "    message_Bit = message[i]\n",
    "    A_and_B_agree = bitsAgreed[i]\n",
    "    \n",
    "    if A_and_B_agree:\n",
    "        key+=str(message_Bit)\n",
    "    else:\n",
    "        continue\n",
    "print(\"Your key is: \", key)"
   ]
  },
  {
   "cell_type": "code",
   "execution_count": null,
   "id": "adjacent-webcam",
   "metadata": {},
   "outputs": [],
   "source": []
  }
 ],
 "metadata": {
  "kernelspec": {
   "display_name": "Python 3",
   "language": "python",
   "name": "python3"
  },
  "language_info": {
   "codemirror_mode": {
    "name": "ipython",
    "version": 3
   },
   "file_extension": ".py",
   "mimetype": "text/x-python",
   "name": "python",
   "nbconvert_exporter": "python",
   "pygments_lexer": "ipython3",
   "version": "3.7.9"
  }
 },
 "nbformat": 4,
 "nbformat_minor": 5
}
