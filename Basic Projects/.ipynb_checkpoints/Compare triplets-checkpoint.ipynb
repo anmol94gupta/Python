{
 "cells": [
  {
   "cell_type": "code",
   "execution_count": 22,
   "metadata": {},
   "outputs": [
    {
     "name": "stdout",
     "output_type": "stream",
     "text": [
      "6\n",
      "1 2 YES\n",
      "2 3 YES\n",
      "3 4 YES\n",
      "4 5 YES\n",
      "No\n",
      "6 67 YES\n"
     ]
    }
   ],
   "source": [
    "a= [1,2,3,4,56,6]\n",
    "b= [2,3,4,5,6,67]\n",
    "i=0\n",
    "p=len(a)\n",
    "print(p)\n",
    "while i < p :\n",
    "    if a[i] < b[i]:\n",
    "        print (a[i],b[i],\"YES\")\n",
    "    else:\n",
    "        print (\"No\")\n",
    "    i=i+1\n"
   ]
  },
  {
   "cell_type": "code",
   "execution_count": null,
   "metadata": {},
   "outputs": [],
   "source": []
  },
  {
   "cell_type": "code",
   "execution_count": 57,
   "metadata": {},
   "outputs": [
    {
     "name": "stdout",
     "output_type": "stream",
     "text": [
      "3\n",
      "11 4\n",
      "16 9\n",
      "4 19\n",
      "4 19\n",
      "15\n"
     ]
    }
   ],
   "source": [
    "def dD(arr):\n",
    "    x=0\n",
    "    y=len(arr)\n",
    "    print(len(arr))\n",
    "    d1=0\n",
    "    d2=0\n",
    "    while x < y:\n",
    "        d1 = d1 + arr[x][x] \n",
    "        d2 = d2 + arr[x][y-x-1]\n",
    "        print(d1,d2)\n",
    "        x=x+1\n",
    "    print(d1,d2)\n",
    "    diff = d1-d2\n",
    "    re = abs(diff)\n",
    "    print (re)\n",
    "P = [[11, 2, 4], [4, 5,6], [10,8,-12]]\n",
    "dD(P)\n"
   ]
  },
  {
   "cell_type": "code",
   "execution_count": 78,
   "metadata": {},
   "outputs": [
    {
     "name": "stdout",
     "output_type": "stream",
     "text": [
      "5\n",
      "print (type(zeroes))\n"
     ]
    },
    {
     "ename": "ValueError",
     "evalue": "invalid literal for int() with base 10: 'print'",
     "output_type": "error",
     "traceback": [
      "\u001b[0;31m---------------------------------------------------------------------------\u001b[0m",
      "\u001b[0;31mValueError\u001b[0m                                Traceback (most recent call last)",
      "\u001b[0;32m<ipython-input-78-f2d6c0f50f36>\u001b[0m in \u001b[0;36m<module>\u001b[0;34m\u001b[0m\n\u001b[1;32m      1\u001b[0m \u001b[0mn\u001b[0m \u001b[0;34m=\u001b[0m \u001b[0mint\u001b[0m\u001b[0;34m(\u001b[0m\u001b[0minput\u001b[0m\u001b[0;34m(\u001b[0m\u001b[0;34m)\u001b[0m\u001b[0;34m)\u001b[0m\u001b[0;34m\u001b[0m\u001b[0;34m\u001b[0m\u001b[0m\n\u001b[0;32m----> 2\u001b[0;31m \u001b[0marr\u001b[0m \u001b[0;34m=\u001b[0m \u001b[0mlist\u001b[0m\u001b[0;34m(\u001b[0m\u001b[0mmap\u001b[0m\u001b[0;34m(\u001b[0m\u001b[0mint\u001b[0m\u001b[0;34m,\u001b[0m \u001b[0minput\u001b[0m\u001b[0;34m(\u001b[0m\u001b[0;34m)\u001b[0m\u001b[0;34m.\u001b[0m\u001b[0mrstrip\u001b[0m\u001b[0;34m(\u001b[0m\u001b[0;34m)\u001b[0m\u001b[0;34m.\u001b[0m\u001b[0msplit\u001b[0m\u001b[0;34m(\u001b[0m\u001b[0;34m)\u001b[0m\u001b[0;34m)\u001b[0m\u001b[0;34m)\u001b[0m\u001b[0;34m\u001b[0m\u001b[0;34m\u001b[0m\u001b[0m\n\u001b[0m\u001b[1;32m      3\u001b[0m \u001b[0;32mdef\u001b[0m \u001b[0mplusMinus\u001b[0m\u001b[0;34m(\u001b[0m\u001b[0marr\u001b[0m\u001b[0;34m)\u001b[0m\u001b[0;34m:\u001b[0m\u001b[0;34m\u001b[0m\u001b[0;34m\u001b[0m\u001b[0m\n\u001b[1;32m      4\u001b[0m     \u001b[0mp\u001b[0m\u001b[0;34m=\u001b[0m\u001b[0;36m0\u001b[0m\u001b[0;34m\u001b[0m\u001b[0;34m\u001b[0m\u001b[0m\n\u001b[1;32m      5\u001b[0m     \u001b[0mn\u001b[0m\u001b[0;34m=\u001b[0m\u001b[0;36m0\u001b[0m\u001b[0;34m\u001b[0m\u001b[0;34m\u001b[0m\u001b[0m\n",
      "\u001b[0;31mValueError\u001b[0m: invalid literal for int() with base 10: 'print'"
     ]
    }
   ],
   "source": [
    "\n",
    "\n",
    "n = int(input())\n",
    "arr = list(map(int, input().rstrip().split()))\n",
    "def plusMinus(arr):\n",
    "    p=0\n",
    "    n=0\n",
    "    z=0\n",
    "    t=len(arr)\n",
    "    for i in arr:\n",
    "        if i == 0:\n",
    "            z=z+1\n",
    "        elif i > 0:\n",
    "            p=p+1\n",
    "        elif i < 0:\n",
    "            n=n+1\n",
    "            \n",
    "    positives=format((p/t),'.6f')\n",
    "    negatives=format((n/t),'.6f')\n",
    "    zeroes=format((z/t),'.6f')\n",
    "    type(zeroes)\n",
    "    return(positives,\n",
    "           negatives,\n",
    "           zeroes)\n",
    "    \n",
    "\n",
    "plusMinus(arr)"
   ]
  },
  {
   "cell_type": "markdown",
   "metadata": {},
   "source": [
    "x=\" \"*5-1\n",
    "y=\"#\"*i\n",
    "print(x,y)"
   ]
  },
  {
   "cell_type": "code",
   "execution_count": 82,
   "metadata": {},
   "outputs": [
    {
     "name": "stdout",
     "output_type": "stream",
     "text": [
      "      #\n",
      "     ##\n",
      "    ###\n",
      "   ####\n",
      "  #####\n"
     ]
    }
   ],
   "source": [
    "\n",
    "print(\" \"*5,\"#\"*1)\n",
    "print(\" \"*4,\"#\"*2)\n",
    "print(\" \"*3,\"#\"*3)\n",
    "print(\" \"*2,\"#\"*4)\n",
    "print(\" \"*1,\"#\"*5)"
   ]
  },
  {
   "cell_type": "code",
   "execution_count": 95,
   "metadata": {},
   "outputs": [
    {
     "name": "stdout",
     "output_type": "stream",
     "text": [
      "2 2\n",
      "6 4\n",
      "15 9\n",
      "18 3\n"
     ]
    }
   ],
   "source": [
    "lst = [1, 5, 7, 3, 9, 4, 2] \n",
    "su=0\n",
    "for item in lst[len(lst):len(lst)-5:-1]:\n",
    "    su = su+item\n",
    "    print (su,item)"
   ]
  },
  {
   "cell_type": "code",
   "execution_count": 96,
   "metadata": {},
   "outputs": [
    {
     "name": "stdout",
     "output_type": "stream",
     "text": [
      "9\n"
     ]
    }
   ],
   "source": [
    "lst = [1, 5, 7, 3, 9, 4, 2] \n",
    "a=max(lst)\n",
    "print(a)"
   ]
  },
  {
   "cell_type": "code",
   "execution_count": 107,
   "metadata": {},
   "outputs": [
    {
     "name": "stdout",
     "output_type": "stream",
     "text": [
      "[12]\n",
      "[12, 45]\n",
      "[12, 45, 80]\n",
      "[12, 45, 80, 45]\n",
      "[12, 45, 80, 45, 26]\n",
      "[12, 45, 80, 45, 26, 100]\n",
      "[12, 45, 80, 45, 26, 100, 46]\n"
     ]
    },
    {
     "data": {
      "text/plain": [
       "[12, 45, 80, 45, 26, 100, 46]"
      ]
     },
     "execution_count": 107,
     "metadata": {},
     "output_type": "execute_result"
    }
   ],
   "source": [
    "def gradingStudents(grades):\n",
    "    # Write your code here\n",
    "    x=[]\n",
    "    for item in grades:\n",
    "        if item < 38:\n",
    "            x.append(item)\n",
    "            print(x)\n",
    "        elif (item >= 38 & item%5 == 0):\n",
    "            x.append(item)\n",
    "            print(x)\n",
    "        elif (item >= 38 & item%5 != 0) :\n",
    "            if (item%5 <3):\n",
    "                x.append(item)\n",
    "                print(x)\n",
    "            else:\n",
    "                p= int(item/5)\n",
    "                x.append(5*(p+1))\n",
    "                print(x)\n",
    "    return x     \n",
    "    \n",
    "t= [12,45,78,43,26,98,46]\n",
    "gradingStudents(t)"
   ]
  },
  {
   "cell_type": "code",
   "execution_count": 111,
   "metadata": {},
   "outputs": [
    {
     "name": "stdout",
     "output_type": "stream",
     "text": [
      "0\n",
      "0\n",
      "1\n",
      "1\n",
      "2\n",
      "2\n",
      "3\n",
      "3\n",
      "4\n"
     ]
    },
    {
     "ename": "IndexError",
     "evalue": "list index out of range",
     "output_type": "error",
     "traceback": [
      "\u001b[0;31m---------------------------------------------------------------------------\u001b[0m",
      "\u001b[0;31mIndexError\u001b[0m                                Traceback (most recent call last)",
      "\u001b[0;32m<ipython-input-111-7c28766eda4b>\u001b[0m in \u001b[0;36m<module>\u001b[0;34m\u001b[0m\n\u001b[1;32m     17\u001b[0m \u001b[0;34m\u001b[0m\u001b[0m\n\u001b[1;32m     18\u001b[0m \u001b[0mt\u001b[0m\u001b[0;34m=\u001b[0m \u001b[0;34m[\u001b[0m\u001b[0;36m10\u001b[0m\u001b[0;34m,\u001b[0m \u001b[0;36m20\u001b[0m\u001b[0;34m,\u001b[0m \u001b[0;36m20\u001b[0m\u001b[0;34m,\u001b[0m \u001b[0;36m10\u001b[0m\u001b[0;34m,\u001b[0m \u001b[0;36m10\u001b[0m\u001b[0;34m,\u001b[0m \u001b[0;36m30\u001b[0m\u001b[0;34m,\u001b[0m \u001b[0;36m50\u001b[0m\u001b[0;34m,\u001b[0m \u001b[0;36m10\u001b[0m\u001b[0;34m,\u001b[0m \u001b[0;36m20\u001b[0m\u001b[0;34m]\u001b[0m\u001b[0;34m\u001b[0m\u001b[0;34m\u001b[0m\u001b[0m\n\u001b[0;32m---> 19\u001b[0;31m \u001b[0msockMerchant\u001b[0m\u001b[0;34m(\u001b[0m\u001b[0;36m9\u001b[0m\u001b[0;34m,\u001b[0m\u001b[0mt\u001b[0m\u001b[0;34m)\u001b[0m\u001b[0;34m\u001b[0m\u001b[0;34m\u001b[0m\u001b[0m\n\u001b[0m",
      "\u001b[0;32m<ipython-input-111-7c28766eda4b>\u001b[0m in \u001b[0;36msockMerchant\u001b[0;34m(n, ar)\u001b[0m\n\u001b[1;32m      5\u001b[0m     \u001b[0;32mwhile\u001b[0m \u001b[0mi\u001b[0m \u001b[0;34m<\u001b[0m \u001b[0mn\u001b[0m\u001b[0;34m:\u001b[0m\u001b[0;34m\u001b[0m\u001b[0;34m\u001b[0m\u001b[0m\n\u001b[1;32m      6\u001b[0m         \u001b[0mprint\u001b[0m \u001b[0;34m(\u001b[0m\u001b[0mi\u001b[0m\u001b[0;34m)\u001b[0m\u001b[0;34m\u001b[0m\u001b[0;34m\u001b[0m\u001b[0m\n\u001b[0;32m----> 7\u001b[0;31m         \u001b[0;32mif\u001b[0m \u001b[0mar\u001b[0m\u001b[0;34m[\u001b[0m\u001b[0mi\u001b[0m\u001b[0;34m]\u001b[0m\u001b[0;34m==\u001b[0m\u001b[0mar\u001b[0m\u001b[0;34m[\u001b[0m\u001b[0mi\u001b[0m\u001b[0;34m+\u001b[0m\u001b[0;36m1\u001b[0m\u001b[0;34m]\u001b[0m\u001b[0;34m:\u001b[0m\u001b[0;34m\u001b[0m\u001b[0;34m\u001b[0m\u001b[0m\n\u001b[0m\u001b[1;32m      8\u001b[0m             \u001b[0mprint\u001b[0m \u001b[0;34m(\u001b[0m\u001b[0mi\u001b[0m\u001b[0;34m)\u001b[0m\u001b[0;34m\u001b[0m\u001b[0;34m\u001b[0m\u001b[0m\n\u001b[1;32m      9\u001b[0m             \u001b[0mcount\u001b[0m \u001b[0;34m+=\u001b[0m\u001b[0;36m1\u001b[0m\u001b[0;34m\u001b[0m\u001b[0;34m\u001b[0m\u001b[0m\n",
      "\u001b[0;31mIndexError\u001b[0m: list index out of range"
     ]
    }
   ],
   "source": [
    "def sockMerchant(n, ar):\n",
    "    ar.sort()\n",
    "    i=0\n",
    "    count=0\n",
    "    while i < n:\n",
    "        print (i)\n",
    "        if ar[i]==ar[i+1]:\n",
    "            print (i)\n",
    "            count +=1\n",
    "            ar.pop(i)\n",
    "            ar.pop(i)\n",
    "            i+=1\n",
    "            print (i)\n",
    "        else:\n",
    "            i+=1\n",
    "    print (count)\n",
    "    \n",
    "t= [10, 20, 20, 10, 10, 30, 50, 10, 20]\n",
    "sockMerchant(9,t)"
   ]
  },
  {
   "cell_type": "code",
   "execution_count": null,
   "metadata": {},
   "outputs": [],
   "source": []
  }
 ],
 "metadata": {
  "kernelspec": {
   "display_name": "Python 3",
   "language": "python",
   "name": "python3"
  },
  "language_info": {
   "codemirror_mode": {
    "name": "ipython",
    "version": 3
   },
   "file_extension": ".py",
   "mimetype": "text/x-python",
   "name": "python",
   "nbconvert_exporter": "python",
   "pygments_lexer": "ipython3",
   "version": "3.8.5"
  }
 },
 "nbformat": 4,
 "nbformat_minor": 4
}
