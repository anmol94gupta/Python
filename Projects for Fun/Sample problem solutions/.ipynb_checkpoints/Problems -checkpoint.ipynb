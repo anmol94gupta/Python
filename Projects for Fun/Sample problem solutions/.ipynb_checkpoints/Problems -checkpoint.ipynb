{
 "cells": [
  {
   "cell_type": "code",
   "execution_count": 29,
   "metadata": {},
   "outputs": [
    {
     "name": "stdout",
     "output_type": "stream",
     "text": [
      "[10, 20, 20, 10, 10, 30, 50, 10, 20]\n",
      "[10, 10, 10, 10, 20, 20, 20, 30, 50] \n",
      "\n",
      "3\n"
     ]
    }
   ],
   "source": [
    "def sockMerchant (n, ar):\n",
    "    print(ar)\n",
    "    ar.sort()\n",
    "    print(ar,\"\\n\")\n",
    "    i=0\n",
    "    count=0\n",
    "    while i < (len(ar)-1):\n",
    "        if ar[i]==ar[i+1]:\n",
    "            count +=1\n",
    "            print (\"Count\",count)\n",
    "            ar.pop(i)\n",
    "            ar.pop(i)\n",
    "            print(ar,\"\\n\",\"i=\",i)\n",
    "\n",
    "        else:\n",
    "            i+=1\n",
    "    print (count)\n",
    "    \n",
    "a = [10, 20, 20, 10, 10, 30, 50, 10, 20]\n",
    "sockMerchant(9,a)"
   ]
  },
  {
   "cell_type": "code",
   "execution_count": 25,
   "metadata": {},
   "outputs": [
    {
     "name": "stdout",
     "output_type": "stream",
     "text": [
      "Case1 : 2 -- [0, 0] 1\n",
      "Case1 : 4 -- [0, 0, 0, 1] 2\n",
      "Case3 : 5 -- [0, 0, 0, 1, 0] 3\n",
      "3\n",
      "Case2 : 1 -- [0] 1\n",
      "Case1 : 3 -- [0, 0, 1] 2\n",
      "Case2 : 4 -- [0, 0, 1, 0] 3\n",
      "Case1 : 6 -- [0, 0, 1, 0, 0, 1] 4\n",
      "4\n"
     ]
    }
   ],
   "source": [
    "def jumpingOnClouds(c):\n",
    "    i=0\n",
    "    count=0\n",
    "    while i < (len(c)-1):\n",
    "        if (i+1 < (len(c)-1)):\n",
    "            if (c[i]==c[i+2]):\n",
    "                count=count+1\n",
    "                i=i+2\n",
    "                print(\"Case1 :\",i,\"--\",c[0:i],count)\n",
    "            elif c[i]==c[i+1]:\n",
    "                count=count+1\n",
    "                i=i+1\n",
    "                print(\"Case2 :\",i,\"--\",c[0:i],count)\n",
    "        elif c[i]==c[i+1]:\n",
    "            count=count+1\n",
    "            i=i+1\n",
    "            print(\"Case3 :\",i,\"--\",c[0:i],count)\n",
    "                \n",
    "    print (count)\n",
    "    \n",
    "jumpingOnClouds([0, 0, 0, 1, 0, 0])\n",
    "jumpingOnClouds([0, 0, 1, 0, 0, 1, 0])"
   ]
  },
  {
   "cell_type": "code",
   "execution_count": 48,
   "metadata": {},
   "outputs": [
    {
     "name": "stdout",
     "output_type": "stream",
     "text": [
      "x = 3.3333333333333335\n",
      "y = 1\n",
      "a = 2\n",
      "b = 1\n"
     ]
    },
    {
     "data": {
      "text/plain": [
       "7"
      ]
     },
     "execution_count": 48,
     "metadata": {},
     "output_type": "execute_result"
    }
   ],
   "source": [
    "def repeatedString(s, n):\n",
    "    l= len(s)\n",
    "    count = 0\n",
    "    a=0\n",
    "    b=0\n",
    "    x=n/l\n",
    "    print(\"x =\",x)\n",
    "    y=n%l\n",
    "    print(\"y =\",y)\n",
    "    p=''\n",
    "    if s =='a':\n",
    "        count = n\n",
    "    else:\n",
    "        for items in s:\n",
    "            if items =='a':\n",
    "                a=a+1\n",
    "        print(\"a =\",a)    \n",
    "        for items in s[:y]:\n",
    "            if items =='a':\n",
    "                b=b+1\n",
    "        print(\"b =\",b)\n",
    "        count=(a*(int(x))+b)\n",
    "            \n",
    "    return count\n",
    "\n",
    "repeatedString('aba',10)"
   ]
  },
  {
   "cell_type": "code",
   "execution_count": 50,
   "metadata": {},
   "outputs": [
    {
     "name": "stdout",
     "output_type": "stream",
     "text": [
      "1\n",
      "2\n",
      "3\n",
      "4\n",
      "5\n",
      "6\n",
      "7\n",
      "8\n",
      "9\n"
     ]
    }
   ],
   "source": [
    "a=[[1,2,3],[4,5,6],[7,8,9]]\n",
    "for item in a:\n",
    "    for items in item:\n",
    "        print (items)"
   ]
  },
  {
   "cell_type": "code",
   "execution_count": 84,
   "metadata": {},
   "outputs": [
    {
     "name": "stdout",
     "output_type": "stream",
     "text": [
      "1 1 1 1 1 1 1\n",
      "1 - 1\n",
      "1 1 0 0 1 1 0\n",
      "1 - 2\n",
      "1 0 0 0 1 0 0\n",
      "1 - 3\n",
      "0 0 0 0 0 0 0\n",
      "1 - 4\n",
      "0 1 0 1 0 0 2\n",
      "2 - 1\n",
      "1 0 0 1 0 2 4\n",
      "2 - 2\n",
      "0 0 0 0 2 4 4\n",
      "2 - 3\n",
      "0 0 0 0 4 4 0\n",
      "2 - 4\n",
      "1 1 1 0 0 0 0\n",
      "3 - 1\n",
      "1 1 0 2 0 0 2\n",
      "3 - 2\n",
      "1 0 0 4 0 2 0\n",
      "3 - 3\n",
      "0 0 0 4 2 0 0\n",
      "3 - 4\n",
      "0 0 2 0 0 0 1\n",
      "4 - 1\n",
      "0 2 4 0 0 1 2\n",
      "4 - 2\n",
      "2 4 4 2 1 2 4\n",
      "4 - 3\n",
      "4 4 0 0 2 4 0\n",
      "4 - 4\n",
      "[7, 4, 2, 0, 4, 8, 10, 8, 3, 6, 7, 6, 3, 9, 19, 14]\n"
     ]
    },
    {
     "data": {
      "text/plain": [
       "19"
      ]
     },
     "execution_count": 84,
     "metadata": {},
     "output_type": "execute_result"
    }
   ],
   "source": [
    "def hourglassSum(arr):\n",
    "    i=0\n",
    "    j=0\n",
    "    l=len(arr)\n",
    "    p=[]\n",
    "    for i in range(1,l-1):\n",
    "        for j in range(1,l-1):\n",
    "            #print((arr[i-1][j-1]),(arr[i-1][j]),(arr[i-1][j+1]),(arr[i][j]),(arr[i+1][j-1]),(arr[i+1][j]),(arr[i+1][j+1]))\n",
    "            #print(i,\"-\",j)\n",
    "            item=(arr[i-1][j-1])+(arr[i-1][j])+(arr[i-1][j+1])+(arr[i][j])+(arr[i+1][j-1])+(arr[i+1][j])+(arr[i+1][j+1])\n",
    "            p.append(item)\n",
    "    print(p)        \n",
    "    return (max(p))\n",
    "\n",
    "x=[\n",
    "    [1, 1, 1, 0, 0, 0],\n",
    "    [0, 1, 0, 0, 0, 0],\n",
    "    [1, 1, 1, 0, 0, 0],\n",
    "    [0, 0, 2, 4, 4, 0],\n",
    "    [0, 0, 0, 2, 0, 0],\n",
    "    [0, 0, 1, 2, 4, 0]]\n",
    "hourglassSum(x)"
   ]
  },
  {
   "cell_type": "code",
   "execution_count": 85,
   "metadata": {},
   "outputs": [
    {
     "ename": "SyntaxError",
     "evalue": "Missing parentheses in call to 'print'. Did you mean print(items[3])? (<ipython-input-85-2809318102ef>, line 3)",
     "output_type": "error",
     "traceback": [
      "\u001b[0;36m  File \u001b[0;32m\"<ipython-input-85-2809318102ef>\"\u001b[0;36m, line \u001b[0;32m3\u001b[0m\n\u001b[0;31m    print items[3]\u001b[0m\n\u001b[0m          ^\u001b[0m\n\u001b[0;31mSyntaxError\u001b[0m\u001b[0;31m:\u001b[0m Missing parentheses in call to 'print'. Did you mean print(items[3])?\n"
     ]
    }
   ],
   "source": [
    "a=[1,2,3,4,5,6,7,8]\n",
    "for items in a:\n",
    "    print items[3]"
   ]
  },
  {
   "cell_type": "code",
   "execution_count": 197,
   "metadata": {},
   "outputs": [
    {
     "name": "stdout",
     "output_type": "stream",
     "text": [
      "[0, 1, 4, 2, 6, 7, 5, 3]\n",
      "----\n",
      "i= 0 P= 0\n",
      "-------------------\n",
      "i= 1 P= 1\n",
      "-------------------\n",
      "P= 1\n",
      "Max (P-1,0)= 0 i= 1\n",
      "i= 2 P= 4\n",
      "-------------------\n",
      "i= 3 P= 2\n",
      "-------------------\n",
      "P= 2\n",
      "Max (P-1,0)= 1 i= 3\n",
      "P= 2\n",
      "Max (P-1,0)= 1 i= 3\n",
      "- 4 2\n",
      "--*--\n",
      "moves= 1\n",
      "--iteration--\n",
      "i= 4 P= 6\n",
      "-------------------\n",
      "i= 5 P= 7\n",
      "-------------------\n",
      "i= 6 P= 5\n",
      "-------------------\n",
      "P= 5\n",
      "Max (P-1,0)= 4 i= 6\n",
      "- 6 5\n",
      "--*--\n",
      "moves= 2\n",
      "--iteration--\n",
      "P= 5\n",
      "Max (P-1,0)= 4 i= 6\n",
      "- 7 5\n",
      "--*--\n",
      "moves= 3\n",
      "--iteration--\n",
      "i= 7 P= 3\n",
      "-------------------\n",
      "P= 3\n",
      "Max (P-1,0)= 2 i= 7\n",
      "- 4 3\n",
      "--*--\n",
      "moves= 4\n",
      "--iteration--\n",
      "P= 3\n",
      "Max (P-1,0)= 2 i= 7\n",
      "P= 3\n",
      "Max (P-1,0)= 2 i= 7\n",
      "- 6 3\n",
      "--*--\n",
      "moves= 5\n",
      "--iteration--\n",
      "P= 3\n",
      "Max (P-1,0)= 2 i= 7\n",
      "- 7 3\n",
      "--*--\n",
      "moves= 6\n",
      "--iteration--\n",
      "P= 3\n",
      "Max (P-1,0)= 2 i= 7\n",
      "- 5 3\n",
      "--*--\n",
      "moves= 7\n",
      "--iteration--\n",
      "7\n"
     ]
    }
   ],
   "source": [
    "def minimumBribes(Q):\n",
    "    \n",
    "    moves = 0 \n",
    " \n",
    "    Q = [P-1 for P in Q]\n",
    "    #\n",
    "    # Loop through each person (P) in the queue (Q)\n",
    "    print(Q)\n",
    "    print(\"----\")\n",
    "    for i,P in enumerate(Q):\n",
    "        print(\"i=\",i,\"P=\",P)\n",
    "        print(\"-------------------\")\n",
    "        if P - i > 2:\n",
    "            print(\"Too chaotic\")\n",
    "            return\n",
    "        #\n",
    "        # From here on out, we don't care if P has moved\n",
    "        # forwards, it is better to count how many times\n",
    "        # P has RECEIVED a bribe, by looking at who is\n",
    "        # ahead of P.  P's original position is the value\n",
    "        # of P.\n",
    "        # Anyone who bribed P cannot get to higher than\n",
    "        # one position in front if P's original position,\n",
    "        # so we need to look from one position in front\n",
    "        # of P's original position to one in front of P's\n",
    "        # current position, and see how many of those \n",
    "        # positions in Q contain a number large than P.\n",
    "        # In other words we will look from P-1 to i-1,\n",
    "        # which in Python is range(P-1,i-1+1), or simply\n",
    "        # range(P-1,i).  To make sure we don't try an\n",
    "        # index less than zero, replace P-1 with\n",
    "        # max(P-1,0)\n",
    "        for j in range(max(P-1,0),i):\n",
    "            print(\"P=\",P)\n",
    "            print(\"Max (P-1,0)=\",max(P-1,0),\"i=\",i)\n",
    "            if Q[j] > P:\n",
    "                print(\"-\",Q[j], P)\n",
    "                print(\"--*--\")\n",
    "                moves += 1\n",
    "                print(\"moves=\",moves)\n",
    "                print(\"--iteration--\")\n",
    "    print(moves)\n",
    "minimumBribes([1, 2, 5, 3, 7, 8, 6, 4])\n",
    "#print(\"-----\")\n",
    "#minimumBribes([2, 1, 5, 3, 4])"
   ]
  },
  {
   "cell_type": "code",
   "execution_count": null,
   "metadata": {},
   "outputs": [],
   "source": [
    "1, 2, 5, 3, 7, 8, 6, 4]"
   ]
  }
 ],
 "metadata": {
  "kernelspec": {
   "display_name": "Python 3",
   "language": "python",
   "name": "python3"
  },
  "language_info": {
   "codemirror_mode": {
    "name": "ipython",
    "version": 3
   },
   "file_extension": ".py",
   "mimetype": "text/x-python",
   "name": "python",
   "nbconvert_exporter": "python",
   "pygments_lexer": "ipython3",
   "version": "3.8.5"
  }
 },
 "nbformat": 4,
 "nbformat_minor": 4
}
