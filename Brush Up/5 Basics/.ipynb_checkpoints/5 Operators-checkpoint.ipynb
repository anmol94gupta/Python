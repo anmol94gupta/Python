{
 "cells": [
  {
   "cell_type": "markdown",
   "metadata": {},
   "source": [
    "## Arithematic"
   ]
  },
  {
   "cell_type": "raw",
   "metadata": {},
   "source": [
    "+\tAddition\tx + y\n",
    "-\tSubtraction\tx - y\n",
    "*\tMultiplication\tx * y\n",
    "/\tDivision\tx / y\n",
    "%\tModulus\tx % y\t\n",
    "**\tExponentiation\tx ** y\n",
    "//\tFloor division\tx // y"
   ]
  },
  {
   "cell_type": "markdown",
   "metadata": {},
   "source": [
    "## Assignment"
   ]
  },
  {
   "cell_type": "raw",
   "metadata": {},
   "source": [
    "=\tx = 5\tx = 5\n",
    "+=\tx += 3\tx = x + 3\n",
    "-=\tx -= 3\tx = x - 3\n",
    "*=\tx *= 3\tx = x * 3\n",
    "/=\tx /= 3\tx = x / 3\n",
    "%=\tx %= 3\tx = x % 3\n",
    "//=\tx //= 3\tx = x // 3\n",
    "**=\tx **= 3\tx = x ** 3\n",
    "&=\tx &= 3\tx = x & 3\n",
    "|=\tx |= 3\tx = x | 3\n",
    "^=\tx ^= 3\tx = x ^ 3\n",
    ">>=\tx >>= 3\tx = x >> 3\n",
    "<<=\tx <<= 3\tx = x << 3"
   ]
  },
  {
   "cell_type": "markdown",
   "metadata": {},
   "source": [
    "## Comparison"
   ]
  },
  {
   "cell_type": "raw",
   "metadata": {},
   "source": [
    "==\tEqual\tx == y\n",
    "!=\tNot equal\tx != y\n",
    ">\tGreater than\tx > y\n",
    "<\tLess than\tx < y\n",
    ">=\tGreater than or equal to\tx >= y\n",
    "<=\tLess than or equal to\tx <= y"
   ]
  },
  {
   "cell_type": "markdown",
   "metadata": {},
   "source": [
    "## Logical"
   ]
  },
  {
   "cell_type": "raw",
   "metadata": {},
   "source": [
    "and \tReturns True if both statements are true\tx < 5 and  x < 10\n",
    "or\tReturns True if one of the statements is true\tx < 5 or x < 4\n",
    "not\tReverse the result, returns False if the result is true\tnot(x < 5 and x < 10)"
   ]
  },
  {
   "cell_type": "markdown",
   "metadata": {},
   "source": [
    "## Membership"
   ]
  },
  {
   "cell_type": "raw",
   "metadata": {},
   "source": [
    "in \tReturns True if a sequence with the specified value is present in the object\tx in y\n",
    "not in\tReturns True if a sequence with the specified value is not present in the object\tx not in y"
   ]
  },
  {
   "cell_type": "markdown",
   "metadata": {},
   "source": [
    "## Bitwise"
   ]
  },
  {
   "cell_type": "raw",
   "metadata": {},
   "source": [
    "& \tAND\tSets each bit to 1 if both bits are 1\n",
    "|\tOR\tSets each bit to 1 if one of two bits is 1\n",
    " ^\tXOR\tSets each bit to 1 if only one of two bits is 1\n",
    "~ \tNOT\tInverts all the bits\n",
    "<<\tZero fill left shift\tShift left by pushing zeros in from the right and let the leftmost bits fall off\n",
    ">>\tSigned right shift\tShift right by pushing copies of the leftmost bit in from the left, and let the rightmost bits fall off"
   ]
  }
 ],
 "metadata": {
  "kernelspec": {
   "display_name": "Python 3",
   "language": "python",
   "name": "python3"
  },
  "language_info": {
   "codemirror_mode": {
    "name": "ipython",
    "version": 3
   },
   "file_extension": ".py",
   "mimetype": "text/x-python",
   "name": "python",
   "nbconvert_exporter": "python",
   "pygments_lexer": "ipython3",
   "version": "3.8.5"
  }
 },
 "nbformat": 4,
 "nbformat_minor": 4
}
