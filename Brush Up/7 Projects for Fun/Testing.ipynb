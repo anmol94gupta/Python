{
 "cells": [
  {
   "cell_type": "code",
   "execution_count": 1,
   "id": "regional-turner",
   "metadata": {},
   "outputs": [],
   "source": [
    "\n",
    "def twoNumberSum(array, targetSum):\n",
    "    # Write your code here.\n",
    "\tq=0\n",
    "\tp=1\n",
    "\to=[]\n",
    "\tfor n in range (q,len(array)):\n",
    "\t\tprint(\"n\",n,\" -> \", array[n])\n",
    "\t\tfor m in range (p,len(array)):\n",
    "\t\t\tprint(\"  m\",m,\" -> \", array[m])\n",
    "\t\t\tif array[n]+array[m]==targetSum:\n",
    "\t\t\t\tprint(\"match\")\n",
    "\t\t\t\to.append(array[n])\n",
    "\t\t\t\to.append(array[m])\n",
    "\t\tp=p+1\n",
    "\t\tq=q+1\n",
    "\treturn(o)"
   ]
  },
  {
   "cell_type": "code",
   "execution_count": 2,
   "id": "downtown-morrison",
   "metadata": {},
   "outputs": [
    {
     "name": "stdout",
     "output_type": "stream",
     "text": [
      "n 0  ->  3\n",
      "  m 1  ->  5\n",
      "  m 2  ->  4\n",
      "  m 3  ->  8\n",
      "  m 4  ->  11\n",
      "  m 5  ->  1\n",
      "  m 6  ->  -1\n",
      "  m 7  ->  6\n",
      "n 1  ->  5\n",
      "  m 2  ->  4\n",
      "  m 3  ->  8\n",
      "  m 4  ->  11\n",
      "  m 5  ->  1\n",
      "  m 6  ->  -1\n",
      "  m 7  ->  6\n",
      "n 2  ->  4\n",
      "  m 3  ->  8\n",
      "  m 4  ->  11\n",
      "  m 5  ->  1\n",
      "  m 6  ->  -1\n",
      "  m 7  ->  6\n",
      "match\n",
      "n 3  ->  8\n",
      "  m 4  ->  11\n",
      "  m 5  ->  1\n",
      "  m 6  ->  -1\n",
      "  m 7  ->  6\n",
      "n 4  ->  11\n",
      "  m 5  ->  1\n",
      "  m 6  ->  -1\n",
      "match\n",
      "  m 7  ->  6\n",
      "n 5  ->  1\n",
      "  m 6  ->  -1\n",
      "  m 7  ->  6\n",
      "n 6  ->  -1\n",
      "  m 7  ->  6\n",
      "n 7  ->  6\n"
     ]
    },
    {
     "data": {
      "text/plain": [
       "[4, 6, 11, -1]"
      ]
     },
     "execution_count": 2,
     "metadata": {},
     "output_type": "execute_result"
    }
   ],
   "source": [
    "array=[3, 5, 4, 8, 11, 1, -1, 6]\n",
    "targetSum=10\n",
    "twoNumberSum(array, targetSum)"
   ]
  },
  {
   "cell_type": "code",
   "execution_count": 3,
   "id": "prompt-stewart",
   "metadata": {},
   "outputs": [],
   "source": [
    "check=14"
   ]
  },
  {
   "cell_type": "code",
   "execution_count": 4,
   "id": "endangered-mailman",
   "metadata": {},
   "outputs": [
    {
     "name": "stdout",
     "output_type": "stream",
     "text": [
      "[]\n"
     ]
    }
   ],
   "source": [
    "z=[]\n",
    "if check in array:\n",
    "    print(\"1\") \n",
    "    z.append(check)\n",
    "print(z)"
   ]
  },
  {
   "cell_type": "code",
   "execution_count": 5,
   "id": "specialized-conjunction",
   "metadata": {},
   "outputs": [],
   "source": [
    "array = [5, 1, 22, 25, 6, -1, 8, 10]\n",
    "sequence = [5, 1, 22, 22, 25, 6, -1, 8, 10]"
   ]
  },
  {
   "cell_type": "code",
   "execution_count": 6,
   "id": "hindu-preview",
   "metadata": {},
   "outputs": [],
   "source": [
    "def isValidSubsequence(array, sequence):\n",
    "    # Write your code here.\n",
    "\tcompare=[]\n",
    "\tfor n in sequence:\n",
    "\t\tif n in array:\n",
    "\t\t\tcompare.append(n)\n",
    "\t\t\tprint(n,\" -> \",compare)            \n",
    "\treturn(len(compare) == len(sequence)) \n"
   ]
  },
  {
   "cell_type": "code",
   "execution_count": 7,
   "id": "occasional-flash",
   "metadata": {},
   "outputs": [
    {
     "name": "stdout",
     "output_type": "stream",
     "text": [
      "5  ->  [5]\n",
      "1  ->  [5, 1]\n",
      "22  ->  [5, 1, 22]\n",
      "22  ->  [5, 1, 22, 22]\n",
      "25  ->  [5, 1, 22, 22, 25]\n",
      "6  ->  [5, 1, 22, 22, 25, 6]\n",
      "-1  ->  [5, 1, 22, 22, 25, 6, -1]\n",
      "8  ->  [5, 1, 22, 22, 25, 6, -1, 8]\n",
      "10  ->  [5, 1, 22, 22, 25, 6, -1, 8, 10]\n"
     ]
    },
    {
     "data": {
      "text/plain": [
       "True"
      ]
     },
     "execution_count": 7,
     "metadata": {},
     "output_type": "execute_result"
    }
   ],
   "source": [
    "isValidSubsequence(array, sequence)"
   ]
  },
  {
   "cell_type": "code",
   "execution_count": 8,
   "id": "willing-photographer",
   "metadata": {},
   "outputs": [],
   "source": [
    "def isValidSubsequence(array, sequence):\n",
    "    d=0\n",
    "    count=0\n",
    "    for a in range (0, len(sequence)):\n",
    "        for b in range (d,len(array)):\n",
    "            if sequence[a]==array[b]:\n",
    "                print(\"    TRUE\",sequence[a],array[b])\n",
    "                count+=1\n",
    "                d = b+1\n",
    "                break;\n",
    "            else:\n",
    "                print(\"FALSE\",b)\n",
    "    return (count == len(sequence))\n"
   ]
  },
  {
   "cell_type": "code",
   "execution_count": 9,
   "id": "unlike-senegal",
   "metadata": {},
   "outputs": [],
   "source": [
    "array =[5, 1, 22, 25, 6, -1, 8, 10]\n",
    "sequence =[1, 6, -1, -1]"
   ]
  },
  {
   "cell_type": "code",
   "execution_count": 10,
   "id": "spare-testament",
   "metadata": {},
   "outputs": [
    {
     "name": "stdout",
     "output_type": "stream",
     "text": [
      "FALSE 0\n",
      "    TRUE 1 1\n",
      "FALSE 2\n",
      "FALSE 3\n",
      "    TRUE 6 6\n",
      "    TRUE -1 -1\n",
      "FALSE 6\n",
      "FALSE 7\n"
     ]
    },
    {
     "data": {
      "text/plain": [
       "False"
      ]
     },
     "execution_count": 10,
     "metadata": {},
     "output_type": "execute_result"
    }
   ],
   "source": [
    "isValidSubsequence(array, sequence)"
   ]
  },
  {
   "cell_type": "code",
   "execution_count": 11,
   "id": "embedded-following",
   "metadata": {},
   "outputs": [],
   "source": [
    "def sortedSquaredArray(array):\n",
    "    # Write your code here.\n",
    "    a=[]\n",
    "    for n in array:\n",
    "        print (n)\n",
    "        a.append(n**2)\n",
    "    a.sort()\n",
    "    return a"
   ]
  },
  {
   "cell_type": "code",
   "execution_count": 12,
   "id": "mental-reader",
   "metadata": {},
   "outputs": [],
   "source": [
    "array = [1,2,3,4,5,6]"
   ]
  },
  {
   "cell_type": "code",
   "execution_count": 13,
   "id": "difficult-camcorder",
   "metadata": {},
   "outputs": [
    {
     "name": "stdout",
     "output_type": "stream",
     "text": [
      "1\n",
      "2\n",
      "3\n",
      "4\n",
      "5\n",
      "6\n"
     ]
    },
    {
     "data": {
      "text/plain": [
       "[1, 4, 9, 16, 25, 36]"
      ]
     },
     "execution_count": 13,
     "metadata": {},
     "output_type": "execute_result"
    }
   ],
   "source": [
    "sortedSquaredArray(array)"
   ]
  },
  {
   "cell_type": "code",
   "execution_count": 14,
   "id": "funded-middle",
   "metadata": {},
   "outputs": [],
   "source": [
    "thisdict = {\n",
    "  \"brand\": \"Ford\",\n",
    "  \"model\": \"Mustang\",\n",
    "  \"year\": 1964\n",
    "}\n",
    "\n",
    "if \"brasnd\" in thisdict:\n",
    "    print(\"a\")"
   ]
  },
  {
   "cell_type": "code",
   "execution_count": 15,
   "id": "permanent-knowing",
   "metadata": {},
   "outputs": [],
   "source": [
    "def tournamentWinner(competitions, results):\n",
    "    # Write your code here.\n",
    "\ta={}\n",
    "\tfor n in range(0,len(results)):\n",
    "\t\tif results[n] == 0:\n",
    "\t\t\tif (competitions[n][1]) in a:\n",
    "\t\t\t\ta[competitions[n][1]]+=1\n",
    "\t\t\t\tprint(\"Updation\", competitions[n][1])\n",
    "\t\t\telse:\n",
    "\t\t\t\ta[competitions[n][1]]=1\n",
    "\t\t\t\tprint(\"Addition\",competitions[n][1])\n",
    "\t\telse:\n",
    "\t\t\tif (competitions[n][0]) in a:\n",
    "\t\t\t\ta[competitions[n][0]]+=1\n",
    "\t\t\t\tprint(\"Updation\", competitions[n][0])\n",
    "\t\t\telse:\n",
    "\t\t\t\ta[competitions[n][1]]=1\n",
    "\t\t\t\tprint(\"Addition\", competitions[n][0])\n",
    "\treturn a\n"
   ]
  },
  {
   "cell_type": "code",
   "execution_count": 16,
   "id": "awful-creature",
   "metadata": {},
   "outputs": [],
   "source": [
    "competitions=[\n",
    "  [\"HTML\", \"C#\"],\n",
    "  [\"C#\", \"Python\"],\n",
    "  [\"Python\", \"HTML\"]\n",
    "]"
   ]
  },
  {
   "cell_type": "code",
   "execution_count": 17,
   "id": "great-disposal",
   "metadata": {},
   "outputs": [],
   "source": [
    "results=[0, 0, 1]"
   ]
  },
  {
   "cell_type": "code",
   "execution_count": 18,
   "id": "still-snapshot",
   "metadata": {},
   "outputs": [
    {
     "name": "stdout",
     "output_type": "stream",
     "text": [
      "Addition C#\n",
      "Addition Python\n",
      "Updation Python\n"
     ]
    },
    {
     "data": {
      "text/plain": [
       "{'C#': 1, 'Python': 2}"
      ]
     },
     "execution_count": 18,
     "metadata": {},
     "output_type": "execute_result"
    }
   ],
   "source": [
    "tournamentWinner(competitions, results)"
   ]
  },
  {
   "cell_type": "code",
   "execution_count": 19,
   "id": "skilled-kansas",
   "metadata": {},
   "outputs": [],
   "source": [
    "coins=[1, 2, 3, 4, 5, 6, 7]"
   ]
  },
  {
   "cell_type": "code",
   "execution_count": 20,
   "id": "graduate-action",
   "metadata": {},
   "outputs": [],
   "source": [
    "def nonConstructibleChange(coins):\n",
    "    # Write your code here.\n",
    "    coins.sort()\n",
    "    if len(coins)==1:\n",
    "        if coins[0]!=1:\n",
    "            return 1\n",
    "        else:\n",
    "            return 2\n",
    "    else:\n",
    "        tot = 0\n",
    "        e=[]\n",
    "        print(\"Coins = \",coins)\n",
    "        for item in coins:\n",
    "            if item > tot + 1:\n",
    "                return tot+1\n",
    "            else:\n",
    "                pass\n",
    "            tot = tot + item\n",
    "        return tot+1"
   ]
  },
  {
   "cell_type": "code",
   "execution_count": 21,
   "id": "suffering-comparison",
   "metadata": {},
   "outputs": [
    {
     "name": "stdout",
     "output_type": "stream",
     "text": [
      "Coins =  [1, 2, 3, 4, 5, 6, 7]\n"
     ]
    },
    {
     "data": {
      "text/plain": [
       "29"
      ]
     },
     "execution_count": 21,
     "metadata": {},
     "output_type": "execute_result"
    }
   ],
   "source": [
    "nonConstructibleChange(coins)"
   ]
  },
  {
   "cell_type": "code",
   "execution_count": 22,
   "id": "prescribed-democracy",
   "metadata": {},
   "outputs": [],
   "source": [
    "coins=[5, 7, 1, 1, 2, 3, 22]"
   ]
  },
  {
   "cell_type": "code",
   "execution_count": 23,
   "id": "micro-rings",
   "metadata": {},
   "outputs": [
    {
     "name": "stdout",
     "output_type": "stream",
     "text": [
      "Coins =  [1, 1, 2, 3, 5, 7, 22]\n",
      "ITEM =  1\n",
      "    T =  2\n",
      "    T =  3\n",
      "    T =  5\n",
      "    T =  8\n",
      "    T =  12\n",
      "    T =  29\n",
      "ITEM =  1\n",
      "    T =  3\n",
      "    T =  5\n",
      "    T =  8\n",
      "    T =  12\n",
      "    T =  29\n",
      "ITEM =  2\n",
      "    T =  5\n",
      "    T =  8\n",
      "    T =  12\n",
      "    T =  29\n",
      "ITEM =  3\n",
      "    T =  8\n",
      "    T =  12\n",
      "    T =  29\n",
      "ITEM =  5\n",
      "    T =  12\n",
      "    T =  29\n",
      "ITEM =  7\n",
      "    T =  29\n",
      "EMPTY -  [2, 3, 5, 8, 12, 29]\n"
     ]
    }
   ],
   "source": [
    "def um(coins):\n",
    "    # Write your code here.\n",
    "    coins.sort()\n",
    "    print(\"Coins = \",coins)\n",
    "\n",
    "    e=[]\n",
    "    s = 0\n",
    "    t = 0\n",
    "    u = 0\n",
    "    for items in range (s,len(coins)-1):\n",
    "        print(\"ITEM = \",coins[items])\n",
    "        for ite in range (items,len(coins)-1):\n",
    "            t = coins[items] + coins[items+1]\n",
    "            print(\"    T = \",t)\n",
    "            if t not in e:\n",
    "                e.append(t)\n",
    "            items+=1\n",
    "        s+=1\n",
    "        \n",
    "    e.sort()\n",
    "    print(\"EMPTY - \",e)\n",
    "    \n",
    "um(coins)"
   ]
  },
  {
   "cell_type": "code",
   "execution_count": 24,
   "id": "reverse-active",
   "metadata": {},
   "outputs": [],
   "source": [
    "# BST"
   ]
  },
  {
   "cell_type": "code",
   "execution_count": 34,
   "id": "random-discussion",
   "metadata": {},
   "outputs": [],
   "source": [
    "tree = {\n",
    "  \"nodes\": [\n",
    "    {\"id\": \"10\", \"left\": \"5\", \"right\": \"15\", \"value\": 10},\n",
    "    {\"id\": \"15\", \"left\": \"13\", \"right\": \"22\", \"value\": 15},\n",
    "    {\"id\": \"22\", \"left\": None, \"right\": None, \"value\": 22},\n",
    "    {\"id\": \"13\", \"left\": None, \"right\": \"14\", \"value\": 13},\n",
    "    {\"id\": \"14\", \"left\": None, \"right\": None, \"value\": 14},\n",
    "    {\"id\": \"5\", \"left\": \"2\", \"right\": \"5-2\", \"value\": 5},\n",
    "    {\"id\": \"5-2\", \"left\": None, \"right\": None, \"value\": 5},\n",
    "    {\"id\": \"2\", \"left\": \"1\", \"right\": None, \"value\": 2},\n",
    "    {\"id\": \"1\", \"left\": None, \"right\": None, \"value\": 1}\n",
    "  ],\n",
    "  \"root\": \"10\"\n",
    "}"
   ]
  },
  {
   "cell_type": "code",
   "execution_count": 41,
   "id": "acknowledged-stack",
   "metadata": {},
   "outputs": [],
   "source": [
    "target = 2"
   ]
  },
  {
   "cell_type": "code",
   "execution_count": 42,
   "id": "homeless-teddy",
   "metadata": {},
   "outputs": [],
   "source": [
    "def findClosestValueInBst(tree, target):\n",
    "    # Write your code here.\n",
    "    tot = target\n",
    "    closest = target\n",
    "    root = int(tree[\"root\"])\n",
    "    for item in (tree[\"nodes\"]):\n",
    "        #print(item)\n",
    "        p = int(item.get(\"value\"))\n",
    "        if p != root:\n",
    "            num = p - target\n",
    "            num = abs(num)\n",
    "            if num < tot:\n",
    "                #print(\"Target = \", target, \"Total = \",tot, \"Num = \", num)\n",
    "                tot = num\n",
    "                closest = p\n",
    "            else:\n",
    "                pass\n",
    "    return (closest)\n",
    "            \n",
    "# This is the class of the input tree. Do not edit.\n",
    "class BST:\n",
    "    def __init__(self, value):\n",
    "        self.value = value\n",
    "        self.left = None\n",
    "        self.right = None\n"
   ]
  },
  {
   "cell_type": "code",
   "execution_count": 43,
   "id": "spare-congo",
   "metadata": {},
   "outputs": [
    {
     "data": {
      "text/plain": [
       "2"
      ]
     },
     "execution_count": 43,
     "metadata": {},
     "output_type": "execute_result"
    }
   ],
   "source": [
    "findClosestValueInBst(tree, target)"
   ]
  },
  {
   "cell_type": "code",
   "execution_count": 44,
   "id": "naval-dating",
   "metadata": {},
   "outputs": [],
   "source": [
    "def findClosestValueInBst(tree, target):\n",
    "    # Write your code here.\n",
    "    tot = target\n",
    "    closest = target\n",
    "    root = int(tree[\"root\"])\n",
    "    for item in (tree[\"nodes\"]):\n",
    "        #print(item)\n",
    "        p = int(item.get(\"value\"))\n",
    "        if p != root:\n",
    "            num = p - target\n",
    "            num = abs(num)\n",
    "            if num < tot:\n",
    "                #print(\"Target = \", target, \"Total = \",tot, \"Num = \", num)\n",
    "                tot = num\n",
    "                closest = p\n",
    "            else:\n",
    "                pass\n",
    "    return (closest)\n",
    "            \n",
    "# This is the class of the input tree. Do not edit.\n",
    "class BST:\n",
    "    def __init__(self, value):\n",
    "        self.value = value\n",
    "        self.left = None\n",
    "        self.right = None\n"
   ]
  },
  {
   "cell_type": "code",
   "execution_count": 2,
   "id": "massive-charm",
   "metadata": {},
   "outputs": [],
   "source": [
    "tree={\n",
    "  \"nodes\": [\n",
    "    {\"id\": \"1\", \"left\": \"2\", \"right\": \"3\", \"value\": 1},\n",
    "    {\"id\": \"2\", \"left\": \"4\", \"right\": \"5\", \"value\": 2},\n",
    "    {\"id\": \"3\", \"left\": \"6\", \"right\": \"7\", \"value\": 3},\n",
    "    {\"id\": \"4\", \"left\": \"8\", \"right\": \"9\", \"value\": 4},\n",
    "    {\"id\": \"5\", \"left\": \"10\", \"right\": None, \"value\": 5},\n",
    "    {\"id\": \"6\", \"left\": None, \"right\": None, \"value\": 6},\n",
    "    {\"id\": \"7\", \"left\": None, \"right\": None, \"value\": 7},\n",
    "    {\"id\": \"8\", \"left\": None, \"right\": None, \"value\": 8},\n",
    "    {\"id\": \"9\", \"left\": None, \"right\": None, \"value\": 9},\n",
    "    {\"id\": \"10\", \"left\": None, \"right\": None, \"value\": 10}\n",
    "  ],\n",
    "  \"root\": \"1\"\n",
    "}"
   ]
  },
  {
   "cell_type": "raw",
   "id": "executive-pointer",
   "metadata": {},
   "source": [
    "print(tree.value)"
   ]
  },
  {
   "cell_type": "code",
   "execution_count": 3,
   "id": "variable-leisure",
   "metadata": {},
   "outputs": [],
   "source": [
    "def branchSums(root):\n",
    "\tarray = []\n",
    "\tbranchSumsHelper(root,array,0)\n",
    "\treturn array\n",
    "\t\n",
    "def branchSumsHelper(start,array,tot):\n",
    "\tif start is None:\n",
    "\t\treturn\n",
    "\t\n",
    "\ttot = tot + start.value\n",
    "\tif start.left is None and start.right is None:\n",
    "\t\tarray.append(list(tot))\n",
    "\t\treturn \n",
    "\t\n",
    "\tbranchSumsHelper(start.left, tot, array)"
   ]
  },
  {
   "cell_type": "code",
   "execution_count": 5,
   "id": "increased-bleeding",
   "metadata": {},
   "outputs": [
    {
     "ename": "AttributeError",
     "evalue": "'str' object has no attribute 'value'",
     "output_type": "error",
     "traceback": [
      "\u001b[0;31m---------------------------------------------------------------------------\u001b[0m",
      "\u001b[0;31mAttributeError\u001b[0m                            Traceback (most recent call last)",
      "\u001b[0;32m<ipython-input-5-7fbf564f8fd8>\u001b[0m in \u001b[0;36m<module>\u001b[0;34m\u001b[0m\n\u001b[0;32m----> 1\u001b[0;31m \u001b[0mbranchSums\u001b[0m\u001b[0;34m(\u001b[0m\u001b[0;34m\"1\"\u001b[0m\u001b[0;34m)\u001b[0m\u001b[0;34m\u001b[0m\u001b[0;34m\u001b[0m\u001b[0m\n\u001b[0m",
      "\u001b[0;32m<ipython-input-3-6576806df797>\u001b[0m in \u001b[0;36mbranchSums\u001b[0;34m(root)\u001b[0m\n\u001b[1;32m      1\u001b[0m \u001b[0;32mdef\u001b[0m \u001b[0mbranchSums\u001b[0m\u001b[0;34m(\u001b[0m\u001b[0mroot\u001b[0m\u001b[0;34m)\u001b[0m\u001b[0;34m:\u001b[0m\u001b[0;34m\u001b[0m\u001b[0;34m\u001b[0m\u001b[0m\n\u001b[1;32m      2\u001b[0m         \u001b[0marray\u001b[0m \u001b[0;34m=\u001b[0m \u001b[0;34m[\u001b[0m\u001b[0;34m]\u001b[0m\u001b[0;34m\u001b[0m\u001b[0;34m\u001b[0m\u001b[0m\n\u001b[0;32m----> 3\u001b[0;31m         \u001b[0mbranchSumsHelper\u001b[0m\u001b[0;34m(\u001b[0m\u001b[0mroot\u001b[0m\u001b[0;34m,\u001b[0m\u001b[0marray\u001b[0m\u001b[0;34m,\u001b[0m\u001b[0;36m0\u001b[0m\u001b[0;34m)\u001b[0m\u001b[0;34m\u001b[0m\u001b[0;34m\u001b[0m\u001b[0m\n\u001b[0m\u001b[1;32m      4\u001b[0m         \u001b[0;32mreturn\u001b[0m \u001b[0marray\u001b[0m\u001b[0;34m\u001b[0m\u001b[0;34m\u001b[0m\u001b[0m\n\u001b[1;32m      5\u001b[0m \u001b[0;34m\u001b[0m\u001b[0m\n",
      "\u001b[0;32m<ipython-input-3-6576806df797>\u001b[0m in \u001b[0;36mbranchSumsHelper\u001b[0;34m(start, array, tot)\u001b[0m\n\u001b[1;32m      8\u001b[0m                 \u001b[0;32mreturn\u001b[0m\u001b[0;34m\u001b[0m\u001b[0;34m\u001b[0m\u001b[0m\n\u001b[1;32m      9\u001b[0m \u001b[0;34m\u001b[0m\u001b[0m\n\u001b[0;32m---> 10\u001b[0;31m         \u001b[0mtot\u001b[0m \u001b[0;34m=\u001b[0m \u001b[0mtot\u001b[0m \u001b[0;34m+\u001b[0m \u001b[0mstart\u001b[0m\u001b[0;34m.\u001b[0m\u001b[0mvalue\u001b[0m\u001b[0;34m\u001b[0m\u001b[0;34m\u001b[0m\u001b[0m\n\u001b[0m\u001b[1;32m     11\u001b[0m         \u001b[0;32mif\u001b[0m \u001b[0mstart\u001b[0m\u001b[0;34m.\u001b[0m\u001b[0mleft\u001b[0m \u001b[0;32mis\u001b[0m \u001b[0;32mNone\u001b[0m \u001b[0;32mand\u001b[0m \u001b[0mstart\u001b[0m\u001b[0;34m.\u001b[0m\u001b[0mright\u001b[0m \u001b[0;32mis\u001b[0m \u001b[0;32mNone\u001b[0m\u001b[0;34m:\u001b[0m\u001b[0;34m\u001b[0m\u001b[0;34m\u001b[0m\u001b[0m\n\u001b[1;32m     12\u001b[0m                 \u001b[0marray\u001b[0m\u001b[0;34m.\u001b[0m\u001b[0mappend\u001b[0m\u001b[0;34m(\u001b[0m\u001b[0mlist\u001b[0m\u001b[0;34m(\u001b[0m\u001b[0mtot\u001b[0m\u001b[0;34m)\u001b[0m\u001b[0;34m)\u001b[0m\u001b[0;34m\u001b[0m\u001b[0;34m\u001b[0m\u001b[0m\n",
      "\u001b[0;31mAttributeError\u001b[0m: 'str' object has no attribute 'value'"
     ]
    }
   ],
   "source": [
    "branchSums(\"1\")"
   ]
  },
  {
   "cell_type": "code",
   "execution_count": 10,
   "id": "emerging-repository",
   "metadata": {},
   "outputs": [],
   "source": [
    "tree={\n",
    "  \"nodes\": [\n",
    "    {\"id\": \"1\", \"left\": \"2\", \"right\": \"3\", \"value\": 1},\n",
    "    {\"id\": \"2\", \"left\": \"4\", \"right\": \"5\", \"value\": 2},\n",
    "    {\"id\": \"3\", \"left\": \"6\", \"right\": \"7\", \"value\": 3},\n",
    "    {\"id\": \"4\", \"left\": \"8\", \"right\": \"9\", \"value\": 4},\n",
    "    {\"id\": \"5\", \"left\": \"10\", \"right\": None, \"value\": 5},\n",
    "    {\"id\": \"6\", \"left\": None, \"right\": None, \"value\": 6},\n",
    "    {\"id\": \"7\", \"left\": None, \"right\": None, \"value\": 7},\n",
    "    {\"id\": \"8\", \"left\": None, \"right\": None, \"value\": 8},\n",
    "    {\"id\": \"9\", \"left\": None, \"right\": None, \"value\": 9},\n",
    "    {\"id\": \"10\", \"left\": None, \"right\": None, \"value\": 10}\n",
    "  ],\n",
    "  \"root\": \"1\"\n",
    "}"
   ]
  },
  {
   "cell_type": "code",
   "execution_count": 14,
   "id": "solid-apparatus",
   "metadata": {},
   "outputs": [],
   "source": [
    "root={\n",
    "  \"nodes\": [\n",
    "    {\"id\": \"1\", \"left\": \"2\", \"right\": \"3\", \"value\": 1},\n",
    "    {\"id\": \"2\", \"left\": \"4\", \"right\": \"5\", \"value\": 2},\n",
    "    {\"id\": \"3\", \"left\": \"6\", \"right\": \"7\", \"value\": 3},\n",
    "    {\"id\": \"4\", \"left\": \"8\", \"right\": \"9\", \"value\": 4},\n",
    "    {\"id\": \"5\", \"left\": \"10\", \"right\": None, \"value\": 5},\n",
    "    {\"id\": \"6\", \"left\": None, \"right\": None, \"value\": 6},\n",
    "    {\"id\": \"7\", \"left\": None, \"right\": None, \"value\": 7},\n",
    "    {\"id\": \"8\", \"left\": None, \"right\": None, \"value\": 8},\n",
    "    {\"id\": \"9\", \"left\": None, \"right\": None, \"value\": 9},\n",
    "    {\"id\": \"10\", \"left\": None, \"right\": None, \"value\": 10}\n",
    "  ],\n",
    "  \"root\": \"1\"\n",
    "}\n",
    "\n",
    "def branchSums(root):\n",
    "\tarray = []\n",
    "\tbranchSumsHelper(root,array,0)\n",
    "\treturn array\n",
    "\t\n",
    "def branchSumsHelper(start,array,tot):\n",
    "\tif start is None:\n",
    "\t\treturn\n",
    "\t\n",
    "\ttot2 = tot + start.value\n",
    "\tif start.left is None and start.right is None:\n",
    "\t\tarray.append(tot)\n",
    "\t\treturn \n",
    "\t\n",
    "\tbranchSumsHelper(start.left, array, tot2)\n",
    "\tbranchSumsHelper(start.right, array, tot2)"
   ]
  },
  {
   "cell_type": "code",
   "execution_count": 15,
   "id": "nervous-china",
   "metadata": {},
   "outputs": [
    {
     "ename": "AttributeError",
     "evalue": "'dict' object has no attribute 'value'",
     "output_type": "error",
     "traceback": [
      "\u001b[0;31m---------------------------------------------------------------------------\u001b[0m",
      "\u001b[0;31mAttributeError\u001b[0m                            Traceback (most recent call last)",
      "\u001b[0;32m<ipython-input-15-ffcc41a907f0>\u001b[0m in \u001b[0;36m<module>\u001b[0;34m\u001b[0m\n\u001b[0;32m----> 1\u001b[0;31m \u001b[0mbranchSums\u001b[0m\u001b[0;34m(\u001b[0m\u001b[0mroot\u001b[0m\u001b[0;34m)\u001b[0m\u001b[0;34m\u001b[0m\u001b[0;34m\u001b[0m\u001b[0m\n\u001b[0m",
      "\u001b[0;32m<ipython-input-14-fff6d4a04430>\u001b[0m in \u001b[0;36mbranchSums\u001b[0;34m(root)\u001b[0m\n\u001b[1;32m     17\u001b[0m \u001b[0;32mdef\u001b[0m \u001b[0mbranchSums\u001b[0m\u001b[0;34m(\u001b[0m\u001b[0mroot\u001b[0m\u001b[0;34m)\u001b[0m\u001b[0;34m:\u001b[0m\u001b[0;34m\u001b[0m\u001b[0;34m\u001b[0m\u001b[0m\n\u001b[1;32m     18\u001b[0m         \u001b[0marray\u001b[0m \u001b[0;34m=\u001b[0m \u001b[0;34m[\u001b[0m\u001b[0;34m]\u001b[0m\u001b[0;34m\u001b[0m\u001b[0;34m\u001b[0m\u001b[0m\n\u001b[0;32m---> 19\u001b[0;31m         \u001b[0mbranchSumsHelper\u001b[0m\u001b[0;34m(\u001b[0m\u001b[0mroot\u001b[0m\u001b[0;34m,\u001b[0m\u001b[0marray\u001b[0m\u001b[0;34m,\u001b[0m\u001b[0;36m0\u001b[0m\u001b[0;34m)\u001b[0m\u001b[0;34m\u001b[0m\u001b[0;34m\u001b[0m\u001b[0m\n\u001b[0m\u001b[1;32m     20\u001b[0m         \u001b[0;32mreturn\u001b[0m \u001b[0marray\u001b[0m\u001b[0;34m\u001b[0m\u001b[0;34m\u001b[0m\u001b[0m\n\u001b[1;32m     21\u001b[0m \u001b[0;34m\u001b[0m\u001b[0m\n",
      "\u001b[0;32m<ipython-input-14-fff6d4a04430>\u001b[0m in \u001b[0;36mbranchSumsHelper\u001b[0;34m(start, array, tot)\u001b[0m\n\u001b[1;32m     24\u001b[0m                 \u001b[0;32mreturn\u001b[0m\u001b[0;34m\u001b[0m\u001b[0;34m\u001b[0m\u001b[0m\n\u001b[1;32m     25\u001b[0m \u001b[0;34m\u001b[0m\u001b[0m\n\u001b[0;32m---> 26\u001b[0;31m         \u001b[0mtot2\u001b[0m \u001b[0;34m=\u001b[0m \u001b[0mtot\u001b[0m \u001b[0;34m+\u001b[0m \u001b[0mstart\u001b[0m\u001b[0;34m.\u001b[0m\u001b[0mvalue\u001b[0m\u001b[0;34m\u001b[0m\u001b[0;34m\u001b[0m\u001b[0m\n\u001b[0m\u001b[1;32m     27\u001b[0m         \u001b[0;32mif\u001b[0m \u001b[0mstart\u001b[0m\u001b[0;34m.\u001b[0m\u001b[0mleft\u001b[0m \u001b[0;32mis\u001b[0m \u001b[0;32mNone\u001b[0m \u001b[0;32mand\u001b[0m \u001b[0mstart\u001b[0m\u001b[0;34m.\u001b[0m\u001b[0mright\u001b[0m \u001b[0;32mis\u001b[0m \u001b[0;32mNone\u001b[0m\u001b[0;34m:\u001b[0m\u001b[0;34m\u001b[0m\u001b[0;34m\u001b[0m\u001b[0m\n\u001b[1;32m     28\u001b[0m                 \u001b[0marray\u001b[0m\u001b[0;34m.\u001b[0m\u001b[0mappend\u001b[0m\u001b[0;34m(\u001b[0m\u001b[0mtot\u001b[0m\u001b[0;34m)\u001b[0m\u001b[0;34m\u001b[0m\u001b[0;34m\u001b[0m\u001b[0m\n",
      "\u001b[0;31mAttributeError\u001b[0m: 'dict' object has no attribute 'value'"
     ]
    }
   ],
   "source": [
    "branchSums(root)"
   ]
  },
  {
   "cell_type": "code",
   "execution_count": 60,
   "id": "sunset-frequency",
   "metadata": {},
   "outputs": [
    {
     "name": "stdout",
     "output_type": "stream",
     "text": [
      "word = [1, 1, 1, 1, 1, 1, 1, 1, 1] and phrase = [1, 1, 1, 1, 1, 1, 1, 1, 1]\n"
     ]
    },
    {
     "data": {
      "text/plain": [
       "True"
      ]
     },
     "execution_count": 60,
     "metadata": {},
     "output_type": "execute_result"
    }
   ],
   "source": [
    "\n",
    "word =  '213456126'\n",
    "phrase ='bacdefabe'\n",
    "from itertools import groupby\n",
    "def pattern_matching(word, phrase):\n",
    "    groups_w = groupby(word)\n",
    "    result_w = [(sum(1 for _ in group)) for label, group in groups_w]\n",
    "    groups_p = groupby(phrase)\n",
    "    result_p = [(sum(1 for _ in group)) for label, group in groups_p]\n",
    "    print(f'word = {result_w} and phrase = {result_p}')\n",
    "    return result_w==result_p\n",
    "pattern_matching(word, phrase)"
   ]
  },
  {
   "cell_type": "code",
   "execution_count": 59,
   "id": "biblical-charter",
   "metadata": {},
   "outputs": [
    {
     "name": "stdout",
     "output_type": "stream",
     "text": [
      "Phrase =  213456126\n",
      "s =  {'2': '1'}\n",
      "----------------------\n",
      "Iteration  0  =>  Phrase[i] =  2\n",
      "----- IF  2  in  {'2': '1'} ------ st =  1\n",
      "Iteration  1  =>  Phrase[i] =  1\n",
      "    ELSE  {'2': '1'} ------ st =  10\n",
      "Iteration  2  =>  Phrase[i] =  3\n",
      "    ELSE  {'2': '1'} ------ st =  100\n",
      "Iteration  3  =>  Phrase[i] =  4\n",
      "    ELSE  {'2': '1'} ------ st =  1000\n",
      "Iteration  4  =>  Phrase[i] =  5\n",
      "    ELSE  {'2': '1'} ------ st =  10000\n",
      "Iteration  5  =>  Phrase[i] =  6\n",
      "    ELSE  {'2': '1'} ------ st =  100000\n",
      "Iteration  6  =>  Phrase[i] =  1\n",
      "    ELSE  {'2': '1'} ------ st =  1000000\n",
      "Iteration  7  =>  Phrase[i] =  2\n",
      "----- IF  2  in  {'2': '1'} ------ st =  10000001\n",
      "Iteration  8  =>  Phrase[i] =  6\n",
      "    ELSE  {'2': '1'} ------ st =  100000010\n",
      "--------END--------\n",
      "Phrase =  bacdefabe\n",
      "s =  {'b': '1'}\n",
      "----------------------\n",
      "Iteration  0  =>  Phrase[i] =  b\n",
      "----- IF  b  in  {'b': '1'} ------ st =  1\n",
      "Iteration  1  =>  Phrase[i] =  a\n",
      "    ELSE  {'b': '1'} ------ st =  10\n",
      "Iteration  2  =>  Phrase[i] =  c\n",
      "    ELSE  {'b': '1'} ------ st =  100\n",
      "Iteration  3  =>  Phrase[i] =  d\n",
      "    ELSE  {'b': '1'} ------ st =  1000\n",
      "Iteration  4  =>  Phrase[i] =  e\n",
      "    ELSE  {'b': '1'} ------ st =  10000\n",
      "Iteration  5  =>  Phrase[i] =  f\n",
      "    ELSE  {'b': '1'} ------ st =  100000\n",
      "Iteration  6  =>  Phrase[i] =  a\n",
      "    ELSE  {'b': '1'} ------ st =  1000000\n",
      "Iteration  7  =>  Phrase[i] =  b\n",
      "----- IF  b  in  {'b': '1'} ------ st =  10000001\n",
      "Iteration  8  =>  Phrase[i] =  e\n",
      "    ELSE  {'b': '1'} ------ st =  100000010\n",
      "--------END--------\n"
     ]
    },
    {
     "data": {
      "text/plain": [
       "True"
      ]
     },
     "execution_count": 59,
     "metadata": {},
     "output_type": "execute_result"
    }
   ],
   "source": [
    "def check(ph):\n",
    "    s={}\n",
    "    st=''\n",
    "    phrase=ph\n",
    "    print(\"Phrase = \",phrase)\n",
    "    s[phrase[0]]='1'\n",
    "    print(\"s = \",s)\n",
    "    print(\"----------------------\")\n",
    "    for i in range(len(phrase)):\n",
    "        print(\"Iteration \",i,\" =>  Phrase[i] = \",phrase[i])\n",
    "        if phrase[i] in s:\n",
    "            st+=s[phrase[i]]\n",
    "            print(\"----- IF \",phrase[i], \" in \", s, \"------ st = \",st)\n",
    "        else:\n",
    "            st+='0'\n",
    "            print(\"    ELSE \", s, \"------ st = \",st)\n",
    "    print(\"--------END--------\")\n",
    "    return st\n",
    "\n",
    "def string_ch(word,phrase):\n",
    "    w=check(word)\n",
    "    p=check(phrase)\n",
    "    if w==p:\n",
    "        return True\n",
    "    else:\n",
    "        return False\n",
    "\n",
    "string_ch('213456126','bacdefabe')\n",
    "213456126\n",
    "bacdefabe"
   ]
  },
  {
   "cell_type": "code",
   "execution_count": null,
   "id": "defined-archive",
   "metadata": {},
   "outputs": [],
   "source": []
  }
 ],
 "metadata": {
  "kernelspec": {
   "display_name": "Python 3",
   "language": "python",
   "name": "python3"
  },
  "language_info": {
   "codemirror_mode": {
    "name": "ipython",
    "version": 3
   },
   "file_extension": ".py",
   "mimetype": "text/x-python",
   "name": "python",
   "nbconvert_exporter": "python",
   "pygments_lexer": "ipython3",
   "version": "3.8.5"
  }
 },
 "nbformat": 4,
 "nbformat_minor": 5
}
