{
 "cells": [
  {
   "cell_type": "code",
   "execution_count": 11,
   "id": "bacterial-dance",
   "metadata": {},
   "outputs": [],
   "source": [
    "def valid_paren(input_str):\n",
    "    stack = []\n",
    "    for paren in input_str:\n",
    "        if paren == '(' or paren == '[' or paren == '{' or paren == '(':\n",
    "            stack.append(paren)\n",
    "        else:\n",
    "              # In the case of valid parentheses, the stack cannot be \n",
    "              # be empty if a closing parenthesis is encountered.\n",
    "            if not stack:\n",
    "                print(input_str,\"0\")\n",
    "                return\n",
    "            else:\n",
    "                # If the input string contains a closing bracket,\n",
    "                # then pop the corresponding opening parenthesis if\n",
    "                # present.\n",
    "                top = stack[-1]\n",
    "                if paren == ')' and top == '(' or \\\n",
    "                paren == ']' and top == '[' or \\\n",
    "                paren == '}' and top == '{' or \\\n",
    "                paren == ')' and top == '(':\n",
    "                    stack.pop()\n",
    "  # Checking the status of the stack to determine the\n",
    "  # validity of the string.\n",
    "    if not stack:\n",
    "        print(input_str, \"contains valid parentheses.\")\n",
    "    else:\n",
    "        print(input_str, \"0\")"
   ]
  },
  {
   "cell_type": "code",
   "execution_count": 12,
   "id": "stainless-farmer",
   "metadata": {},
   "outputs": [
    {
     "name": "stdout",
     "output_type": "stream",
     "text": [
      "{{}}()[()] contains valid parentheses.\n",
      "{][} contains invalid parentheses. 0\n",
      ") contains invalid parentheses. 0\n"
     ]
    }
   ],
   "source": [
    "input1 = \"{{}}()[()]\"\n",
    "input2 = \"{][}\"\n",
    "input3 = \")\"\n",
    "valid_paren(input1)\n",
    "valid_paren(input2)\n",
    "valid_paren(input3)"
   ]
  },
  {
   "cell_type": "code",
   "execution_count": null,
   "id": "baking-vermont",
   "metadata": {},
   "outputs": [],
   "source": []
  }
 ],
 "metadata": {
  "kernelspec": {
   "display_name": "Python 3",
   "language": "python",
   "name": "python3"
  },
  "language_info": {
   "codemirror_mode": {
    "name": "ipython",
    "version": 3
   },
   "file_extension": ".py",
   "mimetype": "text/x-python",
   "name": "python",
   "nbconvert_exporter": "python",
   "pygments_lexer": "ipython3",
   "version": "3.8.5"
  }
 },
 "nbformat": 4,
 "nbformat_minor": 5
}
