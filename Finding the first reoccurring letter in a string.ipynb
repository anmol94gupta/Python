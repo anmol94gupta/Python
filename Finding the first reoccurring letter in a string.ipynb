{
 "cells": [
  {
   "cell_type": "code",
   "execution_count": null,
   "metadata": {},
   "outputs": [],
   "source": [
    "# Finding the first reoccurring letter in a string"
   ]
  },
  {
   "cell_type": "code",
   "execution_count": 6,
   "metadata": {},
   "outputs": [],
   "source": [
    "def Func(givenstring):\n",
    "    counts={}\n",
    "    for char in givenstring:\n",
    "        if char in counts:\n",
    "            return char\n",
    "        counts[char]=1\n",
    "        print (counts)\n",
    "    return \"NONE\"    "
   ]
  },
  {
   "cell_type": "code",
   "execution_count": 7,
   "metadata": {},
   "outputs": [
    {
     "name": "stdout",
     "output_type": "stream",
     "text": [
      "{'A': 1}\n",
      "{'A': 1, 'B': 1}\n"
     ]
    },
    {
     "data": {
      "text/plain": [
       "'A'"
      ]
     },
     "execution_count": 7,
     "metadata": {},
     "output_type": "execute_result"
    }
   ],
   "source": [
    "Func(\"ABABSCOWF\")"
   ]
  },
  {
   "cell_type": "code",
   "execution_count": 8,
   "metadata": {},
   "outputs": [
    {
     "name": "stdout",
     "output_type": "stream",
     "text": [
      "{'a': 1}\n",
      "{'a': 1, 's': 1}\n",
      "{'a': 1, 's': 1, 'j': 1}\n",
      "{'a': 1, 's': 1, 'j': 1, 'n': 1}\n",
      "{'a': 1, 's': 1, 'j': 1, 'n': 1, 'd': 1}\n",
      "{'a': 1, 's': 1, 'j': 1, 'n': 1, 'd': 1, 'q': 1}\n",
      "{'a': 1, 's': 1, 'j': 1, 'n': 1, 'd': 1, 'q': 1, 'i': 1}\n",
      "{'a': 1, 's': 1, 'j': 1, 'n': 1, 'd': 1, 'q': 1, 'i': 1, 'w': 1}\n",
      "{'a': 1, 's': 1, 'j': 1, 'n': 1, 'd': 1, 'q': 1, 'i': 1, 'w': 1, 'c': 1}\n"
     ]
    },
    {
     "data": {
      "text/plain": [
       "'q'"
      ]
     },
     "execution_count": 8,
     "metadata": {},
     "output_type": "execute_result"
    }
   ],
   "source": [
    "Func(\"asjndqiwcqwkmfcaklscmaqows\")"
   ]
  },
  {
   "cell_type": "code",
   "execution_count": null,
   "metadata": {},
   "outputs": [],
   "source": []
  }
 ],
 "metadata": {
  "kernelspec": {
   "display_name": "Python 3",
   "language": "python",
   "name": "python3"
  },
  "language_info": {
   "codemirror_mode": {
    "name": "ipython",
    "version": 3
   },
   "file_extension": ".py",
   "mimetype": "text/x-python",
   "name": "python",
   "nbconvert_exporter": "python",
   "pygments_lexer": "ipython3",
   "version": "3.7.6"
  }
 },
 "nbformat": 4,
 "nbformat_minor": 4
}
