{
 "cells": [
  {
   "cell_type": "code",
   "execution_count": 1,
   "id": "ultimate-enclosure",
   "metadata": {},
   "outputs": [],
   "source": [
    "# Dataset Link : https://www.dropbox.com/s/tsn55dr62jtnxhe/dataset.zip?dl=0"
   ]
  },
  {
   "cell_type": "code",
   "execution_count": 2,
   "id": "difficult-africa",
   "metadata": {},
   "outputs": [
    {
     "name": "stderr",
     "output_type": "stream",
     "text": [
      "Using TensorFlow backend.\n"
     ]
    }
   ],
   "source": [
    "import tensorflow as tf\n",
    "from keras.preprocessing.image import ImageDataGenerator"
   ]
  },
  {
   "cell_type": "code",
   "execution_count": 3,
   "id": "vanilla-folder",
   "metadata": {},
   "outputs": [
    {
     "data": {
      "text/plain": [
       "'2.0.0'"
      ]
     },
     "execution_count": 3,
     "metadata": {},
     "output_type": "execute_result"
    }
   ],
   "source": [
    "tf.__version__"
   ]
  },
  {
   "cell_type": "code",
   "execution_count": 4,
   "id": "considerable-mobility",
   "metadata": {},
   "outputs": [],
   "source": [
    "#PART A : Prepocessing the data"
   ]
  },
  {
   "cell_type": "code",
   "execution_count": 57,
   "id": "rubber-harvey",
   "metadata": {},
   "outputs": [
    {
     "name": "stdout",
     "output_type": "stream",
     "text": [
      "Found 8000 images belonging to 2 classes.\n"
     ]
    }
   ],
   "source": [
    "#Preprocessing step 1 : Training set\n",
    "train_datagen = ImageDataGenerator(rescale = 1./255, # applies feature scaling\n",
    "                                   shear_range = 0.2, # transformations for image augmentation\n",
    "                                   zoom_range = 0.2, # transformations for image augmentation\n",
    "                                   horizontal_flip = True) # transformations for image augmentation\n",
    "                                    # image augmentation done to avoid overfitting.\n",
    "training_set = train_datagen.flow_from_directory('dataset/training_set',\n",
    "                                                 target_size = (150, 150),\n",
    "                                                 batch_size = 32,\n",
    "                                                 class_mode = 'binary')"
   ]
  },
  {
   "cell_type": "code",
   "execution_count": 58,
   "id": "labeled-republic",
   "metadata": {},
   "outputs": [
    {
     "name": "stdout",
     "output_type": "stream",
     "text": [
      "Found 2000 images belonging to 2 classes.\n"
     ]
    }
   ],
   "source": [
    "#Preprocessing step 2 : Test set\n",
    "test_datagen = ImageDataGenerator(rescale = 1./255)\n",
    "test_set = test_datagen.flow_from_directory('dataset/test_set',\n",
    "                                            target_size = (150, 150),\n",
    "                                            batch_size = 32,\n",
    "                                            class_mode = 'binary')"
   ]
  },
  {
   "cell_type": "code",
   "execution_count": 59,
   "id": "human-tragedy",
   "metadata": {},
   "outputs": [],
   "source": [
    "#PART B : Initialising CNN\n",
    "cnn = tf.keras.models.Sequential()"
   ]
  },
  {
   "cell_type": "code",
   "execution_count": 60,
   "id": "governing-contrary",
   "metadata": {},
   "outputs": [],
   "source": [
    "#1 Convolution\n",
    "cnn.add(tf.keras.layers.Conv2D(filters=32, kernel_size=3, activation='relu', input_shape=[150, 150, 3]))"
   ]
  },
  {
   "cell_type": "code",
   "execution_count": 61,
   "id": "visible-development",
   "metadata": {},
   "outputs": [],
   "source": [
    "#2 Pooling\n",
    "cnn.add(tf.keras.layers.MaxPool2D(pool_size=2, strides=2))"
   ]
  },
  {
   "cell_type": "code",
   "execution_count": 62,
   "id": "incorporated-explorer",
   "metadata": {},
   "outputs": [],
   "source": [
    "# Adding additional convolutional layer\n",
    "cnn.add(tf.keras.layers.Conv2D(filters=32, kernel_size=3, activation='relu'))\n",
    "cnn.add(tf.keras.layers.MaxPool2D(pool_size=2, strides=2))"
   ]
  },
  {
   "cell_type": "code",
   "execution_count": 63,
   "id": "consolidated-healthcare",
   "metadata": {},
   "outputs": [],
   "source": [
    "#3 Flattening\n",
    "cnn.add(tf.keras.layers.Flatten())"
   ]
  },
  {
   "cell_type": "code",
   "execution_count": 64,
   "id": "pursuant-change",
   "metadata": {},
   "outputs": [],
   "source": [
    "#4 Full Connection\n",
    "cnn.add(tf.keras.layers.Dense(units=300, activation='relu'))"
   ]
  },
  {
   "cell_type": "code",
   "execution_count": 65,
   "id": "weighted-viking",
   "metadata": {},
   "outputs": [],
   "source": [
    "#5 Output Layer\n",
    "cnn.add(tf.keras.layers.Dense(units=1, activation='sigmoid'))"
   ]
  },
  {
   "cell_type": "code",
   "execution_count": 66,
   "id": "upset-contribution",
   "metadata": {},
   "outputs": [],
   "source": [
    "#PART C : Training CNN"
   ]
  },
  {
   "cell_type": "code",
   "execution_count": 67,
   "id": "satellite-copper",
   "metadata": {},
   "outputs": [],
   "source": [
    "#1 Compiling CNN\n",
    "cnn.compile(optimizer = 'adam', loss = 'binary_crossentropy', metrics = ['accuracy'])"
   ]
  },
  {
   "cell_type": "code",
   "execution_count": 68,
   "id": "strategic-highlight",
   "metadata": {},
   "outputs": [
    {
     "name": "stdout",
     "output_type": "stream",
     "text": [
      "Train for 250 steps, validate for 63 steps\n",
      "Epoch 1/25\n",
      "250/250 [==============================] - 2887s 12s/step - loss: 0.7682 - accuracy: 0.5616 - val_loss: 0.6764 - val_accuracy: 0.5530\n",
      "Epoch 2/25\n",
      "250/250 [==============================] - 5247s 21s/step - loss: 0.6389 - accuracy: 0.6481 - val_loss: 0.6119 - val_accuracy: 0.6685\n",
      "Epoch 3/25\n",
      "250/250 [==============================] - 5563s 22s/step - loss: 0.6036 - accuracy: 0.6724 - val_loss: 0.5625 - val_accuracy: 0.7225\n",
      "Epoch 4/25\n",
      "250/250 [==============================] - 5159s 21s/step - loss: 0.5579 - accuracy: 0.7165 - val_loss: 0.5281 - val_accuracy: 0.7385\n",
      "Epoch 5/25\n",
      "250/250 [==============================] - 4915s 20s/step - loss: 0.5228 - accuracy: 0.7377 - val_loss: 0.5423 - val_accuracy: 0.7315\n",
      "Epoch 6/25\n",
      "250/250 [==============================] - 4424s 18s/step - loss: 0.4940 - accuracy: 0.7636 - val_loss: 0.5154 - val_accuracy: 0.7645\n",
      "Epoch 7/25\n",
      "250/250 [==============================] - 4525s 18s/step - loss: 0.4714 - accuracy: 0.7745 - val_loss: 0.4911 - val_accuracy: 0.7770\n",
      "Epoch 8/25\n",
      "250/250 [==============================] - 2420s 10s/step - loss: 0.4443 - accuracy: 0.7925 - val_loss: 0.5063 - val_accuracy: 0.7780\n",
      "Epoch 9/25\n",
      "250/250 [==============================] - 559s 2s/step - loss: 0.4177 - accuracy: 0.8019 - val_loss: 0.4754 - val_accuracy: 0.7815\n",
      "Epoch 10/25\n",
      "250/250 [==============================] - 374s 1s/step - loss: 0.4038 - accuracy: 0.8149 - val_loss: 0.5027 - val_accuracy: 0.7750\n",
      "Epoch 11/25\n",
      "250/250 [==============================] - 376s 2s/step - loss: 0.3815 - accuracy: 0.8309 - val_loss: 0.4607 - val_accuracy: 0.8005\n",
      "Epoch 12/25\n",
      "250/250 [==============================] - 378s 2s/step - loss: 0.3604 - accuracy: 0.8435 - val_loss: 0.5016 - val_accuracy: 0.7775\n",
      "Epoch 13/25\n",
      "250/250 [==============================] - 378s 2s/step - loss: 0.3397 - accuracy: 0.8490 - val_loss: 0.5046 - val_accuracy: 0.7825\n",
      "Epoch 14/25\n",
      "250/250 [==============================] - 375s 1s/step - loss: 0.3165 - accuracy: 0.8627 - val_loss: 0.5178 - val_accuracy: 0.7865\n",
      "Epoch 15/25\n",
      "250/250 [==============================] - 376s 2s/step - loss: 0.2901 - accuracy: 0.8777 - val_loss: 0.5382 - val_accuracy: 0.7845\n",
      "Epoch 16/25\n",
      "250/250 [==============================] - 376s 2s/step - loss: 0.2741 - accuracy: 0.8864 - val_loss: 0.5283 - val_accuracy: 0.8035\n",
      "Epoch 17/25\n",
      "250/250 [==============================] - 378s 2s/step - loss: 0.2586 - accuracy: 0.8951 - val_loss: 0.5638 - val_accuracy: 0.7930\n",
      "Epoch 18/25\n",
      "250/250 [==============================] - 376s 2s/step - loss: 0.2371 - accuracy: 0.9034 - val_loss: 0.5906 - val_accuracy: 0.8000\n",
      "Epoch 19/25\n",
      "250/250 [==============================] - 375s 1s/step - loss: 0.2268 - accuracy: 0.9084 - val_loss: 0.5934 - val_accuracy: 0.7905\n",
      "Epoch 20/25\n",
      "250/250 [==============================] - 374s 1s/step - loss: 0.2043 - accuracy: 0.9197 - val_loss: 0.6514 - val_accuracy: 0.7855\n",
      "Epoch 21/25\n",
      "250/250 [==============================] - 374s 1s/step - loss: 0.2032 - accuracy: 0.9171 - val_loss: 0.6089 - val_accuracy: 0.7865\n",
      "Epoch 22/25\n",
      "250/250 [==============================] - 372s 1s/step - loss: 0.1826 - accuracy: 0.9276 - val_loss: 0.6563 - val_accuracy: 0.7970\n",
      "Epoch 23/25\n",
      "250/250 [==============================] - 375s 1s/step - loss: 0.1682 - accuracy: 0.9366 - val_loss: 0.6717 - val_accuracy: 0.8105\n",
      "Epoch 24/25\n",
      "250/250 [==============================] - 372s 1s/step - loss: 0.1643 - accuracy: 0.9414 - val_loss: 0.6487 - val_accuracy: 0.8035\n",
      "Epoch 25/25\n",
      "250/250 [==============================] - 373s 1s/step - loss: 0.1461 - accuracy: 0.9440 - val_loss: 0.7347 - val_accuracy: 0.7945\n"
     ]
    },
    {
     "data": {
      "text/plain": [
       "<tensorflow.python.keras.callbacks.History at 0x7fdad687bc50>"
      ]
     },
     "execution_count": 68,
     "metadata": {},
     "output_type": "execute_result"
    }
   ],
   "source": [
    "#2 Training on training set\n",
    "cnn.fit(x = training_set, validation_data = test_set, epochs = 25)"
   ]
  },
  {
   "cell_type": "code",
   "execution_count": 69,
   "id": "stylish-bishop",
   "metadata": {},
   "outputs": [],
   "source": [
    "#PART D : Doing Prediction"
   ]
  },
  {
   "cell_type": "code",
   "execution_count": 79,
   "id": "limited-three",
   "metadata": {},
   "outputs": [
    {
     "name": "stdout",
     "output_type": "stream",
     "text": [
      "[[0.]]\n",
      "Prediction =  cat\n"
     ]
    }
   ],
   "source": [
    "import numpy as np\n",
    "from keras.preprocessing import image\n",
    "test_image = image.load_img('dataset/single_prediction/test3.PNG', target_size = (150, 150))\n",
    "test_image = image.img_to_array(test_image)\n",
    "#print(test_image[1])\n",
    "\n",
    "test_image = np.expand_dims(test_image, axis = 0)\n",
    "\n",
    "result = cnn.predict(test_image)\n",
    "training_set.class_indices\n",
    "print(result)\n",
    "if result[0][0] == 1:\n",
    "  prediction = 'dog'\n",
    "else:\n",
    "  prediction = 'cat'\n",
    "print(\"Prediction = \",prediction)"
   ]
  },
  {
   "cell_type": "code",
   "execution_count": null,
   "id": "color-transmission",
   "metadata": {},
   "outputs": [],
   "source": []
  }
 ],
 "metadata": {
  "kernelspec": {
   "display_name": "Python 3",
   "language": "python",
   "name": "python3"
  },
  "language_info": {
   "codemirror_mode": {
    "name": "ipython",
    "version": 3
   },
   "file_extension": ".py",
   "mimetype": "text/x-python",
   "name": "python",
   "nbconvert_exporter": "python",
   "pygments_lexer": "ipython3",
   "version": "3.7.9"
  }
 },
 "nbformat": 4,
 "nbformat_minor": 5
}
