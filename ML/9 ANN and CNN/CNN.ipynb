{
 "cells": [
  {
   "cell_type": "code",
   "execution_count": null,
   "id": "dutch-shoulder",
   "metadata": {},
   "outputs": [],
   "source": [
    "# Dataset Link : https://www.dropbox.com/s/tsn55dr62jtnxhe/dataset.zip?dl=0"
   ]
  },
  {
   "cell_type": "code",
   "execution_count": 1,
   "id": "obvious-particular",
   "metadata": {},
   "outputs": [
    {
     "name": "stderr",
     "output_type": "stream",
     "text": [
      "Using TensorFlow backend.\n"
     ]
    }
   ],
   "source": [
    "import tensorflow as tf\n",
    "from keras.preprocessing.image import ImageDataGenerator"
   ]
  },
  {
   "cell_type": "code",
   "execution_count": 2,
   "id": "acute-council",
   "metadata": {},
   "outputs": [
    {
     "data": {
      "text/plain": [
       "'2.0.0'"
      ]
     },
     "execution_count": 2,
     "metadata": {},
     "output_type": "execute_result"
    }
   ],
   "source": [
    "tf.__version__"
   ]
  },
  {
   "cell_type": "code",
   "execution_count": 3,
   "id": "brazilian-lesbian",
   "metadata": {},
   "outputs": [],
   "source": [
    "#PART A : Prepocessing the data"
   ]
  },
  {
   "cell_type": "code",
   "execution_count": 4,
   "id": "federal-graham",
   "metadata": {},
   "outputs": [
    {
     "name": "stdout",
     "output_type": "stream",
     "text": [
      "Found 8000 images belonging to 2 classes.\n"
     ]
    }
   ],
   "source": [
    "#Preprocessing step 1 : Training set\n",
    "train_datagen = ImageDataGenerator(rescale = 1./255,\n",
    "                                   shear_range = 0.2,\n",
    "                                   zoom_range = 0.2,\n",
    "                                   horizontal_flip = True)\n",
    "training_set = train_datagen.flow_from_directory('dataset/training_set',\n",
    "                                                 target_size = (64, 64),\n",
    "                                                 batch_size = 32,\n",
    "                                                 class_mode = 'binary')"
   ]
  },
  {
   "cell_type": "code",
   "execution_count": 5,
   "id": "rental-bridal",
   "metadata": {},
   "outputs": [
    {
     "name": "stdout",
     "output_type": "stream",
     "text": [
      "Found 2000 images belonging to 2 classes.\n"
     ]
    }
   ],
   "source": [
    "#Preprocessing step 2 : Test set\n",
    "test_datagen = ImageDataGenerator(rescale = 1./255)\n",
    "test_set = test_datagen.flow_from_directory('dataset/test_set',\n",
    "                                            target_size = (64, 64),\n",
    "                                            batch_size = 32,\n",
    "                                            class_mode = 'binary')"
   ]
  },
  {
   "cell_type": "code",
   "execution_count": 6,
   "id": "plain-animation",
   "metadata": {},
   "outputs": [],
   "source": [
    "#PART B : Initialising CNN\n",
    "cnn = tf.keras.models.Sequential()"
   ]
  },
  {
   "cell_type": "code",
   "execution_count": 7,
   "id": "blind-culture",
   "metadata": {},
   "outputs": [],
   "source": [
    "#1 Convolution\n",
    "cnn.add(tf.keras.layers.Conv2D(filters=32, kernel_size=3, activation='relu', input_shape=[64, 64, 3]))"
   ]
  },
  {
   "cell_type": "code",
   "execution_count": 8,
   "id": "facial-brass",
   "metadata": {},
   "outputs": [],
   "source": [
    "#2 Pooling\n",
    "cnn.add(tf.keras.layers.MaxPool2D(pool_size=2, strides=2))"
   ]
  },
  {
   "cell_type": "code",
   "execution_count": 9,
   "id": "another-partnership",
   "metadata": {},
   "outputs": [],
   "source": [
    "# Adding additional convolutional layer\n",
    "cnn.add(tf.keras.layers.Conv2D(filters=32, kernel_size=3, activation='relu'))\n",
    "cnn.add(tf.keras.layers.MaxPool2D(pool_size=2, strides=2))"
   ]
  },
  {
   "cell_type": "code",
   "execution_count": 10,
   "id": "assigned-pleasure",
   "metadata": {},
   "outputs": [],
   "source": [
    "#3 Flattening\n",
    "cnn.add(tf.keras.layers.Flatten())"
   ]
  },
  {
   "cell_type": "code",
   "execution_count": 11,
   "id": "narrative-vitamin",
   "metadata": {},
   "outputs": [],
   "source": [
    "#4 Full Connection\n",
    "cnn.add(tf.keras.layers.Dense(units=128, activation='relu'))"
   ]
  },
  {
   "cell_type": "code",
   "execution_count": 12,
   "id": "hairy-harassment",
   "metadata": {},
   "outputs": [],
   "source": [
    "#5 Output Layer\n",
    "cnn.add(tf.keras.layers.Dense(units=1, activation='sigmoid'))"
   ]
  },
  {
   "cell_type": "code",
   "execution_count": 13,
   "id": "foster-richardson",
   "metadata": {},
   "outputs": [],
   "source": [
    "#PART C : Training CNN"
   ]
  },
  {
   "cell_type": "code",
   "execution_count": 14,
   "id": "interpreted-tuner",
   "metadata": {},
   "outputs": [],
   "source": [
    "#1 Compiling CNN\n",
    "cnn.compile(optimizer = 'adam', loss = 'binary_crossentropy', metrics = ['accuracy'])"
   ]
  },
  {
   "cell_type": "code",
   "execution_count": 15,
   "id": "accurate-vietnamese",
   "metadata": {},
   "outputs": [
    {
     "name": "stdout",
     "output_type": "stream",
     "text": [
      "Train for 250 steps, validate for 63 steps\n",
      "Epoch 1/25\n",
      "250/250 [==============================] - 85s 341ms/step - loss: 0.6703 - accuracy: 0.5971 - val_loss: 0.6169 - val_accuracy: 0.6715\n",
      "Epoch 2/25\n",
      "250/250 [==============================] - 85s 338ms/step - loss: 0.6088 - accuracy: 0.6706 - val_loss: 0.6339 - val_accuracy: 0.6450\n",
      "Epoch 3/25\n",
      "250/250 [==============================] - 83s 332ms/step - loss: 0.5842 - accuracy: 0.6892 - val_loss: 0.5700 - val_accuracy: 0.7070\n",
      "Epoch 4/25\n",
      "250/250 [==============================] - 84s 334ms/step - loss: 0.5396 - accuracy: 0.7289 - val_loss: 0.5369 - val_accuracy: 0.7385\n",
      "Epoch 5/25\n",
      "250/250 [==============================] - 83s 332ms/step - loss: 0.5138 - accuracy: 0.7437 - val_loss: 0.5498 - val_accuracy: 0.7285\n",
      "Epoch 6/25\n",
      "250/250 [==============================] - 83s 330ms/step - loss: 0.4903 - accuracy: 0.7624 - val_loss: 0.4788 - val_accuracy: 0.7780\n",
      "Epoch 7/25\n",
      "250/250 [==============================] - 83s 333ms/step - loss: 0.4715 - accuracy: 0.7724 - val_loss: 0.4676 - val_accuracy: 0.7905\n",
      "Epoch 8/25\n",
      "250/250 [==============================] - 85s 338ms/step - loss: 0.4515 - accuracy: 0.7856 - val_loss: 0.4694 - val_accuracy: 0.7810\n",
      "Epoch 9/25\n",
      "250/250 [==============================] - 85s 341ms/step - loss: 0.4399 - accuracy: 0.7894 - val_loss: 0.4423 - val_accuracy: 0.8025\n",
      "Epoch 10/25\n",
      "250/250 [==============================] - 86s 342ms/step - loss: 0.4286 - accuracy: 0.8002 - val_loss: 0.5027 - val_accuracy: 0.7715\n",
      "Epoch 11/25\n",
      "250/250 [==============================] - 85s 338ms/step - loss: 0.4136 - accuracy: 0.8105 - val_loss: 0.4584 - val_accuracy: 0.7885\n",
      "Epoch 12/25\n",
      "250/250 [==============================] - 84s 335ms/step - loss: 0.3953 - accuracy: 0.8158 - val_loss: 0.4520 - val_accuracy: 0.7955\n",
      "Epoch 13/25\n",
      "250/250 [==============================] - 84s 335ms/step - loss: 0.3858 - accuracy: 0.8259 - val_loss: 0.4702 - val_accuracy: 0.7990\n",
      "Epoch 14/25\n",
      "250/250 [==============================] - 83s 332ms/step - loss: 0.3618 - accuracy: 0.8359 - val_loss: 0.4300 - val_accuracy: 0.8270\n",
      "Epoch 15/25\n",
      "250/250 [==============================] - 82s 330ms/step - loss: 0.3558 - accuracy: 0.8407 - val_loss: 0.4596 - val_accuracy: 0.8115\n",
      "Epoch 16/25\n",
      "250/250 [==============================] - 83s 333ms/step - loss: 0.3377 - accuracy: 0.8505 - val_loss: 0.4780 - val_accuracy: 0.8090\n",
      "Epoch 17/25\n",
      "250/250 [==============================] - 81s 325ms/step - loss: 0.3270 - accuracy: 0.8546 - val_loss: 0.4779 - val_accuracy: 0.7960\n",
      "Epoch 18/25\n",
      "250/250 [==============================] - 81s 324ms/step - loss: 0.3031 - accuracy: 0.8649 - val_loss: 0.4555 - val_accuracy: 0.8060\n",
      "Epoch 19/25\n",
      "250/250 [==============================] - 82s 329ms/step - loss: 0.2923 - accuracy: 0.8784 - val_loss: 0.5087 - val_accuracy: 0.7935\n",
      "Epoch 20/25\n",
      "250/250 [==============================] - 83s 332ms/step - loss: 0.2839 - accuracy: 0.8788 - val_loss: 0.4917 - val_accuracy: 0.8085\n",
      "Epoch 21/25\n",
      "250/250 [==============================] - 84s 334ms/step - loss: 0.2774 - accuracy: 0.8814 - val_loss: 0.4622 - val_accuracy: 0.8110\n",
      "Epoch 22/25\n",
      "250/250 [==============================] - 83s 333ms/step - loss: 0.2500 - accuracy: 0.8969 - val_loss: 0.4970 - val_accuracy: 0.8160\n",
      "Epoch 23/25\n",
      "250/250 [==============================] - 82s 329ms/step - loss: 0.2487 - accuracy: 0.8936 - val_loss: 0.4802 - val_accuracy: 0.8120\n",
      "Epoch 24/25\n",
      "250/250 [==============================] - 82s 330ms/step - loss: 0.2285 - accuracy: 0.9045 - val_loss: 0.5177 - val_accuracy: 0.8065\n",
      "Epoch 25/25\n",
      "250/250 [==============================] - 83s 333ms/step - loss: 0.2206 - accuracy: 0.9107 - val_loss: 0.5243 - val_accuracy: 0.8165\n"
     ]
    },
    {
     "data": {
      "text/plain": [
       "<tensorflow.python.keras.callbacks.History at 0x7fc732562b90>"
      ]
     },
     "execution_count": 15,
     "metadata": {},
     "output_type": "execute_result"
    }
   ],
   "source": [
    "#2 Training on training set\n",
    "cnn.fit(x = training_set, validation_data = test_set, epochs = 25)"
   ]
  },
  {
   "cell_type": "code",
   "execution_count": 16,
   "id": "aware-agreement",
   "metadata": {},
   "outputs": [],
   "source": [
    "#PART D : Doing Prediction"
   ]
  },
  {
   "cell_type": "code",
   "execution_count": 38,
   "id": "robust-jungle",
   "metadata": {},
   "outputs": [
    {
     "name": "stdout",
     "output_type": "stream",
     "text": [
      "[[1.]]\n"
     ]
    }
   ],
   "source": [
    "import numpy as np\n",
    "from keras.preprocessing import image\n",
    "test_image = image.load_img('dataset/single_prediction/test3.png', target_size = (64, 64))\n",
    "test_image = image.img_to_array(test_image)\n",
    "test_image = np.expand_dims(test_image, axis = 0)\n",
    "result = cnn.predict(test_image)\n",
    "training_set.class_indices\n",
    "print(result)\n",
    "if result[0][0] == 1:\n",
    "  prediction = 'dog'\n",
    "else:\n",
    "  prediction = 'cat'"
   ]
  },
  {
   "cell_type": "code",
   "execution_count": 39,
   "id": "unauthorized-general",
   "metadata": {},
   "outputs": [
    {
     "name": "stdout",
     "output_type": "stream",
     "text": [
      "dog\n"
     ]
    }
   ],
   "source": [
    "print(prediction)"
   ]
  },
  {
   "cell_type": "code",
   "execution_count": null,
   "id": "generous-logging",
   "metadata": {},
   "outputs": [],
   "source": []
  }
 ],
 "metadata": {
  "kernelspec": {
   "display_name": "Python 3",
   "language": "python",
   "name": "python3"
  },
  "language_info": {
   "codemirror_mode": {
    "name": "ipython",
    "version": 3
   },
   "file_extension": ".py",
   "mimetype": "text/x-python",
   "name": "python",
   "nbconvert_exporter": "python",
   "pygments_lexer": "ipython3",
   "version": "3.7.9"
  }
 },
 "nbformat": 4,
 "nbformat_minor": 5
}
