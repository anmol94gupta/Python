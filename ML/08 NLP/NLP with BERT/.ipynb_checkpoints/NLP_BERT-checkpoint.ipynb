{
 "cells": [
  {
   "cell_type": "code",
   "execution_count": null,
   "id": "related-device",
   "metadata": {},
   "outputs": [],
   "source": [
    "# Dataset : http://ai.stanford.edu/~amaas/data/sentiment/aclImdb_v1.tar.gz"
   ]
  },
  {
   "cell_type": "code",
   "execution_count": 1,
   "id": "eastern-cinema",
   "metadata": {},
   "outputs": [],
   "source": [
    "# If issues with tensorflow\n",
    "# There is some issue with Macs with M1. \n",
    "# Followed the following to resolve the issue: (https://github.com/apple/tensorflow_macos/issues/48)"
   ]
  },
  {
   "cell_type": "code",
   "execution_count": 2,
   "id": "considered-switch",
   "metadata": {},
   "outputs": [],
   "source": [
    "import os.path\n",
    "import numpy as np\n",
    "import tensorflow as tf\n",
    "import ktrain\n",
    "from ktrain import text"
   ]
  },
  {
   "cell_type": "code",
   "execution_count": 3,
   "id": "finnish-printing",
   "metadata": {},
   "outputs": [],
   "source": [
    "# If issues with ktrain\n",
    "# !pip3 install ktrain"
   ]
  },
  {
   "cell_type": "code",
   "execution_count": 4,
   "id": "ranging-stephen",
   "metadata": {},
   "outputs": [],
   "source": [
    "# Loading the IMDB dataset\n",
    "dataset = tf.keras.utils.get_file(fname=\"aclImdb_v1.tar.gz\",\n",
    "                                  origin=\"http://ai.stanford.edu/~amaas/data/sentiment/aclImdb_v1.tar.gz\",\n",
    "                                  extract=True)\n",
    "IMDB_DATADIR = os.path.join(os.path.dirname(dataset), 'aclImdb')"
   ]
  },
  {
   "cell_type": "code",
   "execution_count": 5,
   "id": "czech-polls",
   "metadata": {},
   "outputs": [
    {
     "name": "stdout",
     "output_type": "stream",
     "text": [
      "/Users/anmol/.keras/datasets\n",
      "/Users/anmol/.keras/datasets/aclImdb\n"
     ]
    }
   ],
   "source": [
    "print(os.path.dirname(dataset))\n",
    "print(IMDB_DATADIR)"
   ]
  },
  {
   "cell_type": "code",
   "execution_count": 6,
   "id": "fleet-brighton",
   "metadata": {},
   "outputs": [
    {
     "name": "stdout",
     "output_type": "stream",
     "text": [
      "detected encoding: utf-8\n",
      "preprocessing train...\n",
      "language: en\n"
     ]
    },
    {
     "data": {
      "text/html": [
       "done."
      ],
      "text/plain": [
       "<IPython.core.display.HTML object>"
      ]
     },
     "metadata": {},
     "output_type": "display_data"
    },
    {
     "name": "stdout",
     "output_type": "stream",
     "text": [
      "Is Multi-Label? False\n",
      "preprocessing test...\n",
      "language: en\n"
     ]
    },
    {
     "data": {
      "text/html": [
       "done."
      ],
      "text/plain": [
       "<IPython.core.display.HTML object>"
      ]
     },
     "metadata": {},
     "output_type": "display_data"
    }
   ],
   "source": [
    "# Creating the training and test sets\n",
    "(x_train, y_train), (x_test, y_test), preproc = text.texts_from_folder(datadir=IMDB_DATADIR,\n",
    "                                                                       classes=['pos','neg'],\n",
    "                                                                       maxlen=500, # max words to take\n",
    "                                                                       train_test_names=['train','test'],\n",
    "                                                                       preprocess_mode='bert')"
   ]
  },
  {
   "cell_type": "code",
   "execution_count": 7,
   "id": "ancient-removal",
   "metadata": {},
   "outputs": [
    {
     "name": "stdout",
     "output_type": "stream",
     "text": [
      "Is Multi-Label? False\n",
      "maxlen is 500\n",
      "done.\n"
     ]
    }
   ],
   "source": [
    "# Building the BERT model\n",
    "model = text.text_classifier(name='bert', # text_classifier function from text module\n",
    "                             train_data=(x_train, y_train),\n",
    "                             preproc=preproc) # varible returned by the pretrained bert model"
   ]
  },
  {
   "cell_type": "code",
   "execution_count": 8,
   "id": "dominant-newfoundland",
   "metadata": {},
   "outputs": [],
   "source": [
    "# Training the BERT model\n",
    "learner = ktrain.get_learner(model=model, # learner instance of the bert model from ktrain library\n",
    "                             train_data=(x_train, y_train), # training data\n",
    "                             val_data=(x_test, y_test), # validation data\n",
    "                             batch_size=6)"
   ]
  },
  {
   "cell_type": "code",
   "execution_count": null,
   "id": "brave-narrow",
   "metadata": {},
   "outputs": [
    {
     "name": "stdout",
     "output_type": "stream",
     "text": [
      "\n",
      "\n",
      "begin training using onecycle policy with max lr of 2e-05...\n"
     ]
    }
   ],
   "source": [
    "learner.fit_onecycle(lr=2e-5, # from learner we get fit_onecycle. lr = learning rate = 2 times 10 raised to power -5 (already figured out by tutor, otherwise need to plot and see visually)\n",
    "                     epochs=1)"
   ]
  },
  {
   "cell_type": "raw",
   "id": "perfect-silly",
   "metadata": {},
   "source": [
    "Facing some problem in running this.\n",
    "Have put on stack overflow"
   ]
  },
  {
   "cell_type": "code",
   "execution_count": null,
   "id": "adult-worthy",
   "metadata": {},
   "outputs": [],
   "source": []
  }
 ],
 "metadata": {
  "kernelspec": {
   "display_name": "Python 3",
   "language": "python",
   "name": "python3"
  },
  "language_info": {
   "codemirror_mode": {
    "name": "ipython",
    "version": 3
   },
   "file_extension": ".py",
   "mimetype": "text/x-python",
   "name": "python",
   "nbconvert_exporter": "python",
   "pygments_lexer": "ipython3",
   "version": "3.8.5"
  }
 },
 "nbformat": 4,
 "nbformat_minor": 5
}
