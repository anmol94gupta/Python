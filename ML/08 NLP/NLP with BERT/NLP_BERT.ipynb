{
 "cells": [
  {
   "cell_type": "code",
   "execution_count": null,
   "id": "hired-grenada",
   "metadata": {},
   "outputs": [],
   "source": [
    "# Dataset : http://ai.stanford.edu/~amaas/data/sentiment/aclImdb_v1.tar.gz"
   ]
  },
  {
   "cell_type": "code",
   "execution_count": 1,
   "id": "jewish-purple",
   "metadata": {},
   "outputs": [],
   "source": [
    "# If issues with tensorflow\n",
    "# There is some issue with Macs with M1. \n",
    "# Followed the following to resolve the issue: (https://github.com/apple/tensorflow_macos/issues/48)"
   ]
  },
  {
   "cell_type": "code",
   "execution_count": 2,
   "id": "continental-rates",
   "metadata": {},
   "outputs": [],
   "source": [
    "import os.path\n",
    "import numpy as np\n",
    "import tensorflow as tf\n",
    "import ktrain\n",
    "from ktrain import text"
   ]
  },
  {
   "cell_type": "code",
   "execution_count": 3,
   "id": "pursuant-debate",
   "metadata": {},
   "outputs": [],
   "source": [
    "# If issues with ktrain\n",
    "# !pip3 install ktrain"
   ]
  },
  {
   "cell_type": "code",
   "execution_count": 4,
   "id": "found-import",
   "metadata": {},
   "outputs": [],
   "source": [
    "# Loading the IMDB dataset\n",
    "dataset = tf.keras.utils.get_file(fname=\"aclImdb_v1.tar.gz\",\n",
    "                                  origin=\"http://ai.stanford.edu/~amaas/data/sentiment/aclImdb_v1.tar.gz\",\n",
    "                                  extract=True)\n",
    "IMDB_DATADIR = os.path.join(os.path.dirname(dataset), 'aclImdb')"
   ]
  },
  {
   "cell_type": "code",
   "execution_count": 5,
   "id": "absolute-queensland",
   "metadata": {},
   "outputs": [
    {
     "name": "stdout",
     "output_type": "stream",
     "text": [
      "/Users/anmol/.keras/datasets\n",
      "/Users/anmol/.keras/datasets/aclImdb\n"
     ]
    }
   ],
   "source": [
    "print(os.path.dirname(dataset))\n",
    "print(IMDB_DATADIR)"
   ]
  },
  {
   "cell_type": "code",
   "execution_count": 6,
   "id": "racial-twenty",
   "metadata": {},
   "outputs": [
    {
     "name": "stdout",
     "output_type": "stream",
     "text": [
      "detected encoding: utf-8\n",
      "preprocessing train...\n",
      "language: en\n"
     ]
    },
    {
     "data": {
      "text/html": [
       "done."
      ],
      "text/plain": [
       "<IPython.core.display.HTML object>"
      ]
     },
     "metadata": {},
     "output_type": "display_data"
    },
    {
     "name": "stdout",
     "output_type": "stream",
     "text": [
      "Is Multi-Label? False\n",
      "preprocessing test...\n",
      "language: en\n"
     ]
    },
    {
     "data": {
      "text/html": [
       "done."
      ],
      "text/plain": [
       "<IPython.core.display.HTML object>"
      ]
     },
     "metadata": {},
     "output_type": "display_data"
    }
   ],
   "source": [
    "# Creating the training and test sets\n",
    "(x_train, y_train), (x_test, y_test), preproc = text.texts_from_folder(datadir=IMDB_DATADIR,\n",
    "                                                                       classes=['pos','neg'],\n",
    "                                                                       maxlen=500, # max words to take\n",
    "                                                                       train_test_names=['train','test'],\n",
    "                                                                       preprocess_mode='bert')"
   ]
  },
  {
   "cell_type": "code",
   "execution_count": 7,
   "id": "atmospheric-sussex",
   "metadata": {},
   "outputs": [
    {
     "name": "stdout",
     "output_type": "stream",
     "text": [
      "Is Multi-Label? False\n",
      "maxlen is 500\n",
      "done.\n"
     ]
    }
   ],
   "source": [
    "# Building the BERT model\n",
    "model = text.text_classifier(name='bert', # text_classifier function from text module\n",
    "                             train_data=(x_train, y_train),\n",
    "                             preproc=preproc) # varible returned by the pretrained bert model"
   ]
  },
  {
   "cell_type": "code",
   "execution_count": 8,
   "id": "bearing-evans",
   "metadata": {},
   "outputs": [],
   "source": [
    "# Training the BERT model\n",
    "learner = ktrain.get_learner(model=model, # learner instance of the bert model from ktrain library\n",
    "                             train_data=(x_train, y_train), # training data\n",
    "                             val_data=(x_test, y_test), # validation data\n",
    "                             batch_size=6)"
   ]
  },
  {
   "cell_type": "code",
   "execution_count": null,
   "id": "missing-commitment",
   "metadata": {},
   "outputs": [
    {
     "name": "stdout",
     "output_type": "stream",
     "text": [
      "\n",
      "\n",
      "begin training using onecycle policy with max lr of 2e-05...\n"
     ]
    }
   ],
   "source": [
    "learner.fit_onecycle(lr=2e-5, # from learner we get fit_onecycle. lr = learning rate = 2 times 10 raised to power -5 (already figured out by tutor, otherwise need to plot and see visually)\n",
    "                     epochs=1)"
   ]
  },
  {
   "cell_type": "raw",
   "id": "specific-pension",
   "metadata": {},
   "source": [
    "Facing some problem in running this.\n",
    "Have put on stack overflow"
   ]
  },
  {
   "cell_type": "code",
   "execution_count": 3,
   "id": "interpreted-intervention",
   "metadata": {},
   "outputs": [],
   "source": [
    "tree={\n",
    "  \"nodes\": [\n",
    "    {\"id\": \"1\", \"left\": \"2\", \"right\": \"3\", \"value\": 1},\n",
    "    {\"id\": \"2\", \"left\": \"4\", \"right\": \"5\", \"value\": 2},\n",
    "    {\"id\": \"3\", \"left\": \"6\", \"right\": \"7\", \"value\": 3},\n",
    "    {\"id\": \"4\", \"left\": \"8\", \"right\": \"9\", \"value\": 4},\n",
    "    {\"id\": \"5\", \"left\": None, \"right\": None, \"value\": 5},\n",
    "    {\"id\": \"6\", \"left\": None, \"right\": None, \"value\": 6},\n",
    "    {\"id\": \"7\", \"left\": None, \"right\": None, \"value\": 7},\n",
    "    {\"id\": \"8\", \"left\": None, \"right\": None, \"value\": 8},\n",
    "    {\"id\": \"9\", \"left\": None, \"right\": None, \"value\": 9}\n",
    "  ],\n",
    "  \"root\": \"1\"\n",
    "}\n",
    "\n"
   ]
  },
  {
   "cell_type": "code",
   "execution_count": 4,
   "id": "active-handbook",
   "metadata": {},
   "outputs": [],
   "source": [
    "def nodeDepths(root):\n",
    "    # Write your code here.\n",
    "\tsumm = 0\n",
    "\thelper(root,summ)\n",
    "\n",
    "def helper(root, summ):\n",
    "\tprint(root)\n",
    "\tif root is None:\n",
    "\t\treturn 0\n",
    "\t\n",
    "\trunning = summ+1\n",
    "\treturn helper(root.left, running) + helper(root.right, running) + running\n",
    "\n",
    "# This is the class of the input binary tree.\n",
    "class BinaryTree:\n",
    "    def __init__(self, value):\n",
    "        self.value = value\n",
    "        self.left = None\n",
    "        self.right = None"
   ]
  },
  {
   "cell_type": "code",
   "execution_count": 5,
   "id": "promotional-arbitration",
   "metadata": {},
   "outputs": [
    {
     "ename": "NameError",
     "evalue": "name 'root' is not defined",
     "output_type": "error",
     "traceback": [
      "\u001b[0;31m---------------------------------------------------------------------------\u001b[0m",
      "\u001b[0;31mNameError\u001b[0m                                 Traceback (most recent call last)",
      "\u001b[0;32m<ipython-input-5-3ce6657b8259>\u001b[0m in \u001b[0;36m<module>\u001b[0;34m\u001b[0m\n\u001b[0;32m----> 1\u001b[0;31m \u001b[0mnodeDepths\u001b[0m\u001b[0;34m(\u001b[0m\u001b[0mroot\u001b[0m\u001b[0;34m)\u001b[0m\u001b[0;34m\u001b[0m\u001b[0;34m\u001b[0m\u001b[0m\n\u001b[0m",
      "\u001b[0;31mNameError\u001b[0m: name 'root' is not defined"
     ]
    }
   ],
   "source": [
    "nodeDepths(root)"
   ]
  },
  {
   "cell_type": "code",
   "execution_count": null,
   "id": "later-arabic",
   "metadata": {},
   "outputs": [],
   "source": []
  }
 ],
 "metadata": {
  "kernelspec": {
   "display_name": "Python 3",
   "language": "python",
   "name": "python3"
  },
  "language_info": {
   "codemirror_mode": {
    "name": "ipython",
    "version": 3
   },
   "file_extension": ".py",
   "mimetype": "text/x-python",
   "name": "python",
   "nbconvert_exporter": "python",
   "pygments_lexer": "ipython3",
   "version": "3.8.5"
  }
 },
 "nbformat": 4,
 "nbformat_minor": 5
}
