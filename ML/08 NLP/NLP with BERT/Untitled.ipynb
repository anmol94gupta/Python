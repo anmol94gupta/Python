{
 "cells": [
  {
   "cell_type": "code",
   "execution_count": 1,
   "metadata": {},
   "outputs": [
    {
     "name": "stdout",
     "output_type": "stream",
     "text": [
      "Requirement already satisfied: pip in /Users/anmol/opt/anaconda3/envs/AG_ENV/lib/python3.8/site-packages (20.3.3)\n",
      "Requirement already satisfied: wheel in /Users/anmol/opt/anaconda3/envs/AG_ENV/lib/python3.8/site-packages (0.36.2)\n",
      "Requirement already satisfied: setuptools in /Users/anmol/opt/anaconda3/envs/AG_ENV/lib/python3.8/site-packages (52.0.0.post20210125)\n",
      "Requirement already satisfied: cached-property in /Users/anmol/opt/anaconda3/envs/AG_ENV/lib/python3.8/site-packages (1.5.2)\n",
      "Requirement already satisfied: six in /Users/anmol/opt/anaconda3/envs/AG_ENV/lib/python3.8/site-packages (1.15.0)\n",
      "Note: you may need to restart the kernel to use updated packages.\n"
     ]
    }
   ],
   "source": [
    "pip install pip wheel setuptools cached-property six"
   ]
  },
  {
   "cell_type": "code",
   "execution_count": 2,
   "metadata": {},
   "outputs": [
    {
     "name": "stdout",
     "output_type": "stream",
     "text": [
      "Processing /Users/anmol/Downloads/tensorflow_macos/x86_64/grpcio-1.33.2-cp38-cp38-macosx_10_16_x86_64.whl\n",
      "Requirement already satisfied: six>=1.5.2 in /Users/anmol/opt/anaconda3/envs/AG_ENV/lib/python3.8/site-packages (from grpcio==1.33.2) (1.15.0)\n",
      "Installing collected packages: grpcio\n",
      "  Attempting uninstall: grpcio\n",
      "    Found existing installation: grpcio 1.32.0\n",
      "    Uninstalling grpcio-1.32.0:\n",
      "      Successfully uninstalled grpcio-1.32.0\n",
      "\u001b[31mERROR: pip's dependency resolver does not currently take into account all the packages that are installed. This behaviour is the source of the following dependency conflicts.\n",
      "tensorflow-macos 0.1a0 requires grpcio~=1.32.0, but you have grpcio 1.33.2 which is incompatible.\u001b[0m\n",
      "Successfully installed grpcio-1.33.2\n",
      "Note: you may need to restart the kernel to use updated packages.\n"
     ]
    }
   ],
   "source": [
    "pip install \"/Users/anmol/Downloads/tensorflow_macos/x86_64/grpcio-1.33.2-cp38-cp38-macosx_10_16_x86_64.whl\""
   ]
  },
  {
   "cell_type": "code",
   "execution_count": 3,
   "metadata": {},
   "outputs": [
    {
     "name": "stdout",
     "output_type": "stream",
     "text": [
      "Processing /Users/anmol/Downloads/tensorflow_macos/x86_64/h5py-2.10.0-cp38-cp38-macosx_10_16_x86_64.whl\n",
      "Requirement already satisfied: six in /Users/anmol/opt/anaconda3/envs/AG_ENV/lib/python3.8/site-packages (from h5py==2.10.0) (1.15.0)\n",
      "Requirement already satisfied: numpy>=1.7 in /Users/anmol/opt/anaconda3/envs/AG_ENV/lib/python3.8/site-packages (from h5py==2.10.0) (1.19.5)\n",
      "h5py is already installed with the same version as the provided wheel. Use --force-reinstall to force an installation of the wheel.\n",
      "Note: you may need to restart the kernel to use updated packages.\n"
     ]
    }
   ],
   "source": [
    "pip install \"/Users/anmol/Downloads/tensorflow_macos/x86_64/h5py-2.10.0-cp38-cp38-macosx_10_16_x86_64.whl\""
   ]
  },
  {
   "cell_type": "code",
   "execution_count": 4,
   "metadata": {},
   "outputs": [
    {
     "name": "stdout",
     "output_type": "stream",
     "text": [
      "Processing /Users/anmol/Downloads/tensorflow_macos/x86_64/numpy-1.18.5-cp38-cp38-macosx_10_16_x86_64.whl\n",
      "Installing collected packages: numpy\n",
      "  Attempting uninstall: numpy\n",
      "    Found existing installation: numpy 1.19.5\n",
      "    Uninstalling numpy-1.19.5:\n",
      "      Successfully uninstalled numpy-1.19.5\n",
      "\u001b[31mERROR: pip's dependency resolver does not currently take into account all the packages that are installed. This behaviour is the source of the following dependency conflicts.\n",
      "tensorflow-macos 0.1a0 requires grpcio~=1.32.0, but you have grpcio 1.33.2 which is incompatible.\n",
      "tensorflow-macos 0.1a0 requires numpy~=1.19.2, but you have numpy 1.18.5 which is incompatible.\u001b[0m\n",
      "Successfully installed numpy-1.18.5\n",
      "Note: you may need to restart the kernel to use updated packages.\n"
     ]
    }
   ],
   "source": [
    "pip install \"/Users/anmol/Downloads/tensorflow_macos/x86_64/numpy-1.18.5-cp38-cp38-macosx_10_16_x86_64.whl\"\n"
   ]
  },
  {
   "cell_type": "code",
   "execution_count": 5,
   "metadata": {},
   "outputs": [
    {
     "name": "stdout",
     "output_type": "stream",
     "text": [
      "Processing /Users/anmol/Downloads/tensorflow_macos/x86_64/scipy-1.5.4-cp38-cp38-macosx_10_16_x86_64.whl\n",
      "Requirement already satisfied: numpy>=1.14.5 in /Users/anmol/opt/anaconda3/envs/AG_ENV/lib/python3.8/site-packages (from scipy==1.5.4) (1.18.5)\n",
      "scipy is already installed with the same version as the provided wheel. Use --force-reinstall to force an installation of the wheel.\n",
      "Note: you may need to restart the kernel to use updated packages.\n"
     ]
    }
   ],
   "source": [
    "pip install \"/Users/anmol/Downloads/tensorflow_macos/x86_64/scipy-1.5.4-cp38-cp38-macosx_10_16_x86_64.whl\"\n"
   ]
  },
  {
   "cell_type": "code",
   "execution_count": 6,
   "metadata": {},
   "outputs": [
    {
     "name": "stdout",
     "output_type": "stream",
     "text": [
      "Processing /Users/anmol/Downloads/tensorflow_macos/x86_64/tensorflow_addons-0.11.2+mlcompute-cp38-cp38-macosx_10_16_x86_64.whl\n",
      "Requirement already satisfied: typeguard>=2.7 in /Users/anmol/opt/anaconda3/envs/AG_ENV/lib/python3.8/site-packages (from tensorflow-addons==0.11.2+mlcompute) (2.11.1)\n",
      "tensorflow-addons is already installed with the same version as the provided wheel. Use --force-reinstall to force an installation of the wheel.\n",
      "Note: you may need to restart the kernel to use updated packages.\n"
     ]
    }
   ],
   "source": [
    "pip install \"/Users/anmol/Downloads/tensorflow_macos/x86_64/tensorflow_addons-0.11.2+mlcompute-cp38-cp38-macosx_10_16_x86_64.whl\""
   ]
  },
  {
   "cell_type": "code",
   "execution_count": 7,
   "metadata": {},
   "outputs": [
    {
     "name": "stdout",
     "output_type": "stream",
     "text": [
      "Requirement already satisfied: absl-py in /Users/anmol/opt/anaconda3/envs/AG_ENV/lib/python3.8/site-packages (0.11.0)\n",
      "Requirement already satisfied: astunparse in /Users/anmol/opt/anaconda3/envs/AG_ENV/lib/python3.8/site-packages (1.6.3)\n",
      "Requirement already satisfied: flatbuffers in /Users/anmol/opt/anaconda3/envs/AG_ENV/lib/python3.8/site-packages (1.12)\n",
      "Requirement already satisfied: gast in /Users/anmol/opt/anaconda3/envs/AG_ENV/lib/python3.8/site-packages (0.3.3)\n",
      "Requirement already satisfied: google_pasta in /Users/anmol/opt/anaconda3/envs/AG_ENV/lib/python3.8/site-packages (0.2.0)\n",
      "Requirement already satisfied: keras_preprocessing in /Users/anmol/opt/anaconda3/envs/AG_ENV/lib/python3.8/site-packages (1.1.2)\n",
      "Requirement already satisfied: opt_einsum in /Users/anmol/opt/anaconda3/envs/AG_ENV/lib/python3.8/site-packages (3.3.0)\n",
      "Requirement already satisfied: protobuf in /Users/anmol/opt/anaconda3/envs/AG_ENV/lib/python3.8/site-packages (3.13.0)\n",
      "Requirement already satisfied: tensorflow_estimator in /Users/anmol/opt/anaconda3/envs/AG_ENV/lib/python3.8/site-packages (2.3.0)\n",
      "Requirement already satisfied: termcolor in /Users/anmol/opt/anaconda3/envs/AG_ENV/lib/python3.8/site-packages (1.1.0)\n",
      "Requirement already satisfied: typing_extensions in /Users/anmol/opt/anaconda3/envs/AG_ENV/lib/python3.8/site-packages (3.7.4.3)\n",
      "Requirement already satisfied: wrapt in /Users/anmol/opt/anaconda3/envs/AG_ENV/lib/python3.8/site-packages (1.12.1)\n",
      "Requirement already satisfied: wheel in /Users/anmol/opt/anaconda3/envs/AG_ENV/lib/python3.8/site-packages (0.36.2)\n",
      "Requirement already satisfied: tensorboard in /Users/anmol/opt/anaconda3/envs/AG_ENV/lib/python3.8/site-packages (2.4.1)\n",
      "Requirement already satisfied: typeguard in /Users/anmol/opt/anaconda3/envs/AG_ENV/lib/python3.8/site-packages (2.11.1)\n",
      "Requirement already satisfied: six in /Users/anmol/opt/anaconda3/envs/AG_ENV/lib/python3.8/site-packages (from absl-py) (1.15.0)\n",
      "Requirement already satisfied: numpy>=1.9.1 in /Users/anmol/opt/anaconda3/envs/AG_ENV/lib/python3.8/site-packages (from keras_preprocessing) (1.18.5)\n",
      "Requirement already satisfied: setuptools in /Users/anmol/opt/anaconda3/envs/AG_ENV/lib/python3.8/site-packages (from protobuf) (52.0.0.post20210125)\n",
      "Requirement already satisfied: tensorboard-plugin-wit>=1.6.0 in /Users/anmol/opt/anaconda3/envs/AG_ENV/lib/python3.8/site-packages (from tensorboard) (1.8.0)\n",
      "Requirement already satisfied: google-auth<2,>=1.6.3 in /Users/anmol/opt/anaconda3/envs/AG_ENV/lib/python3.8/site-packages (from tensorboard) (1.27.0)\n",
      "Requirement already satisfied: werkzeug>=0.11.15 in /Users/anmol/opt/anaconda3/envs/AG_ENV/lib/python3.8/site-packages (from tensorboard) (1.0.1)\n",
      "Requirement already satisfied: google-auth-oauthlib<0.5,>=0.4.1 in /Users/anmol/opt/anaconda3/envs/AG_ENV/lib/python3.8/site-packages (from tensorboard) (0.4.2)\n",
      "Requirement already satisfied: markdown>=2.6.8 in /Users/anmol/opt/anaconda3/envs/AG_ENV/lib/python3.8/site-packages (from tensorboard) (3.3.3)\n",
      "Requirement already satisfied: requests<3,>=2.21.0 in /Users/anmol/opt/anaconda3/envs/AG_ENV/lib/python3.8/site-packages (from tensorboard) (2.25.1)\n",
      "Requirement already satisfied: grpcio>=1.24.3 in /Users/anmol/opt/anaconda3/envs/AG_ENV/lib/python3.8/site-packages (from tensorboard) (1.33.2)\n",
      "Requirement already satisfied: cachetools<5.0,>=2.0.0 in /Users/anmol/opt/anaconda3/envs/AG_ENV/lib/python3.8/site-packages (from google-auth<2,>=1.6.3->tensorboard) (4.2.1)\n",
      "Requirement already satisfied: rsa<5,>=3.1.4 in /Users/anmol/opt/anaconda3/envs/AG_ENV/lib/python3.8/site-packages (from google-auth<2,>=1.6.3->tensorboard) (4.7.1)\n",
      "Requirement already satisfied: pyasn1-modules>=0.2.1 in /Users/anmol/opt/anaconda3/envs/AG_ENV/lib/python3.8/site-packages (from google-auth<2,>=1.6.3->tensorboard) (0.2.8)\n",
      "Requirement already satisfied: requests-oauthlib>=0.7.0 in /Users/anmol/opt/anaconda3/envs/AG_ENV/lib/python3.8/site-packages (from google-auth-oauthlib<0.5,>=0.4.1->tensorboard) (1.3.0)\n",
      "Requirement already satisfied: pyasn1<0.5.0,>=0.4.6 in /Users/anmol/opt/anaconda3/envs/AG_ENV/lib/python3.8/site-packages (from pyasn1-modules>=0.2.1->google-auth<2,>=1.6.3->tensorboard) (0.4.8)\n",
      "Requirement already satisfied: idna<3,>=2.5 in /Users/anmol/opt/anaconda3/envs/AG_ENV/lib/python3.8/site-packages (from requests<3,>=2.21.0->tensorboard) (2.10)\n",
      "Requirement already satisfied: chardet<5,>=3.0.2 in /Users/anmol/opt/anaconda3/envs/AG_ENV/lib/python3.8/site-packages (from requests<3,>=2.21.0->tensorboard) (4.0.0)\n",
      "Requirement already satisfied: certifi>=2017.4.17 in /Users/anmol/opt/anaconda3/envs/AG_ENV/lib/python3.8/site-packages (from requests<3,>=2.21.0->tensorboard) (2020.12.5)\n",
      "Requirement already satisfied: urllib3<1.27,>=1.21.1 in /Users/anmol/opt/anaconda3/envs/AG_ENV/lib/python3.8/site-packages (from requests<3,>=2.21.0->tensorboard) (1.26.3)\n",
      "Requirement already satisfied: oauthlib>=3.0.0 in /Users/anmol/opt/anaconda3/envs/AG_ENV/lib/python3.8/site-packages (from requests-oauthlib>=0.7.0->google-auth-oauthlib<0.5,>=0.4.1->tensorboard) (3.1.0)\n",
      "Note: you may need to restart the kernel to use updated packages.\n"
     ]
    }
   ],
   "source": [
    "pip install absl-py astunparse flatbuffers gast google_pasta keras_preprocessing opt_einsum protobuf tensorflow_estimator termcolor typing_extensions wrapt wheel tensorboard typeguard"
   ]
  },
  {
   "cell_type": "code",
   "execution_count": 8,
   "metadata": {},
   "outputs": [
    {
     "name": "stdout",
     "output_type": "stream",
     "text": [
      "Processing /Users/anmol/Downloads/tensorflow_macos/x86_64/tensorflow_macos-0.1a0-cp38-cp38-macosx_10_16_x86_64.whl\n",
      "Requirement already satisfied: wrapt~=1.12.1 in /Users/anmol/opt/anaconda3/envs/AG_ENV/lib/python3.8/site-packages (from tensorflow-macos==0.1a0) (1.12.1)\n",
      "Requirement already satisfied: tensorboard~=2.3 in /Users/anmol/opt/anaconda3/envs/AG_ENV/lib/python3.8/site-packages (from tensorflow-macos==0.1a0) (2.4.1)\n",
      "Requirement already satisfied: opt-einsum~=3.3.0 in /Users/anmol/opt/anaconda3/envs/AG_ENV/lib/python3.8/site-packages (from tensorflow-macos==0.1a0) (3.3.0)\n",
      "Requirement already satisfied: absl-py~=0.10 in /Users/anmol/opt/anaconda3/envs/AG_ENV/lib/python3.8/site-packages (from tensorflow-macos==0.1a0) (0.11.0)\n",
      "Requirement already satisfied: six~=1.15.0 in /Users/anmol/opt/anaconda3/envs/AG_ENV/lib/python3.8/site-packages (from tensorflow-macos==0.1a0) (1.15.0)\n",
      "Requirement already satisfied: h5py~=2.10.0 in /Users/anmol/opt/anaconda3/envs/AG_ENV/lib/python3.8/site-packages (from tensorflow-macos==0.1a0) (2.10.0)\n",
      "Requirement already satisfied: wheel~=0.35 in /Users/anmol/opt/anaconda3/envs/AG_ENV/lib/python3.8/site-packages (from tensorflow-macos==0.1a0) (0.36.2)\n",
      "Requirement already satisfied: termcolor~=1.1.0 in /Users/anmol/opt/anaconda3/envs/AG_ENV/lib/python3.8/site-packages (from tensorflow-macos==0.1a0) (1.1.0)\n",
      "Requirement already satisfied: gast==0.3.3 in /Users/anmol/opt/anaconda3/envs/AG_ENV/lib/python3.8/site-packages (from tensorflow-macos==0.1a0) (0.3.3)\n",
      "Requirement already satisfied: tensorflow-estimator~=2.3.0 in /Users/anmol/opt/anaconda3/envs/AG_ENV/lib/python3.8/site-packages (from tensorflow-macos==0.1a0) (2.3.0)\n",
      "Requirement already satisfied: protobuf~=3.13.0 in /Users/anmol/opt/anaconda3/envs/AG_ENV/lib/python3.8/site-packages (from tensorflow-macos==0.1a0) (3.13.0)\n",
      "Requirement already satisfied: keras-preprocessing~=1.1.2 in /Users/anmol/opt/anaconda3/envs/AG_ENV/lib/python3.8/site-packages (from tensorflow-macos==0.1a0) (1.1.2)\n",
      "Requirement already satisfied: google-pasta~=0.2 in /Users/anmol/opt/anaconda3/envs/AG_ENV/lib/python3.8/site-packages (from tensorflow-macos==0.1a0) (0.2.0)\n",
      "Requirement already satisfied: typing-extensions~=3.7.4 in /Users/anmol/opt/anaconda3/envs/AG_ENV/lib/python3.8/site-packages (from tensorflow-macos==0.1a0) (3.7.4.3)\n",
      "Requirement already satisfied: astunparse~=1.6.3 in /Users/anmol/opt/anaconda3/envs/AG_ENV/lib/python3.8/site-packages (from tensorflow-macos==0.1a0) (1.6.3)\n",
      "Requirement already satisfied: flatbuffers~=1.12.0 in /Users/anmol/opt/anaconda3/envs/AG_ENV/lib/python3.8/site-packages (from tensorflow-macos==0.1a0) (1.12)\n",
      "Collecting grpcio~=1.32.0\n",
      "  Using cached grpcio-1.32.0-cp38-cp38-macosx_10_9_x86_64.whl (3.3 MB)\n",
      "Collecting numpy~=1.19.2\n",
      "  Using cached numpy-1.19.5-cp38-cp38-macosx_10_9_x86_64.whl (15.6 MB)\n",
      "Requirement already satisfied: setuptools in /Users/anmol/opt/anaconda3/envs/AG_ENV/lib/python3.8/site-packages (from protobuf~=3.13.0->tensorflow-macos==0.1a0) (52.0.0.post20210125)\n",
      "Requirement already satisfied: requests<3,>=2.21.0 in /Users/anmol/opt/anaconda3/envs/AG_ENV/lib/python3.8/site-packages (from tensorboard~=2.3->tensorflow-macos==0.1a0) (2.25.1)\n",
      "Requirement already satisfied: tensorboard-plugin-wit>=1.6.0 in /Users/anmol/opt/anaconda3/envs/AG_ENV/lib/python3.8/site-packages (from tensorboard~=2.3->tensorflow-macos==0.1a0) (1.8.0)\n",
      "Requirement already satisfied: google-auth-oauthlib<0.5,>=0.4.1 in /Users/anmol/opt/anaconda3/envs/AG_ENV/lib/python3.8/site-packages (from tensorboard~=2.3->tensorflow-macos==0.1a0) (0.4.2)\n",
      "Requirement already satisfied: werkzeug>=0.11.15 in /Users/anmol/opt/anaconda3/envs/AG_ENV/lib/python3.8/site-packages (from tensorboard~=2.3->tensorflow-macos==0.1a0) (1.0.1)\n",
      "Requirement already satisfied: markdown>=2.6.8 in /Users/anmol/opt/anaconda3/envs/AG_ENV/lib/python3.8/site-packages (from tensorboard~=2.3->tensorflow-macos==0.1a0) (3.3.3)\n",
      "Requirement already satisfied: google-auth<2,>=1.6.3 in /Users/anmol/opt/anaconda3/envs/AG_ENV/lib/python3.8/site-packages (from tensorboard~=2.3->tensorflow-macos==0.1a0) (1.27.0)\n",
      "Requirement already satisfied: cachetools<5.0,>=2.0.0 in /Users/anmol/opt/anaconda3/envs/AG_ENV/lib/python3.8/site-packages (from google-auth<2,>=1.6.3->tensorboard~=2.3->tensorflow-macos==0.1a0) (4.2.1)\n",
      "Requirement already satisfied: rsa<5,>=3.1.4 in /Users/anmol/opt/anaconda3/envs/AG_ENV/lib/python3.8/site-packages (from google-auth<2,>=1.6.3->tensorboard~=2.3->tensorflow-macos==0.1a0) (4.7.1)\n",
      "Requirement already satisfied: pyasn1-modules>=0.2.1 in /Users/anmol/opt/anaconda3/envs/AG_ENV/lib/python3.8/site-packages (from google-auth<2,>=1.6.3->tensorboard~=2.3->tensorflow-macos==0.1a0) (0.2.8)\n",
      "Requirement already satisfied: requests-oauthlib>=0.7.0 in /Users/anmol/opt/anaconda3/envs/AG_ENV/lib/python3.8/site-packages (from google-auth-oauthlib<0.5,>=0.4.1->tensorboard~=2.3->tensorflow-macos==0.1a0) (1.3.0)\n",
      "Requirement already satisfied: pyasn1<0.5.0,>=0.4.6 in /Users/anmol/opt/anaconda3/envs/AG_ENV/lib/python3.8/site-packages (from pyasn1-modules>=0.2.1->google-auth<2,>=1.6.3->tensorboard~=2.3->tensorflow-macos==0.1a0) (0.4.8)\n",
      "Requirement already satisfied: idna<3,>=2.5 in /Users/anmol/opt/anaconda3/envs/AG_ENV/lib/python3.8/site-packages (from requests<3,>=2.21.0->tensorboard~=2.3->tensorflow-macos==0.1a0) (2.10)\n",
      "Requirement already satisfied: urllib3<1.27,>=1.21.1 in /Users/anmol/opt/anaconda3/envs/AG_ENV/lib/python3.8/site-packages (from requests<3,>=2.21.0->tensorboard~=2.3->tensorflow-macos==0.1a0) (1.26.3)\n",
      "Requirement already satisfied: chardet<5,>=3.0.2 in /Users/anmol/opt/anaconda3/envs/AG_ENV/lib/python3.8/site-packages (from requests<3,>=2.21.0->tensorboard~=2.3->tensorflow-macos==0.1a0) (4.0.0)\n",
      "Requirement already satisfied: certifi>=2017.4.17 in /Users/anmol/opt/anaconda3/envs/AG_ENV/lib/python3.8/site-packages (from requests<3,>=2.21.0->tensorboard~=2.3->tensorflow-macos==0.1a0) (2020.12.5)\n",
      "Requirement already satisfied: oauthlib>=3.0.0 in /Users/anmol/opt/anaconda3/envs/AG_ENV/lib/python3.8/site-packages (from requests-oauthlib>=0.7.0->google-auth-oauthlib<0.5,>=0.4.1->tensorboard~=2.3->tensorflow-macos==0.1a0) (3.1.0)\n",
      "tensorflow-macos is already installed with the same version as the provided wheel. Use --force-reinstall to force an installation of the wheel.\n",
      "Installing collected packages: numpy, grpcio\n",
      "  Attempting uninstall: numpy\n",
      "    Found existing installation: numpy 1.18.5\n",
      "    Uninstalling numpy-1.18.5:\n",
      "      Successfully uninstalled numpy-1.18.5\n",
      "  Attempting uninstall: grpcio\n",
      "    Found existing installation: grpcio 1.33.2\n",
      "    Uninstalling grpcio-1.33.2:\n",
      "      Successfully uninstalled grpcio-1.33.2\n",
      "Successfully installed grpcio-1.32.0 numpy-1.19.5\n",
      "Note: you may need to restart the kernel to use updated packages.\n"
     ]
    }
   ],
   "source": [
    "pip install \"/Users/anmol/Downloads/tensorflow_macos/x86_64/tensorflow_macos-0.1a0-cp38-cp38-macosx_10_16_x86_64.whl\""
   ]
  },
  {
   "cell_type": "code",
   "execution_count": null,
   "metadata": {},
   "outputs": [],
   "source": []
  }
 ],
 "metadata": {
  "kernelspec": {
   "display_name": "Python 3",
   "language": "python",
   "name": "python3"
  },
  "language_info": {
   "codemirror_mode": {
    "name": "ipython",
    "version": 3
   },
   "file_extension": ".py",
   "mimetype": "text/x-python",
   "name": "python",
   "nbconvert_exporter": "python",
   "pygments_lexer": "ipython3",
   "version": "3.8.5"
  }
 },
 "nbformat": 4,
 "nbformat_minor": 4
}
