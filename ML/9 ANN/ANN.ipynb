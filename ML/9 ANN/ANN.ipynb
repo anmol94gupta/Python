{
 "cells": [
  {
   "cell_type": "code",
   "execution_count": 1,
   "metadata": {},
   "outputs": [],
   "source": [
    "import numpy as np\n",
    "import pandas as pd"
   ]
  },
  {
   "cell_type": "code",
   "execution_count": 2,
   "metadata": {},
   "outputs": [],
   "source": [
    "import tensorflow as tf"
   ]
  },
  {
   "cell_type": "code",
   "execution_count": 3,
   "metadata": {},
   "outputs": [
    {
     "data": {
      "text/plain": [
       "'2.0.0'"
      ]
     },
     "execution_count": 3,
     "metadata": {},
     "output_type": "execute_result"
    }
   ],
   "source": [
    "tf.__version__"
   ]
  },
  {
   "cell_type": "code",
   "execution_count": 4,
   "metadata": {},
   "outputs": [],
   "source": [
    "dataset = pd.read_csv('Churn_Data.csv')\n",
    "X = dataset.iloc[:, 3:-1].values\n",
    "y = dataset.iloc[:, -1].values"
   ]
  },
  {
   "cell_type": "code",
   "execution_count": 5,
   "metadata": {},
   "outputs": [],
   "source": [
    "# print(X)"
   ]
  },
  {
   "cell_type": "code",
   "execution_count": 6,
   "metadata": {},
   "outputs": [],
   "source": [
    "# print(y)"
   ]
  },
  {
   "cell_type": "code",
   "execution_count": 7,
   "metadata": {},
   "outputs": [],
   "source": [
    "# Label Encoding the \"Gender\" column\n",
    "from sklearn.preprocessing import LabelEncoder\n",
    "le = LabelEncoder()\n",
    "X[:, 2] = le.fit_transform(X[:, 2])"
   ]
  },
  {
   "cell_type": "code",
   "execution_count": 8,
   "metadata": {},
   "outputs": [],
   "source": [
    "# One Hot Encoding the \"Geography\" column\n",
    "from sklearn.compose import ColumnTransformer\n",
    "from sklearn.preprocessing import OneHotEncoder\n",
    "ct = ColumnTransformer(transformers=[('encoder', OneHotEncoder(), [1])], remainder='passthrough')\n",
    "X = np.array(ct.fit_transform(X))"
   ]
  },
  {
   "cell_type": "code",
   "execution_count": 9,
   "metadata": {},
   "outputs": [],
   "source": [
    "# print(X)"
   ]
  },
  {
   "cell_type": "code",
   "execution_count": 10,
   "metadata": {},
   "outputs": [],
   "source": [
    "# Splitting\n",
    "from sklearn.model_selection import train_test_split\n",
    "X_train, X_test, y_train, y_test = train_test_split(X, y, test_size = 0.2, random_state = 0)"
   ]
  },
  {
   "cell_type": "code",
   "execution_count": 11,
   "metadata": {},
   "outputs": [],
   "source": [
    "# Feature Scaling\n",
    "from sklearn.preprocessing import StandardScaler\n",
    "sc = StandardScaler()\n",
    "X_train = sc.fit_transform(X_train)\n",
    "X_test = sc.transform(X_test)"
   ]
  },
  {
   "cell_type": "markdown",
   "metadata": {},
   "source": [
    "## ANN "
   ]
  },
  {
   "cell_type": "code",
   "execution_count": 12,
   "metadata": {},
   "outputs": [],
   "source": [
    "# Initializing the ANN\n",
    "ann = tf.keras.models.Sequential()"
   ]
  },
  {
   "cell_type": "code",
   "execution_count": 13,
   "metadata": {},
   "outputs": [],
   "source": [
    "# Adding the input layer and the first hidden layer. Rectifier Activation Function = relu = Rectifier Linear Unit\n",
    "ann.add(tf.keras.layers.Dense(units=6, activation='relu'))"
   ]
  },
  {
   "cell_type": "code",
   "execution_count": 14,
   "metadata": {},
   "outputs": [],
   "source": [
    "# Adding the second hidden layer\n",
    "ann.add(tf.keras.layers.Dense(units=6, activation='relu'))"
   ]
  },
  {
   "cell_type": "code",
   "execution_count": 15,
   "metadata": {},
   "outputs": [],
   "source": [
    "# Adding the output layer\n",
    "ann.add(tf.keras.layers.Dense(units=1, activation='sigmoid'))\n",
    "#Activation = sigmoid for binary, softmax for multiple"
   ]
  },
  {
   "cell_type": "markdown",
   "metadata": {},
   "source": [
    "## Training "
   ]
  },
  {
   "cell_type": "code",
   "execution_count": 21,
   "metadata": {},
   "outputs": [],
   "source": [
    "# Compiling the ANN\n",
    "ann.compile(optimizer = 'adam', loss = 'binary_crossentropy', metrics = ['accuracy'])\n",
    "#Optimizer : Stochastic gradient descent : Adam\n",
    "#Loss : For Binary outcomes : binary_crossentropy, For Different outcomes : categorical_crossentropy\n",
    "#Metrics : on what parameter we need to check : accuracy"
   ]
  },
  {
   "cell_type": "code",
   "execution_count": 17,
   "metadata": {},
   "outputs": [
    {
     "name": "stdout",
     "output_type": "stream",
     "text": [
      "Train on 8000 samples\n",
      "Epoch 1/100\n",
      "8000/8000 [==============================] - 1s 85us/sample - loss: 0.5507 - accuracy: 0.7623\n",
      "Epoch 2/100\n",
      "8000/8000 [==============================] - 0s 27us/sample - loss: 0.4750 - accuracy: 0.7959\n",
      "Epoch 3/100\n",
      "8000/8000 [==============================] - 0s 27us/sample - loss: 0.4513 - accuracy: 0.7960\n",
      "Epoch 4/100\n",
      "8000/8000 [==============================] - 0s 27us/sample - loss: 0.4381 - accuracy: 0.8021\n",
      "Epoch 5/100\n",
      "8000/8000 [==============================] - 0s 26us/sample - loss: 0.4296 - accuracy: 0.8087\n",
      "Epoch 6/100\n",
      "8000/8000 [==============================] - 0s 27us/sample - loss: 0.4225 - accuracy: 0.8130\n",
      "Epoch 7/100\n",
      "8000/8000 [==============================] - 0s 29us/sample - loss: 0.4128 - accuracy: 0.8186\n",
      "Epoch 8/100\n",
      "8000/8000 [==============================] - 0s 28us/sample - loss: 0.4006 - accuracy: 0.8251\n",
      "Epoch 9/100\n",
      "8000/8000 [==============================] - 0s 27us/sample - loss: 0.3898 - accuracy: 0.8261\n",
      "Epoch 10/100\n",
      "8000/8000 [==============================] - 0s 31us/sample - loss: 0.3817 - accuracy: 0.8259\n",
      "Epoch 11/100\n",
      "8000/8000 [==============================] - 0s 31us/sample - loss: 0.3770 - accuracy: 0.8274\n",
      "Epoch 12/100\n",
      "8000/8000 [==============================] - 0s 29us/sample - loss: 0.3726 - accuracy: 0.8275\n",
      "Epoch 13/100\n",
      "8000/8000 [==============================] - 0s 26us/sample - loss: 0.3695 - accuracy: 0.8328\n",
      "Epoch 14/100\n",
      "8000/8000 [==============================] - 0s 26us/sample - loss: 0.3668 - accuracy: 0.8457\n",
      "Epoch 15/100\n",
      "8000/8000 [==============================] - 0s 30us/sample - loss: 0.3644 - accuracy: 0.8504\n",
      "Epoch 16/100\n",
      "8000/8000 [==============================] - 0s 29us/sample - loss: 0.3627 - accuracy: 0.8519\n",
      "Epoch 17/100\n",
      "8000/8000 [==============================] - 0s 28us/sample - loss: 0.3608 - accuracy: 0.8530\n",
      "Epoch 18/100\n",
      "8000/8000 [==============================] - 0s 30us/sample - loss: 0.3603 - accuracy: 0.8547\n",
      "Epoch 19/100\n",
      "8000/8000 [==============================] - 0s 29us/sample - loss: 0.3589 - accuracy: 0.8561\n",
      "Epoch 20/100\n",
      "8000/8000 [==============================] - 0s 27us/sample - loss: 0.3577 - accuracy: 0.8560\n",
      "Epoch 21/100\n",
      "8000/8000 [==============================] - 0s 28us/sample - loss: 0.3569 - accuracy: 0.8581\n",
      "Epoch 22/100\n",
      "8000/8000 [==============================] - 0s 27us/sample - loss: 0.3567 - accuracy: 0.8587\n",
      "Epoch 23/100\n",
      "8000/8000 [==============================] - 0s 27us/sample - loss: 0.3554 - accuracy: 0.8586\n",
      "Epoch 24/100\n",
      "8000/8000 [==============================] - 0s 27us/sample - loss: 0.3546 - accuracy: 0.8575\n",
      "Epoch 25/100\n",
      "8000/8000 [==============================] - 0s 28us/sample - loss: 0.3538 - accuracy: 0.8591\n",
      "Epoch 26/100\n",
      "8000/8000 [==============================] - 0s 27us/sample - loss: 0.3532 - accuracy: 0.8590\n",
      "Epoch 27/100\n",
      "8000/8000 [==============================] - 0s 28us/sample - loss: 0.3528 - accuracy: 0.8602\n",
      "Epoch 28/100\n",
      "8000/8000 [==============================] - 0s 28us/sample - loss: 0.3519 - accuracy: 0.8600\n",
      "Epoch 29/100\n",
      "8000/8000 [==============================] - 0s 27us/sample - loss: 0.3514 - accuracy: 0.8609\n",
      "Epoch 30/100\n",
      "8000/8000 [==============================] - 0s 28us/sample - loss: 0.3505 - accuracy: 0.8604\n",
      "Epoch 31/100\n",
      "8000/8000 [==============================] - 0s 29us/sample - loss: 0.3501 - accuracy: 0.8610\n",
      "Epoch 32/100\n",
      "8000/8000 [==============================] - 0s 28us/sample - loss: 0.3496 - accuracy: 0.8611\n",
      "Epoch 33/100\n",
      "8000/8000 [==============================] - 0s 29us/sample - loss: 0.3485 - accuracy: 0.8608\n",
      "Epoch 34/100\n",
      "8000/8000 [==============================] - 0s 28us/sample - loss: 0.3486 - accuracy: 0.8601\n",
      "Epoch 35/100\n",
      "8000/8000 [==============================] - 0s 27us/sample - loss: 0.3485 - accuracy: 0.8602\n",
      "Epoch 36/100\n",
      "8000/8000 [==============================] - 0s 33us/sample - loss: 0.3478 - accuracy: 0.8605\n",
      "Epoch 37/100\n",
      "8000/8000 [==============================] - 0s 28us/sample - loss: 0.3477 - accuracy: 0.8602\n",
      "Epoch 38/100\n",
      "8000/8000 [==============================] - 0s 30us/sample - loss: 0.3470 - accuracy: 0.8620\n",
      "Epoch 39/100\n",
      "8000/8000 [==============================] - 0s 27us/sample - loss: 0.3466 - accuracy: 0.8619\n",
      "Epoch 40/100\n",
      "8000/8000 [==============================] - 0s 27us/sample - loss: 0.3460 - accuracy: 0.8624\n",
      "Epoch 41/100\n",
      "8000/8000 [==============================] - 0s 26us/sample - loss: 0.3458 - accuracy: 0.8627\n",
      "Epoch 42/100\n",
      "8000/8000 [==============================] - 0s 29us/sample - loss: 0.3454 - accuracy: 0.8616\n",
      "Epoch 43/100\n",
      "8000/8000 [==============================] - 0s 31us/sample - loss: 0.3455 - accuracy: 0.8609\n",
      "Epoch 44/100\n",
      "8000/8000 [==============================] - 0s 28us/sample - loss: 0.3449 - accuracy: 0.8624\n",
      "Epoch 45/100\n",
      "8000/8000 [==============================] - 0s 28us/sample - loss: 0.3450 - accuracy: 0.8629\n",
      "Epoch 46/100\n",
      "8000/8000 [==============================] - 0s 29us/sample - loss: 0.3445 - accuracy: 0.8596\n",
      "Epoch 47/100\n",
      "8000/8000 [==============================] - 0s 27us/sample - loss: 0.3439 - accuracy: 0.8630\n",
      "Epoch 48/100\n",
      "8000/8000 [==============================] - 0s 27us/sample - loss: 0.3438 - accuracy: 0.8624\n",
      "Epoch 49/100\n",
      "8000/8000 [==============================] - 0s 27us/sample - loss: 0.3436 - accuracy: 0.8630\n",
      "Epoch 50/100\n",
      "8000/8000 [==============================] - 0s 27us/sample - loss: 0.3433 - accuracy: 0.8626\n",
      "Epoch 51/100\n",
      "8000/8000 [==============================] - 0s 27us/sample - loss: 0.3429 - accuracy: 0.8615\n",
      "Epoch 52/100\n",
      "8000/8000 [==============================] - 0s 27us/sample - loss: 0.3429 - accuracy: 0.8656\n",
      "Epoch 53/100\n",
      "8000/8000 [==============================] - 0s 27us/sample - loss: 0.3427 - accuracy: 0.8634\n",
      "Epoch 54/100\n",
      "8000/8000 [==============================] - 0s 29us/sample - loss: 0.3427 - accuracy: 0.8625\n",
      "Epoch 55/100\n",
      "8000/8000 [==============================] - 0s 29us/sample - loss: 0.3423 - accuracy: 0.8633\n",
      "Epoch 56/100\n",
      "8000/8000 [==============================] - 0s 30us/sample - loss: 0.3419 - accuracy: 0.8641\n",
      "Epoch 57/100\n",
      "8000/8000 [==============================] - 0s 28us/sample - loss: 0.3420 - accuracy: 0.8631\n",
      "Epoch 58/100\n",
      "8000/8000 [==============================] - 0s 29us/sample - loss: 0.3419 - accuracy: 0.8659\n",
      "Epoch 59/100\n",
      "8000/8000 [==============================] - 0s 30us/sample - loss: 0.3413 - accuracy: 0.8631\n",
      "Epoch 60/100\n",
      "8000/8000 [==============================] - 0s 31us/sample - loss: 0.3411 - accuracy: 0.8630\n",
      "Epoch 61/100\n",
      "8000/8000 [==============================] - 0s 31us/sample - loss: 0.3412 - accuracy: 0.8648\n",
      "Epoch 62/100\n",
      "8000/8000 [==============================] - 0s 30us/sample - loss: 0.3410 - accuracy: 0.8629\n",
      "Epoch 63/100\n",
      "8000/8000 [==============================] - 0s 31us/sample - loss: 0.3410 - accuracy: 0.8624\n",
      "Epoch 64/100\n",
      "8000/8000 [==============================] - 0s 30us/sample - loss: 0.3408 - accuracy: 0.8640\n",
      "Epoch 65/100\n",
      "8000/8000 [==============================] - 0s 30us/sample - loss: 0.3404 - accuracy: 0.8630\n",
      "Epoch 66/100\n",
      "8000/8000 [==============================] - 0s 31us/sample - loss: 0.3403 - accuracy: 0.8627\n",
      "Epoch 67/100\n",
      "8000/8000 [==============================] - 0s 30us/sample - loss: 0.3404 - accuracy: 0.8648\n",
      "Epoch 68/100\n",
      "8000/8000 [==============================] - 0s 32us/sample - loss: 0.3399 - accuracy: 0.8626\n",
      "Epoch 69/100\n",
      "8000/8000 [==============================] - 0s 30us/sample - loss: 0.3404 - accuracy: 0.8633\n",
      "Epoch 70/100\n",
      "8000/8000 [==============================] - 0s 31us/sample - loss: 0.3396 - accuracy: 0.8648\n",
      "Epoch 71/100\n",
      "8000/8000 [==============================] - 0s 30us/sample - loss: 0.3399 - accuracy: 0.8634\n",
      "Epoch 72/100\n",
      "8000/8000 [==============================] - 0s 32us/sample - loss: 0.3399 - accuracy: 0.8635\n",
      "Epoch 73/100\n",
      "8000/8000 [==============================] - 0s 32us/sample - loss: 0.3402 - accuracy: 0.8624\n",
      "Epoch 74/100\n",
      "8000/8000 [==============================] - 0s 30us/sample - loss: 0.3395 - accuracy: 0.8640\n",
      "Epoch 75/100\n",
      "8000/8000 [==============================] - 0s 29us/sample - loss: 0.3395 - accuracy: 0.8644\n",
      "Epoch 76/100\n",
      "8000/8000 [==============================] - 0s 32us/sample - loss: 0.3395 - accuracy: 0.8627\n",
      "Epoch 77/100\n",
      "8000/8000 [==============================] - 0s 37us/sample - loss: 0.3393 - accuracy: 0.8621s - loss: 0.3399 - accuracy: 0.86\n",
      "Epoch 78/100\n",
      "8000/8000 [==============================] - 0s 29us/sample - loss: 0.3393 - accuracy: 0.8631\n",
      "Epoch 79/100\n",
      "8000/8000 [==============================] - 0s 31us/sample - loss: 0.3392 - accuracy: 0.8625\n",
      "Epoch 80/100\n",
      "8000/8000 [==============================] - 0s 29us/sample - loss: 0.3392 - accuracy: 0.8619\n",
      "Epoch 81/100\n",
      "8000/8000 [==============================] - 0s 28us/sample - loss: 0.3390 - accuracy: 0.8636\n",
      "Epoch 82/100\n",
      "8000/8000 [==============================] - 0s 30us/sample - loss: 0.3392 - accuracy: 0.8625\n",
      "Epoch 83/100\n",
      "8000/8000 [==============================] - 0s 28us/sample - loss: 0.3391 - accuracy: 0.8633\n",
      "Epoch 84/100\n",
      "8000/8000 [==============================] - 0s 29us/sample - loss: 0.3389 - accuracy: 0.8626\n",
      "Epoch 85/100\n",
      "8000/8000 [==============================] - 0s 28us/sample - loss: 0.3389 - accuracy: 0.8630\n",
      "Epoch 86/100\n",
      "8000/8000 [==============================] - 0s 29us/sample - loss: 0.3383 - accuracy: 0.8626\n",
      "Epoch 87/100\n",
      "8000/8000 [==============================] - 0s 28us/sample - loss: 0.3387 - accuracy: 0.8634\n",
      "Epoch 88/100\n",
      "8000/8000 [==============================] - 0s 28us/sample - loss: 0.3390 - accuracy: 0.8629\n",
      "Epoch 89/100\n",
      "8000/8000 [==============================] - 0s 29us/sample - loss: 0.3386 - accuracy: 0.8620\n",
      "Epoch 90/100\n",
      "8000/8000 [==============================] - 0s 28us/sample - loss: 0.3381 - accuracy: 0.8611\n",
      "Epoch 91/100\n",
      "8000/8000 [==============================] - 0s 28us/sample - loss: 0.3382 - accuracy: 0.8619\n",
      "Epoch 92/100\n",
      "8000/8000 [==============================] - 0s 27us/sample - loss: 0.3386 - accuracy: 0.8625\n",
      "Epoch 93/100\n",
      "8000/8000 [==============================] - 0s 28us/sample - loss: 0.3385 - accuracy: 0.8610\n",
      "Epoch 94/100\n",
      "8000/8000 [==============================] - 0s 28us/sample - loss: 0.3380 - accuracy: 0.8627\n",
      "Epoch 95/100\n",
      "8000/8000 [==============================] - 0s 28us/sample - loss: 0.3383 - accuracy: 0.8637\n",
      "Epoch 96/100\n",
      "8000/8000 [==============================] - 0s 28us/sample - loss: 0.3378 - accuracy: 0.8637\n",
      "Epoch 97/100\n",
      "8000/8000 [==============================] - 0s 28us/sample - loss: 0.3381 - accuracy: 0.8622\n",
      "Epoch 98/100\n",
      "8000/8000 [==============================] - 0s 27us/sample - loss: 0.3381 - accuracy: 0.8624\n",
      "Epoch 99/100\n",
      "8000/8000 [==============================] - 0s 28us/sample - loss: 0.3382 - accuracy: 0.8624\n",
      "Epoch 100/100\n",
      "8000/8000 [==============================] - 0s 28us/sample - loss: 0.3374 - accuracy: 0.8620\n"
     ]
    },
    {
     "data": {
      "text/plain": [
       "<tensorflow.python.keras.callbacks.History at 0x7fbc602d2f50>"
      ]
     },
     "execution_count": 17,
     "metadata": {},
     "output_type": "execute_result"
    }
   ],
   "source": [
    "# Training Start\n",
    "ann.fit(X_train, y_train, batch_size = 32, epochs = 100)\n",
    "# we are doing batch learning of 32"
   ]
  },
  {
   "cell_type": "raw",
   "metadata": {},
   "source": [
    "Testing on:\n",
    "Geography: France\n",
    "Credit Score: 600\n",
    "Gender: Male\n",
    "Age: 40 years old\n",
    "Tenure: 3 years\n",
    "Balance: $ 60000\n",
    "Number of Products: 2\n",
    "Does this customer have a credit card ? Yes\n",
    "Is this customer an Active Member: Yes\n",
    "Estimated Salary: \\$ 50000"
   ]
  },
  {
   "cell_type": "code",
   "execution_count": 18,
   "metadata": {},
   "outputs": [
    {
     "name": "stdout",
     "output_type": "stream",
     "text": [
      "[[False]]\n"
     ]
    }
   ],
   "source": [
    "print(ann.predict(sc.transform([[1, 0, 0, 600, 1, 40, 3, 60000, 2, 1, 1, 50000]])) > 0.5)\n",
    "# Remember : Input array to be [[]]"
   ]
  },
  {
   "cell_type": "code",
   "execution_count": 19,
   "metadata": {},
   "outputs": [
    {
     "name": "stdout",
     "output_type": "stream",
     "text": [
      "[[0 0]\n",
      " [0 1]\n",
      " [0 0]\n",
      " ...\n",
      " [0 0]\n",
      " [0 0]\n",
      " [0 0]]\n"
     ]
    }
   ],
   "source": [
    "# Prediction of the test set\n",
    "y_pred = ann.predict(X_test)\n",
    "y_pred = (y_pred > 0.5)\n",
    "print(np.concatenate((y_pred.reshape(len(y_pred),1), y_test.reshape(len(y_test),1)),1))"
   ]
  },
  {
   "cell_type": "code",
   "execution_count": 23,
   "metadata": {},
   "outputs": [
    {
     "name": "stdout",
     "output_type": "stream",
     "text": [
      "[[1490  105]\n",
      " [ 184  221]]\n"
     ]
    },
    {
     "data": {
      "text/plain": [
       "0.8555"
      ]
     },
     "execution_count": 23,
     "metadata": {},
     "output_type": "execute_result"
    }
   ],
   "source": [
    "# Confusion matrix\n",
    "from sklearn.metrics import confusion_matrix, accuracy_score\n",
    "cm = confusion_matrix(y_test, y_pred)\n",
    "print(cm)\n",
    "accuracy_score(y_test, y_pred)"
   ]
  },
  {
   "cell_type": "raw",
   "metadata": {},
   "source": [
    "A - Correct stays\n",
    "B - Correct leave\n",
    "A'- Incorrect leaves\n",
    "B'- Incorrect stays"
   ]
  }
 ],
 "metadata": {
  "kernelspec": {
   "display_name": "Python 3",
   "language": "python",
   "name": "python3"
  },
  "language_info": {
   "codemirror_mode": {
    "name": "ipython",
    "version": 3
   },
   "file_extension": ".py",
   "mimetype": "text/x-python",
   "name": "python",
   "nbconvert_exporter": "python",
   "pygments_lexer": "ipython3",
   "version": "3.7.9"
  }
 },
 "nbformat": 4,
 "nbformat_minor": 4
}
