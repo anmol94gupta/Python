{
 "cells": [
  {
   "cell_type": "code",
   "execution_count": 1,
   "metadata": {},
   "outputs": [],
   "source": [
    "# Number of possible hidden messages\n",
    "# Assuming a=1, b=2,.....z=26, given a number like 12 find out number of possible messages this can have\n",
    "# 12 = ab and 12 = l => Total 2 possibilities"
   ]
  },
  {
   "cell_type": "code",
   "execution_count": 13,
   "metadata": {},
   "outputs": [],
   "source": [
    "def helper(data, k):\n",
    "    if k == 0:\n",
    "        return 1\n",
    "    s= len(data)-k\n",
    "    if data[s] == '0':\n",
    "        return 0\n",
    "    result = helper(data, k-1)\n",
    "    if k > 2 and int(data[s:s+2]):\n",
    "        result += helper(data, k-2)\n",
    "    return result\n",
    "    \n",
    "def numways(data):\n",
    "    return helper(data, len(data))    "
   ]
  },
  {
   "cell_type": "code",
   "execution_count": 20,
   "metadata": {},
   "outputs": [
    {
     "data": {
      "text/plain": [
       "2"
      ]
     },
     "execution_count": 20,
     "metadata": {},
     "output_type": "execute_result"
    }
   ],
   "source": [
    "numways(\"123\")\n",
    "#abc, l, w -> 3"
   ]
  },
  {
   "cell_type": "code",
   "execution_count": 21,
   "metadata": {},
   "outputs": [
    {
     "data": {
      "text/plain": [
       "1"
      ]
     },
     "execution_count": 21,
     "metadata": {},
     "output_type": "execute_result"
    }
   ],
   "source": [
    "numways(\"12\")\n",
    "#abc, l -> 2"
   ]
  }
 ],
 "metadata": {
  "kernelspec": {
   "display_name": "Python 3",
   "language": "python",
   "name": "python3"
  },
  "language_info": {
   "codemirror_mode": {
    "name": "ipython",
    "version": 3
   },
   "file_extension": ".py",
   "mimetype": "text/x-python",
   "name": "python",
   "nbconvert_exporter": "python",
   "pygments_lexer": "ipython3",
   "version": "3.7.6"
  }
 },
 "nbformat": 4,
 "nbformat_minor": 4
}
